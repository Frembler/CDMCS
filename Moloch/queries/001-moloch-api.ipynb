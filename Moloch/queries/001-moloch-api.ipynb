{
 "cells": [
  {
   "cell_type": "markdown",
   "metadata": {},
   "source": [
    "# Setting connection params\n",
    "\n",
    "Please adjust IP and user/pass if you are connecting to anything other than singlehost. Or if your singlehost has another IP."
   ]
  },
  {
   "cell_type": "code",
   "execution_count": 37,
   "metadata": {},
   "outputs": [],
   "source": [
    "singlehost=\"192.168.10.11\"\n",
    "buildbox=\"192.168.10.12\"\n",
    "apibox=\"192.168.10.13\"\n",
    "molo_host = singlehost\n",
    "ela_host = singlehost"
   ]
  },
  {
   "cell_type": "code",
   "execution_count": 38,
   "metadata": {},
   "outputs": [],
   "source": [
    "user = \"vagrant\"\n",
    "passwd = \"vagrant\""
   ]
  },
  {
   "cell_type": "code",
   "execution_count": 39,
   "metadata": {},
   "outputs": [
    {
     "data": {
      "text/plain": [
       "'http://192.168.10.11:8005'"
      ]
     },
     "execution_count": 39,
     "metadata": {},
     "output_type": "execute_result"
    }
   ],
   "source": [
    "molo_conn_string = \"http://{}:8005\".format(molo_host)\n",
    "molo_conn_string"
   ]
  },
  {
   "cell_type": "code",
   "execution_count": 40,
   "metadata": {},
   "outputs": [],
   "source": [
    "ela_conn_string = \"http://{}:9200\".format(ela_host)"
   ]
  },
  {
   "cell_type": "code",
   "execution_count": 41,
   "metadata": {},
   "outputs": [],
   "source": [
    "class Get():\n",
    "    CONN_JSON      = \"connections.json\"\n",
    "    CONN_CSV       = \"connections.csv\"\n",
    "    FILES          = \"file/list\"\n",
    "    SESS_JSON      = \"sessions.json\"\n",
    "    SESS_CSV       = \"sessions.csv\"\n",
    "    SESS_PCAP      = \"sessions.pcap\"\n",
    "    SPI_GRAPH_JSON = \"spigraph.json\"\n",
    "    SPI_VIEW_JSON  = \"spiview.json\"\n",
    "    UNIQ           = \"unique.txt\"\n",
    "    \n",
    "class Post():\n",
    "    TAGS_ADD       = \"addTags\"\n",
    "    TAGS_REM       = \"removeTags\""
   ]
  },
  {
   "cell_type": "markdown",
   "metadata": {},
   "source": [
    "# Listing available fields in moloch database"
   ]
  },
  {
   "cell_type": "code",
   "execution_count": 42,
   "metadata": {},
   "outputs": [],
   "source": [
    "from elasticsearch import Elasticsearch"
   ]
  },
  {
   "cell_type": "code",
   "execution_count": 43,
   "metadata": {},
   "outputs": [
    {
     "data": {
      "text/plain": [
       "True"
      ]
     },
     "execution_count": 43,
     "metadata": {},
     "output_type": "execute_result"
    }
   ],
   "source": [
    "es = Elasticsearch(hosts=[ela_conn_string])\n",
    "es.ping()"
   ]
  },
  {
   "cell_type": "code",
   "execution_count": null,
   "metadata": {},
   "outputs": [],
   "source": []
  }
 ],
 "metadata": {
  "kernelspec": {
   "display_name": "Python 3",
   "language": "python",
   "name": "python3"
  },
  "language_info": {
   "codemirror_mode": {
    "name": "ipython",
    "version": 3
   },
   "file_extension": ".py",
   "mimetype": "text/x-python",
   "name": "python",
   "nbconvert_exporter": "python",
   "pygments_lexer": "ipython3",
   "version": "3.6.7"
  }
 },
 "nbformat": 4,
 "nbformat_minor": 2
}
