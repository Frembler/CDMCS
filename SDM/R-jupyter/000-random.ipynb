{
 "cells": [
  {
   "cell_type": "markdown",
   "metadata": {},
   "source": [
    "# random snippets\n",
    "\n",
    "## load multiple csv files and rowbind into R matrix"
   ]
  },
  {
   "cell_type": "code",
   "execution_count": 2,
   "metadata": {},
   "outputs": [
    {
     "name": "stdout",
     "output_type": "stream",
     "text": [
      "[1] \"loading data from CSV files\"\n",
      "[1] \"/home/jovyan/data/mk/timeseries/2.csv\"\n",
      "[1] \"/home/jovyan/data/mk/timeseries/3.csv\"\n",
      "[1] \"/home/jovyan/data/mk/timeseries/4.csv\"\n",
      "[1] \"/home/jovyan/data/mk/timeseries/5.csv\"\n",
      "[1] \"/home/jovyan/data/mk/timeseries/6.csv\"\n",
      "[1] \"/home/jovyan/data/mk/timeseries/7.csv\"\n"
     ]
    }
   ],
   "source": [
    "print(\"loading data from CSV files\")\n",
    "\n",
    "BASE <- \"/home/jovyan/data/mk/timeseries/\"\n",
    "dataPath <- function(x){\n",
    "  return(paste(c(BASE, x, \".csv\"), collapse = \"\"))\n",
    "}\n",
    "\n",
    "\n",
    "d <- read.csv(dataPath(1))\n",
    "\n",
    "for ( i in 2:7){\n",
    "  path <- dataPath(i)\n",
    "  print(path)\n",
    "  d <- rbind(d, read.csv(path))\n",
    "  gc()\n",
    "}"
   ]
  },
  {
   "cell_type": "code",
   "execution_count": null,
   "metadata": {},
   "outputs": [],
   "source": []
  }
 ],
 "metadata": {
  "kernelspec": {
   "display_name": "R",
   "language": "R",
   "name": "ir"
  },
  "language_info": {
   "codemirror_mode": "r",
   "file_extension": ".r",
   "mimetype": "text/x-r-source",
   "name": "R",
   "pygments_lexer": "r",
   "version": "3.3.2"
  }
 },
 "nbformat": 4,
 "nbformat_minor": 2
}
