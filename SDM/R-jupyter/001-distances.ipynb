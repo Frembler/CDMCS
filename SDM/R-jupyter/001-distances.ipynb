{
 "cells": [
  {
   "cell_type": "markdown",
   "metadata": {},
   "source": [
    "# Distance function basics\n",
    "\n",
    "* Metrics measure distance between two items\n",
    "* Norms measure size of something\n",
    "\n",
    "## Eucledian distance\n",
    "\n",
    "The most basic distance function in vector space, based on Pythagorean Theorem. $$d = \\sqrt{(x_2 - x_1)^2 + (y_2 - y_1)^2}$$"
   ]
  },
  {
   "cell_type": "code",
   "execution_count": 52,
   "metadata": {},
   "outputs": [
    {
     "name": "stdout",
     "output_type": "stream",
     "text": [
      "  x y\n",
      "A 1 2\n",
      "B 5 9\n",
      "[1] 8.062258\n"
     ]
    }
   ],
   "source": [
    "A <- c(1,2)\n",
    "B <- c(5,9)\n",
    "dims <- c(\"x\", \"y\")\n",
    "\n",
    "m <- rbind(A, B)\n",
    "colnames(m) <- dims\n",
    "print(m)\n",
    "\n",
    "d <- sqrt((5-1)^2 + (9-2)^2)\n",
    "print(d)"
   ]
  },
  {
   "cell_type": "markdown",
   "metadata": {},
   "source": [
    "When applied to 3-dimensional space, the distance can be calculated as such:\n",
    "\n",
    "$$d = \\sqrt{(x_2 - x_1)^2 + (y_2 - y_1)^2 + (z_2 - z_1)^2}$$\n",
    "\n",
    "Thus, generalized formula for eucledian discance in N-dimensional space can be defined as follows\n",
    "\n",
    "$$ d(a, b) = \\sqrt{\\sum_{i=1}^{n} (a_i - b_i)^2} $$\n",
    "\n",
    "When implemented in R, the code should look something like this -"
   ]
  },
  {
   "cell_type": "code",
   "execution_count": 56,
   "metadata": {},
   "outputs": [],
   "source": [
    "myEucledian <- function(A, B) {\n",
    "  sum <- 0\n",
    "  for(i in seq(along=A)) {\n",
    "    sum <- sum + (A[i] - B[i])^2\n",
    "  }\n",
    "  return(sqrt(sum))\n",
    "}"
   ]
  },
  {
   "cell_type": "markdown",
   "metadata": {},
   "source": [
    ">Note that all examples in this file, such as the one above, are horribly bad because for loops in R are bad (and the author should feel bad)."
   ]
  },
  {
   "cell_type": "code",
   "execution_count": 62,
   "metadata": {},
   "outputs": [],
   "source": [
    "myFastEucledian <- function(A, B) {\n",
    "  return(sqrt(sum(( A - B )^2)))\n",
    "}"
   ]
  },
  {
   "cell_type": "markdown",
   "metadata": {},
   "source": [
    "> This variation should be several orders of magnitude faster than first, depending on data amount. Everything in R is a vector, so applying functions over entire arrays is always faster than iterating."
   ]
  },
  {
   "cell_type": "code",
   "execution_count": 65,
   "metadata": {
    "scrolled": true
   },
   "outputs": [
    {
     "name": "stdout",
     "output_type": "stream",
     "text": [
      "[1] 8.062258\n"
     ]
    }
   ],
   "source": [
    "d <- myEucledian(A, B)\n",
    "print(d)"
   ]
  },
  {
   "cell_type": "code",
   "execution_count": 66,
   "metadata": {},
   "outputs": [
    {
     "name": "stdout",
     "output_type": "stream",
     "text": [
      "[1] 8.062258\n"
     ]
    }
   ],
   "source": [
    "d <- myFastEucledian(A, B)\n",
    "print(d)"
   ]
  },
  {
   "cell_type": "code",
   "execution_count": 28,
   "metadata": {},
   "outputs": [
    {
     "name": "stdout",
     "output_type": "stream",
     "text": [
      "  x y z\n",
      "A 2 7 4\n",
      "B 3 4 5\n",
      "[1] 3.316625\n"
     ]
    }
   ],
   "source": [
    "A <- c(2,7,4)\n",
    "B <- c(3,4,5)\n",
    "dims <- c(\"x\", \"y\", \"z\")\n",
    "\n",
    "m <- rbind(A, B)\n",
    "colnames(m) <- dims\n",
    "print(m)\n",
    "\n",
    "d <- myEucledian(A, B)\n",
    "print(d)"
   ]
  },
  {
   "cell_type": "markdown",
   "metadata": {},
   "source": [
    "## Manhattan distance\n",
    "\n",
    "Sometimes the most direct path from point A to point B is not a straight line. Think taxycab that has to drive around buildings.\n",
    "\n",
    "$$ d(a, b) = \\sum_{i=1}^{n} \\lvert a_i - b_i \\lvert $$"
   ]
  },
  {
   "cell_type": "code",
   "execution_count": 29,
   "metadata": {},
   "outputs": [],
   "source": [
    "myManhattan <- function(A, B) {\n",
    "  sum <- 0\n",
    "  for(i in seq(along=A)) {\n",
    "    sum <- sum + abs(A[i] - B[i])\n",
    "  }\n",
    "  return(sum)\n",
    "}"
   ]
  },
  {
   "cell_type": "code",
   "execution_count": 30,
   "metadata": {},
   "outputs": [
    {
     "name": "stdout",
     "output_type": "stream",
     "text": [
      "[1] 5\n"
     ]
    }
   ],
   "source": [
    "d <- myManhattan(A, B)\n",
    "print(d)"
   ]
  },
  {
   "cell_type": "markdown",
   "metadata": {},
   "source": [
    "## Chebyshev distance\n",
    "\n",
    "Also known as \"chessboard distance\" where distance between two points is the greatest possible move size. Think chessboard where pieces can jump in any direction but moveset is limited.\n",
    "\n",
    "$$ d(a, b) = \\lim(\\sum_{i=1}^{n}\\lvert a_i - b_i \\lvert^k)^{1/k} $$\n",
    "\n",
    "$$ d(a, b) = max_i(\\lvert  a_i - b_i \\lvert) $$\n",
    "\n",
    "Given two 3-dimensional vectors, the distance can be calculated as such\n",
    "\n",
    "$$ d = max(\\lvert x_2 - x_1 \\lvert, \\lvert y_2 - y_1 \\lvert, \\lvert z_2 - z_1 \\lvert) $$"
   ]
  },
  {
   "cell_type": "code",
   "execution_count": 31,
   "metadata": {},
   "outputs": [
    {
     "name": "stdout",
     "output_type": "stream",
     "text": [
      "  x y z\n",
      "A 2 7 4\n",
      "B 3 4 5\n",
      "[1] 3\n"
     ]
    }
   ],
   "source": [
    "print(m)\n",
    "d <- max( abs(3 - 2), abs(4 - 7), abs(5 - 4) )\n",
    "print(d)"
   ]
  },
  {
   "cell_type": "code",
   "execution_count": 32,
   "metadata": {},
   "outputs": [
    {
     "name": "stdout",
     "output_type": "stream",
     "text": [
      "[1] 0\n"
     ]
    }
   ],
   "source": [
    "# implement your own R function here\n",
    "myCheb <- function(A, B) {\n",
    "    dist <- 0\n",
    "    return(dist)\n",
    "}\n",
    "\n",
    "d <- myCheb(A, B)\n",
    "print(d)"
   ]
  },
  {
   "cell_type": "markdown",
   "metadata": {},
   "source": [
    "## Canberra distance\n",
    "\n",
    "Canberra distance is a weighted version of Manhattan distance, often used for comparing ranked lists. Distance between Canberra and Sydney might be significant for an Estonian but not for locals who are used to vast distances between cities.\n",
    "\n",
    "$$ d(a, b) = \\sum_{i=1}^{n} \\frac{\\lvert a_i - b_i \\lvert}{\\lvert a_i \\lvert + \\lvert b_i \\lvert} $$"
   ]
  },
  {
   "cell_type": "code",
   "execution_count": 33,
   "metadata": {},
   "outputs": [
    {
     "name": "stdout",
     "output_type": "stream",
     "text": [
      "[1] 0.5838384\n"
     ]
    }
   ],
   "source": [
    "d <- sum( ( abs(3 - 2) / ( abs(3) + abs(2) ) ), ( abs(4 - 7) / ( abs(4) + abs(7) ) ), ( abs(5 - 4) / ( abs(5) + abs(4)) ) )\n",
    "print(d)"
   ]
  },
  {
   "cell_type": "code",
   "execution_count": 34,
   "metadata": {},
   "outputs": [
    {
     "name": "stdout",
     "output_type": "stream",
     "text": [
      "[1] 0\n"
     ]
    }
   ],
   "source": [
    "# implement your own R function here\n",
    "myCanberra <- function(A, B) {\n",
    "    dist <- 0\n",
    "    return(dist)\n",
    "}\n",
    "\n",
    "d <- myCanberra(A, B)\n",
    "print(d)"
   ]
  },
  {
   "cell_type": "markdown",
   "metadata": {},
   "source": [
    "## Mahalanobis distance\n",
    "\n",
    "Mahalanobis distance measures the distance between a point P and distribution D, essentially showing how many standard deviations a point differs from mean in multidimensional space. This idea can be used to measure dissimilarity between two vectors within the same distribution.\n",
    "\n",
    "$$ d(a, b) = \\sqrt{(a - b)^T COV^{-1} (a - b)} $$\n",
    "\n",
    "Note that $COV^{-1}$ stands for inverse covariance matrix of all points withing background distribution. For example, lets assume that points A and B belong to random 3-dimensional standard distribution D that comprises of 100 data points."
   ]
  },
  {
   "cell_type": "code",
   "execution_count": 35,
   "metadata": {},
   "outputs": [
    {
     "name": "stdout",
     "output_type": "stream",
     "text": [
      "           [,1]       [,2]        [,3]\n",
      "[1,]  1.7819684 -11.695889  -1.5531352\n",
      "[2,]  2.7990776   5.950729   7.1502873\n",
      "[3,]  2.0419121  -2.344449 -11.2954418\n",
      "[4,] -2.4738280   7.063585   1.8512567\n",
      "[5,]  4.7426826  -2.773901  -0.1034971\n",
      "[6,] -0.6072806   7.415074   4.6681085\n"
     ]
    }
   ],
   "source": [
    "N = 3\n",
    "M = 100\n",
    "D <- matrix( rnorm(M*N,mean=0,sd=5), M, N)\n",
    "print(head(D))"
   ]
  },
  {
   "cell_type": "markdown",
   "metadata": {},
   "source": [
    "We can then calculate the inverse covariance matrix."
   ]
  },
  {
   "cell_type": "code",
   "execution_count": 36,
   "metadata": {},
   "outputs": [
    {
     "name": "stdout",
     "output_type": "stream",
     "text": [
      "           [,1]       [,2]       [,3]\n",
      "[1,] 17.6744080 -0.4693897 -0.1983896\n",
      "[2,] -0.4693897 25.8167688  2.4011243\n",
      "[3,] -0.1983896  2.4011243 23.5927539\n",
      "             [,1]          [,2]          [,3]\n",
      "[1,] 0.0566095973  0.0009943911  0.0003748225\n",
      "[2,] 0.0009943911  0.0391221311 -0.0039732464\n",
      "[3,] 0.0003748225 -0.0039732464  0.0427934197\n"
     ]
    }
   ],
   "source": [
    "COV <- cov( D )\n",
    "invCOV <- solve( COV )\n",
    "print(COV)\n",
    "print(invCOV)"
   ]
  },
  {
   "cell_type": "code",
   "execution_count": 37,
   "metadata": {},
   "outputs": [],
   "source": [
    "# myMahal(c(1,2), c(2,3), solve(cov(matr)))\n",
    "myMahal <- function(A, B, invCOV) {\n",
    "  diff = A - B\n",
    "  dist = sqrt( t(diff) %*% invCOV %*% diff )\n",
    "  return(dist)\n",
    "}"
   ]
  },
  {
   "cell_type": "code",
   "execution_count": 38,
   "metadata": {},
   "outputs": [
    {
     "name": "stdout",
     "output_type": "stream",
     "text": [
      "          [,1]\n",
      "[1,] 0.6856566\n"
     ]
    }
   ],
   "source": [
    "d <- myMahal(A, B, invCOV)\n",
    "print(d)"
   ]
  },
  {
   "cell_type": "markdown",
   "metadata": {},
   "source": [
    "Note that we have to multiply the transpose of deriviative, in addition to deriviative itself. Luckily R makes transpose operation very simple to use."
   ]
  },
  {
   "cell_type": "code",
   "execution_count": 39,
   "metadata": {},
   "outputs": [
    {
     "name": "stdout",
     "output_type": "stream",
     "text": [
      "  x y z\n",
      "A 2 7 4\n",
      "B 3 4 5\n"
     ]
    }
   ],
   "source": [
    "print(m)"
   ]
  },
  {
   "cell_type": "code",
   "execution_count": 40,
   "metadata": {},
   "outputs": [
    {
     "name": "stdout",
     "output_type": "stream",
     "text": [
      "  A B\n",
      "x 2 3\n",
      "y 7 4\n",
      "z 4 5\n"
     ]
    }
   ],
   "source": [
    "print(t(m))"
   ]
  },
  {
   "cell_type": "markdown",
   "metadata": {},
   "source": [
    "## Cosine distance\n",
    "\n",
    "Prior distance measures are primarily designed for working in numerical vector spaces. However, this does not translate well into text data mining applications for obvious reasons. A common trick in text mining is to create a \"bag of words\" and apply cosine distance on it. Imagine that our example 3-dimensional vectors represent two distinct documents. Data dimensions would in this case represent word counts per document."
   ]
  },
  {
   "cell_type": "code",
   "execution_count": 41,
   "metadata": {},
   "outputs": [
    {
     "name": "stdout",
     "output_type": "stream",
     "text": [
      "     yes no maybe\n",
      "doc1   2  7     4\n",
      "doc2   3  4     5\n"
     ]
    }
   ],
   "source": [
    "words <- c(\"yes\", \"no\", \"maybe\")\n",
    "documents <- c(\"doc1\", \"doc2\")\n",
    "\n",
    "colnames(m) <- words\n",
    "rownames(m) <- documents\n",
    "\n",
    "print(m)"
   ]
  },
  {
   "cell_type": "markdown",
   "metadata": {},
   "source": [
    "Cosine distance, or rather cosine similarity, is based on the idea that $\\cos(90) = 0$ while $\\cos(0) = 1$. In other words, parallel vectors are identical while orthogonal vectors are distinct. Thus, when applied on bag of words, we are able to convert textual documents to high dimensional vector space and apply standard data mining methods that would otherwise be unsuitable for string input.\n",
    "\n",
    "Cosine similarity formula is defined as ratio between dot product and magnitude of vectors.\n",
    "\n",
    "$$ s(a, b) = \\frac{a \\cdot b}{\\lvert \\lvert a \\lvert \\lvert \\lvert \\lvert b \\lvert \\lvert} = \\frac{ \\sum_{i=1}^{n}a_i b_i }{\\sqrt{\\sum_{i=1}^{n}a_i^2} \\sqrt{\\sum_{i=1}^{n}b_i^2 } } $$\n",
    "\n",
    "The result does not conform to all metric requirements as result can be between -1 and 1, and input vectors must be positive values. However, as word counts can only be $\\ge 0$. Thus, an easy way to measure distance between two documents is to calculate inverse cosine similarity.\n",
    "\n",
    "$$ d(a, b) = 1 - s(a, b) $$"
   ]
  },
  {
   "cell_type": "code",
   "execution_count": 42,
   "metadata": {},
   "outputs": [],
   "source": [
    "# implement cosine distance here\n",
    "myCosine <- function(A, B) {\n",
    "    dist <- 0\n",
    "    return(dist)\n",
    "}"
   ]
  },
  {
   "cell_type": "markdown",
   "metadata": {},
   "source": [
    "## Jaccard distance\n",
    "\n",
    "Jaccard similarity and distance calculation is similar to cosine method. However, it calculates the ratio between intersection and union between two documents. In other words, the number of words that two documents have in common divided by number of words total.\n",
    "\n",
    "$$ d(a, b) = 1 - \\frac{ a \\cap b }{a \\cup b}  $$\n",
    "\n",
    "Let us add another word into example dataset."
   ]
  },
  {
   "cell_type": "code",
   "execution_count": 43,
   "metadata": {},
   "outputs": [
    {
     "name": "stdout",
     "output_type": "stream",
     "text": [
      "     yes no maybe ok\n",
      "doc1   2  7     4  0\n",
      "doc2   3  4     5  3\n"
     ]
    }
   ],
   "source": [
    "ok <- c(0, 3)\n",
    "m2 <- cbind(m, ok)\n",
    "print(m2)"
   ]
  },
  {
   "cell_type": "markdown",
   "metadata": {},
   "source": [
    "We are only concerned if word exists or not, no need for counts."
   ]
  },
  {
   "cell_type": "code",
   "execution_count": 44,
   "metadata": {},
   "outputs": [
    {
     "name": "stdout",
     "output_type": "stream",
     "text": [
      "     yes no maybe ok\n",
      "doc1   1  1     1  0\n",
      "doc2   1  1     1  1\n"
     ]
    }
   ],
   "source": [
    "exists <- ifelse(m2 > 0, 1, 0)\n",
    "print(exists)"
   ]
  },
  {
   "cell_type": "markdown",
   "metadata": {},
   "source": [
    "Now we need a count of total unique words and words common in both documents. Since R is mostly concerned with numerics, then most existing funcitons returned union or intersect elements, as opposed to their counts. So I wrote my own simple function to check weather variance of vector is 0 (all elements identical) or not."
   ]
  },
  {
   "cell_type": "code",
   "execution_count": 45,
   "metadata": {},
   "outputs": [
    {
     "name": "stdout",
     "output_type": "stream",
     "text": [
      "[1] 4\n",
      "  yes    no maybe    ok \n",
      " TRUE  TRUE  TRUE FALSE \n"
     ]
    }
   ],
   "source": [
    "uniq <- length(unique(colnames(exists)))\n",
    "\n",
    "isEqual <- function(x){\n",
    "    if ( var(x) == 0 ) {\n",
    "        return(TRUE)\n",
    "    } else {\n",
    "        return(FALSE)\n",
    "    }\n",
    "}\n",
    "\n",
    "common <- apply(exists, 2, isEqual)\n",
    "print(uniq)\n",
    "print(common)"
   ]
  },
  {
   "cell_type": "code",
   "execution_count": 46,
   "metadata": {},
   "outputs": [
    {
     "name": "stdout",
     "output_type": "stream",
     "text": [
      "[1] 0.25\n"
     ]
    }
   ],
   "source": [
    "d <- 1 - ( length(which(common)) / uniq )\n",
    "print(d)"
   ]
  },
  {
   "cell_type": "markdown",
   "metadata": {},
   "source": [
    ">Note that apply funciton was used over matrix columns instead of iterating with for loop because this approach is a lot faster in R."
   ]
  },
  {
   "cell_type": "markdown",
   "metadata": {},
   "source": [
    "## Distance matrix\n",
    "\n",
    "In practice, you will often need to calculate pariwise distnces for all data points for all data points. Unless you are implementing previously discussed algorithms from scratch in a low level language like C, Go or Rust, it is advisable to generate this distance matrix with a efficient method. Especially in R.\n",
    "\n",
    "Lets generate a 2-dimensional data set with 5 points as an example."
   ]
  },
  {
   "cell_type": "code",
   "execution_count": 50,
   "metadata": {},
   "outputs": [
    {
     "name": "stdout",
     "output_type": "stream",
     "text": [
      "            [,1]       [,2]\n",
      "[1,]  0.51729492  2.0714601\n",
      "[2,]  0.71985143 -0.5008309\n",
      "[3,] -0.18652803 -1.2514882\n",
      "[4,]  0.04535522  0.4863680\n",
      "[5,]  0.39581585  0.7171594\n"
     ]
    }
   ],
   "source": [
    "set.seed = 42\n",
    "points <- 5\n",
    "data <- rnorm(points*2, mean=c(0,0), 1)\n",
    "data <- matrix(data, ncol=2, nrow=points)\n",
    "print(head(data))"
   ]
  },
  {
   "cell_type": "code",
   "execution_count": 51,
   "metadata": {},
   "outputs": [
    {
     "name": "stdout",
     "output_type": "stream",
     "text": [
      "          1         2         3         4         5\n",
      "1 0.0000000                                        \n",
      "2 2.5802538 0.0000000                              \n",
      "3 3.3966678 1.1768646 0.0000000                    \n",
      "4 1.6538573 1.1956198 1.7532581 0.0000000          \n",
      "5 1.3597381 1.2603568 2.0529729 0.4196276 0.0000000\n"
     ]
    }
   ],
   "source": [
    "eucDistMatrix <- dist(data, method = \"euclidean\", diag = TRUE)\n",
    "print(eucDistMatrix)"
   ]
  },
  {
   "cell_type": "markdown",
   "metadata": {},
   "source": [
    "Notice that distance to itself is always zero. Furthermore, only lower or upper triangle needs to be populated as distance between two points can always be measured from either direction while the result will be the same, provided that chosen distance funciton satisfies one of the four metric requirements.\n",
    "\n",
    "Non-negativity\n",
    "$$ d(a, b) \\ge 0 $$\n",
    "\n",
    "Identity of indiscernibles\n",
    "$$ d(a, a) = 0 $$\n",
    "$$ d(b, b) = 0 $$\n",
    "\n",
    "Symmetry\n",
    "$$ d(a, b) = d(b, a) $$\n",
    "\n",
    "Triangle inequality\n",
    "$$ d(a, c) \\le d(a, b) + d(b, c) $$\n",
    "\n",
    "Some distance functions, such as Cosine distance, do not satsify all four requirements but can nevertheless be used when applied in proper context."
   ]
  },
  {
   "cell_type": "code",
   "execution_count": null,
   "metadata": {},
   "outputs": [],
   "source": []
  }
 ],
 "metadata": {
  "kernelspec": {
   "display_name": "R",
   "language": "R",
   "name": "ir"
  },
  "language_info": {
   "codemirror_mode": "r",
   "file_extension": ".r",
   "mimetype": "text/x-r-source",
   "name": "R",
   "pygments_lexer": "r",
   "version": "3.3.2"
  }
 },
 "nbformat": 4,
 "nbformat_minor": 2
}
