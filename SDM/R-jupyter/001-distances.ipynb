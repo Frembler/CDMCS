{
 "cells": [
  {
   "cell_type": "markdown",
   "metadata": {},
   "source": [
    "# Distance function basics\n",
    "\n",
    "* Metrics measure distance between two items\n",
    "* Norms measure size of something\n",
    "\n",
    "## Eucledian distance\n",
    "\n",
    "The most basic distance function in vector space, based on Pythagorean Theorem. $$d = \\sqrt{(x_2 - x_1)^2 + (y_2 - y_1)^2}$$"
   ]
  },
  {
   "cell_type": "code",
   "execution_count": 31,
   "metadata": {},
   "outputs": [
    {
     "data": {
      "text/html": [
       "<table>\n",
       "<thead><tr><th></th><th scope=col>x</th><th scope=col>y</th></tr></thead>\n",
       "<tbody>\n",
       "\t<tr><th scope=row>A</th><td>1</td><td>2</td></tr>\n",
       "\t<tr><th scope=row>B</th><td>5</td><td>9</td></tr>\n",
       "</tbody>\n",
       "</table>\n"
      ],
      "text/latex": [
       "\\begin{tabular}{r|ll}\n",
       "  & x & y\\\\\n",
       "\\hline\n",
       "\tA & 1 & 2\\\\\n",
       "\tB & 5 & 9\\\\\n",
       "\\end{tabular}\n"
      ],
      "text/markdown": [
       "\n",
       "| <!--/--> | x | y | \n",
       "|---|---|\n",
       "| A | 1 | 2 | \n",
       "| B | 5 | 9 | \n",
       "\n",
       "\n"
      ],
      "text/plain": [
       "  x y\n",
       "A 1 2\n",
       "B 5 9"
      ]
     },
     "metadata": {},
     "output_type": "display_data"
    }
   ],
   "source": [
    "A <- c(1,2)\n",
    "B <- c(5,9)\n",
    "dims <- c(\"x\", \"y\")\n",
    "\n",
    "m <- rbind(A, B)\n",
    "colnames(m) <- dims\n",
    "m"
   ]
  },
  {
   "cell_type": "code",
   "execution_count": 33,
   "metadata": {},
   "outputs": [
    {
     "data": {
      "text/html": [
       "8.06225774829855"
      ],
      "text/latex": [
       "8.06225774829855"
      ],
      "text/markdown": [
       "8.06225774829855"
      ],
      "text/plain": [
       "[1] 8.062258"
      ]
     },
     "metadata": {},
     "output_type": "display_data"
    }
   ],
   "source": [
    "d <- sqrt((5-1)^2 + (9-2)^2)\n",
    "d"
   ]
  },
  {
   "cell_type": "markdown",
   "metadata": {},
   "source": [
    "When applied to 3-dimensional space, the distance can be calculated as such:\n",
    "\n",
    "$$d = \\sqrt{(x_2 - x_1)^2 + (y_2 - y_1)^2 + (z_2 - z_1)^2}$$\n",
    "\n",
    "Thus, generalized formula for eucledian discance in N-dimensional space can be defined as follows\n",
    "\n",
    "$$ d(a, b) = \\sqrt{\\sum_{i=1}^{n} (a_i - b_i)^2} $$\n",
    "\n",
    "When implemented in R, the code should look something like this -"
   ]
  },
  {
   "cell_type": "code",
   "execution_count": 34,
   "metadata": {},
   "outputs": [],
   "source": [
    "myEucledian <- function(A, B) {\n",
    "  sum <- 0\n",
    "  for(i in seq(along=A)) {\n",
    "    sum <- sum + (A[i] - B[i])^2\n",
    "  }\n",
    "  return(sqrt(sum))\n",
    "}"
   ]
  },
  {
   "cell_type": "markdown",
   "metadata": {},
   "source": [
    ">Note that all examples in this file, such as the one above, are horribly bad because for loops in R are bad (and the author should feel bad)."
   ]
  },
  {
   "cell_type": "code",
   "execution_count": 35,
   "metadata": {},
   "outputs": [],
   "source": [
    "myFastEucledian <- function(A, B) {\n",
    "  return(sqrt(sum(( A - B )^2)))\n",
    "}"
   ]
  },
  {
   "cell_type": "markdown",
   "metadata": {},
   "source": [
    "> This variation should be several orders of magnitude faster than first, depending on data amount. Everything in R is a vector, so applying functions over entire arrays is always faster than iterating."
   ]
  },
  {
   "cell_type": "code",
   "execution_count": 36,
   "metadata": {
    "scrolled": true
   },
   "outputs": [
    {
     "data": {
      "text/html": [
       "8.06225774829855"
      ],
      "text/latex": [
       "8.06225774829855"
      ],
      "text/markdown": [
       "8.06225774829855"
      ],
      "text/plain": [
       "[1] 8.062258"
      ]
     },
     "metadata": {},
     "output_type": "display_data"
    }
   ],
   "source": [
    "d <- myEucledian(A, B)\n",
    "d"
   ]
  },
  {
   "cell_type": "code",
   "execution_count": 38,
   "metadata": {},
   "outputs": [
    {
     "data": {
      "text/html": [
       "8.06225774829855"
      ],
      "text/latex": [
       "8.06225774829855"
      ],
      "text/markdown": [
       "8.06225774829855"
      ],
      "text/plain": [
       "[1] 8.062258"
      ]
     },
     "metadata": {},
     "output_type": "display_data"
    }
   ],
   "source": [
    "d <- myFastEucledian(A, B)\n",
    "d"
   ]
  },
  {
   "cell_type": "code",
   "execution_count": 40,
   "metadata": {},
   "outputs": [
    {
     "data": {
      "text/html": [
       "<table>\n",
       "<thead><tr><th></th><th scope=col>x</th><th scope=col>y</th><th scope=col>z</th></tr></thead>\n",
       "<tbody>\n",
       "\t<tr><th scope=row>A</th><td>2</td><td>7</td><td>4</td></tr>\n",
       "\t<tr><th scope=row>B</th><td>3</td><td>4</td><td>5</td></tr>\n",
       "</tbody>\n",
       "</table>\n"
      ],
      "text/latex": [
       "\\begin{tabular}{r|lll}\n",
       "  & x & y & z\\\\\n",
       "\\hline\n",
       "\tA & 2 & 7 & 4\\\\\n",
       "\tB & 3 & 4 & 5\\\\\n",
       "\\end{tabular}\n"
      ],
      "text/markdown": [
       "\n",
       "| <!--/--> | x | y | z | \n",
       "|---|---|\n",
       "| A | 2 | 7 | 4 | \n",
       "| B | 3 | 4 | 5 | \n",
       "\n",
       "\n"
      ],
      "text/plain": [
       "  x y z\n",
       "A 2 7 4\n",
       "B 3 4 5"
      ]
     },
     "metadata": {},
     "output_type": "display_data"
    }
   ],
   "source": [
    "A <- c(2,7,4)\n",
    "B <- c(3,4,5)\n",
    "dims <- c(\"x\", \"y\", \"z\")\n",
    "\n",
    "m <- rbind(A, B)\n",
    "colnames(m) <- dims\n",
    "m"
   ]
  },
  {
   "cell_type": "code",
   "execution_count": 42,
   "metadata": {},
   "outputs": [
    {
     "data": {
      "text/html": [
       "3.3166247903554"
      ],
      "text/latex": [
       "3.3166247903554"
      ],
      "text/markdown": [
       "3.3166247903554"
      ],
      "text/plain": [
       "[1] 3.316625"
      ]
     },
     "metadata": {},
     "output_type": "display_data"
    }
   ],
   "source": [
    "d <- myEucledian(A, B)\n",
    "d"
   ]
  },
  {
   "cell_type": "markdown",
   "metadata": {},
   "source": [
    "## Manhattan distance\n",
    "\n",
    "Sometimes the most direct path from point A to point B is not a straight line. Think taxycab that has to drive around buildings.\n",
    "\n",
    "$$ d(a, b) = \\sum_{i=1}^{n} \\lvert a_i - b_i \\lvert $$"
   ]
  },
  {
   "cell_type": "code",
   "execution_count": 43,
   "metadata": {},
   "outputs": [],
   "source": [
    "myManhattan <- function(A, B) {\n",
    "  sum <- 0\n",
    "  for(i in seq(along=A)) {\n",
    "    sum <- sum + abs(A[i] - B[i])\n",
    "  }\n",
    "  return(sum)\n",
    "}"
   ]
  },
  {
   "cell_type": "code",
   "execution_count": 44,
   "metadata": {},
   "outputs": [
    {
     "data": {
      "text/html": [
       "5"
      ],
      "text/latex": [
       "5"
      ],
      "text/markdown": [
       "5"
      ],
      "text/plain": [
       "[1] 5"
      ]
     },
     "metadata": {},
     "output_type": "display_data"
    }
   ],
   "source": [
    "d <- myManhattan(A, B)\n",
    "d"
   ]
  },
  {
   "cell_type": "markdown",
   "metadata": {},
   "source": [
    "## Chebyshev distance\n",
    "\n",
    "Also known as \"chessboard distance\" where distance between two points is the greatest possible move size. Think chessboard where pieces can jump in any direction but moveset is limited.\n",
    "\n",
    "$$ d(a, b) = \\lim(\\sum_{i=1}^{n}\\lvert a_i - b_i \\lvert^k)^{1/k} $$\n",
    "\n",
    "$$ d(a, b) = max_i(\\lvert  a_i - b_i \\lvert) $$\n",
    "\n",
    "Given two 3-dimensional vectors, the distance can be calculated as such\n",
    "\n",
    "$$ d = max(\\lvert x_2 - x_1 \\lvert, \\lvert y_2 - y_1 \\lvert, \\lvert z_2 - z_1 \\lvert) $$"
   ]
  },
  {
   "cell_type": "code",
   "execution_count": 45,
   "metadata": {},
   "outputs": [
    {
     "name": "stdout",
     "output_type": "stream",
     "text": [
      "  x y z\n",
      "A 2 7 4\n",
      "B 3 4 5\n"
     ]
    },
    {
     "data": {
      "text/html": [
       "3"
      ],
      "text/latex": [
       "3"
      ],
      "text/markdown": [
       "3"
      ],
      "text/plain": [
       "[1] 3"
      ]
     },
     "metadata": {},
     "output_type": "display_data"
    }
   ],
   "source": [
    "print(m)\n",
    "d <- max( abs(3 - 2), abs(4 - 7), abs(5 - 4) )\n",
    "d"
   ]
  },
  {
   "cell_type": "code",
   "execution_count": 46,
   "metadata": {},
   "outputs": [
    {
     "data": {
      "text/html": [
       "0"
      ],
      "text/latex": [
       "0"
      ],
      "text/markdown": [
       "0"
      ],
      "text/plain": [
       "[1] 0"
      ]
     },
     "metadata": {},
     "output_type": "display_data"
    }
   ],
   "source": [
    "# implement your own R function here\n",
    "myCheb <- function(A, B) {\n",
    "    dist <- 0\n",
    "    return(dist)\n",
    "}\n",
    "\n",
    "d <- myCheb(A, B)\n",
    "d"
   ]
  },
  {
   "cell_type": "markdown",
   "metadata": {},
   "source": [
    "## Canberra distance\n",
    "\n",
    "Canberra distance is a weighted version of Manhattan distance, often used for comparing ranked lists. Distance between Canberra and Sydney might be significant for an Estonian but not for locals who are used to vast distances between cities.\n",
    "\n",
    "$$ d(a, b) = \\sum_{i=1}^{n} \\frac{\\lvert a_i - b_i \\lvert}{\\lvert a_i \\lvert + \\lvert b_i \\lvert} $$"
   ]
  },
  {
   "cell_type": "code",
   "execution_count": 47,
   "metadata": {},
   "outputs": [
    {
     "name": "stdout",
     "output_type": "stream",
     "text": [
      "[1] 0.5838384\n"
     ]
    }
   ],
   "source": [
    "d <- sum( ( abs(3 - 2) / ( abs(3) + abs(2) ) ), ( abs(4 - 7) / ( abs(4) + abs(7) ) ), ( abs(5 - 4) / ( abs(5) + abs(4)) ) )\n",
    "print(d)"
   ]
  },
  {
   "cell_type": "code",
   "execution_count": 48,
   "metadata": {},
   "outputs": [
    {
     "data": {
      "text/html": [
       "0"
      ],
      "text/latex": [
       "0"
      ],
      "text/markdown": [
       "0"
      ],
      "text/plain": [
       "[1] 0"
      ]
     },
     "metadata": {},
     "output_type": "display_data"
    }
   ],
   "source": [
    "# implement your own R function here\n",
    "myCanberra <- function(A, B) {\n",
    "    dist <- 0\n",
    "    return(dist)\n",
    "}\n",
    "\n",
    "d <- myCanberra(A, B)\n",
    "d"
   ]
  },
  {
   "cell_type": "markdown",
   "metadata": {},
   "source": [
    "## Mahalanobis distance\n",
    "\n",
    "Mahalanobis distance measures the distance between a point P and distribution D, essentially showing how many standard deviations a point differs from mean in multidimensional space. This idea can be used to measure dissimilarity between two vectors within the same distribution.\n",
    "\n",
    "$$ d(a, b) = \\sqrt{(a - b)^T COV^{-1} (a - b)} $$\n",
    "\n",
    "Note that $COV^{-1}$ stands for inverse covariance matrix of all points withing background distribution. For example, lets assume that points A and B belong to random 3-dimensional standard distribution D that comprises of 100 data points."
   ]
  },
  {
   "cell_type": "code",
   "execution_count": 49,
   "metadata": {},
   "outputs": [
    {
     "data": {
      "text/html": [
       "<table>\n",
       "<tbody>\n",
       "\t<tr><td>-0.9132391</td><td> 2.1872437</td><td>11.7277612</td></tr>\n",
       "\t<tr><td> 0.8190898</td><td>-0.5599612</td><td> 9.3316354</td></tr>\n",
       "\t<tr><td> 0.2246739</td><td> 2.7509320</td><td> 6.2123614</td></tr>\n",
       "\t<tr><td> 1.8880186</td><td> 0.6064678</td><td> 2.5099450</td></tr>\n",
       "\t<tr><td>14.6407899</td><td>-1.0480218</td><td>-3.3619393</td></tr>\n",
       "\t<tr><td> 4.0433307</td><td>-3.6060261</td><td>-0.4693967</td></tr>\n",
       "</tbody>\n",
       "</table>\n"
      ],
      "text/latex": [
       "\\begin{tabular}{lll}\n",
       "\t -0.9132391 &  2.1872437 & 11.7277612\\\\\n",
       "\t  0.8190898 & -0.5599612 &  9.3316354\\\\\n",
       "\t  0.2246739 &  2.7509320 &  6.2123614\\\\\n",
       "\t  1.8880186 &  0.6064678 &  2.5099450\\\\\n",
       "\t 14.6407899 & -1.0480218 & -3.3619393\\\\\n",
       "\t  4.0433307 & -3.6060261 & -0.4693967\\\\\n",
       "\\end{tabular}\n"
      ],
      "text/markdown": [
       "\n",
       "| -0.9132391 |  2.1872437 | 11.7277612 | \n",
       "|  0.8190898 | -0.5599612 |  9.3316354 | \n",
       "|  0.2246739 |  2.7509320 |  6.2123614 | \n",
       "|  1.8880186 |  0.6064678 |  2.5099450 | \n",
       "| 14.6407899 | -1.0480218 | -3.3619393 | \n",
       "|  4.0433307 | -3.6060261 | -0.4693967 | \n",
       "\n",
       "\n"
      ],
      "text/plain": [
       "     [,1]       [,2]       [,3]      \n",
       "[1,] -0.9132391  2.1872437 11.7277612\n",
       "[2,]  0.8190898 -0.5599612  9.3316354\n",
       "[3,]  0.2246739  2.7509320  6.2123614\n",
       "[4,]  1.8880186  0.6064678  2.5099450\n",
       "[5,] 14.6407899 -1.0480218 -3.3619393\n",
       "[6,]  4.0433307 -3.6060261 -0.4693967"
      ]
     },
     "metadata": {},
     "output_type": "display_data"
    }
   ],
   "source": [
    "N = 3\n",
    "M = 100\n",
    "D <- matrix( rnorm(M*N,mean=0,sd=5), M, N)\n",
    "head(D)"
   ]
  },
  {
   "cell_type": "markdown",
   "metadata": {},
   "source": [
    "We can then calculate the inverse covariance matrix."
   ]
  },
  {
   "cell_type": "code",
   "execution_count": 50,
   "metadata": {},
   "outputs": [
    {
     "data": {
      "text/html": [
       "<table>\n",
       "<tbody>\n",
       "\t<tr><td>30.341269 </td><td> 1.2760364</td><td> 4.4539429</td></tr>\n",
       "\t<tr><td> 1.276036 </td><td>17.6405297</td><td>-0.6434731</td></tr>\n",
       "\t<tr><td> 4.453943 </td><td>-0.6434731</td><td>29.4971856</td></tr>\n",
       "</tbody>\n",
       "</table>\n"
      ],
      "text/latex": [
       "\\begin{tabular}{lll}\n",
       "\t 30.341269  &  1.2760364 &  4.4539429\\\\\n",
       "\t  1.276036  & 17.6405297 & -0.6434731\\\\\n",
       "\t  4.453943  & -0.6434731 & 29.4971856\\\\\n",
       "\\end{tabular}\n"
      ],
      "text/markdown": [
       "\n",
       "| 30.341269  |  1.2760364 |  4.4539429 | \n",
       "|  1.276036  | 17.6405297 | -0.6434731 | \n",
       "|  4.453943  | -0.6434731 | 29.4971856 | \n",
       "\n",
       "\n"
      ],
      "text/plain": [
       "     [,1]      [,2]       [,3]      \n",
       "[1,] 30.341269  1.2760364  4.4539429\n",
       "[2,]  1.276036 17.6405297 -0.6434731\n",
       "[3,]  4.453943 -0.6434731 29.4971856"
      ]
     },
     "metadata": {},
     "output_type": "display_data"
    }
   ],
   "source": [
    "COV <- cov( D )\n",
    "COV"
   ]
  },
  {
   "cell_type": "code",
   "execution_count": 52,
   "metadata": {},
   "outputs": [
    {
     "data": {
      "text/html": [
       "<table>\n",
       "<tbody>\n",
       "\t<tr><td> 0.033827480</td><td>-0.002635342</td><td>-0.005165287</td></tr>\n",
       "\t<tr><td>-0.002635342</td><td> 0.056938092</td><td> 0.001640014</td></tr>\n",
       "\t<tr><td>-0.005165287</td><td> 0.001640014</td><td> 0.034717251</td></tr>\n",
       "</tbody>\n",
       "</table>\n"
      ],
      "text/latex": [
       "\\begin{tabular}{lll}\n",
       "\t  0.033827480 & -0.002635342 & -0.005165287\\\\\n",
       "\t -0.002635342 &  0.056938092 &  0.001640014\\\\\n",
       "\t -0.005165287 &  0.001640014 &  0.034717251\\\\\n",
       "\\end{tabular}\n"
      ],
      "text/markdown": [
       "\n",
       "|  0.033827480 | -0.002635342 | -0.005165287 | \n",
       "| -0.002635342 |  0.056938092 |  0.001640014 | \n",
       "| -0.005165287 |  0.001640014 |  0.034717251 | \n",
       "\n",
       "\n"
      ],
      "text/plain": [
       "     [,1]         [,2]         [,3]        \n",
       "[1,]  0.033827480 -0.002635342 -0.005165287\n",
       "[2,] -0.002635342  0.056938092  0.001640014\n",
       "[3,] -0.005165287  0.001640014  0.034717251"
      ]
     },
     "metadata": {},
     "output_type": "display_data"
    }
   ],
   "source": [
    "invCOV <- solve( COV )\n",
    "invCOV"
   ]
  },
  {
   "cell_type": "code",
   "execution_count": 53,
   "metadata": {},
   "outputs": [],
   "source": [
    "# myMahal(c(1,2), c(2,3), solve(cov(matr)))\n",
    "myMahal <- function(A, B, invCOV) {\n",
    "  diff = A - B\n",
    "  dist = sqrt( t(diff) %*% invCOV %*% diff )\n",
    "  return(dist)\n",
    "}"
   ]
  },
  {
   "cell_type": "code",
   "execution_count": 54,
   "metadata": {},
   "outputs": [
    {
     "data": {
      "text/html": [
       "<table>\n",
       "<tbody>\n",
       "\t<tr><td>0.7593609</td></tr>\n",
       "</tbody>\n",
       "</table>\n"
      ],
      "text/latex": [
       "\\begin{tabular}{l}\n",
       "\t 0.7593609\\\\\n",
       "\\end{tabular}\n"
      ],
      "text/markdown": [
       "\n",
       "| 0.7593609 | \n",
       "\n",
       "\n"
      ],
      "text/plain": [
       "     [,1]     \n",
       "[1,] 0.7593609"
      ]
     },
     "metadata": {},
     "output_type": "display_data"
    }
   ],
   "source": [
    "d <- myMahal(A, B, invCOV)\n",
    "d"
   ]
  },
  {
   "cell_type": "markdown",
   "metadata": {},
   "source": [
    "Note that we have to multiply the transpose of deriviative, in addition to deriviative itself. Luckily R makes transpose operation very simple to use."
   ]
  },
  {
   "cell_type": "code",
   "execution_count": 55,
   "metadata": {},
   "outputs": [
    {
     "data": {
      "text/html": [
       "<table>\n",
       "<thead><tr><th></th><th scope=col>x</th><th scope=col>y</th><th scope=col>z</th></tr></thead>\n",
       "<tbody>\n",
       "\t<tr><th scope=row>A</th><td>2</td><td>7</td><td>4</td></tr>\n",
       "\t<tr><th scope=row>B</th><td>3</td><td>4</td><td>5</td></tr>\n",
       "</tbody>\n",
       "</table>\n"
      ],
      "text/latex": [
       "\\begin{tabular}{r|lll}\n",
       "  & x & y & z\\\\\n",
       "\\hline\n",
       "\tA & 2 & 7 & 4\\\\\n",
       "\tB & 3 & 4 & 5\\\\\n",
       "\\end{tabular}\n"
      ],
      "text/markdown": [
       "\n",
       "| <!--/--> | x | y | z | \n",
       "|---|---|\n",
       "| A | 2 | 7 | 4 | \n",
       "| B | 3 | 4 | 5 | \n",
       "\n",
       "\n"
      ],
      "text/plain": [
       "  x y z\n",
       "A 2 7 4\n",
       "B 3 4 5"
      ]
     },
     "metadata": {},
     "output_type": "display_data"
    }
   ],
   "source": [
    "m"
   ]
  },
  {
   "cell_type": "code",
   "execution_count": 56,
   "metadata": {},
   "outputs": [
    {
     "data": {
      "text/html": [
       "<table>\n",
       "<thead><tr><th></th><th scope=col>A</th><th scope=col>B</th></tr></thead>\n",
       "<tbody>\n",
       "\t<tr><th scope=row>x</th><td>2</td><td>3</td></tr>\n",
       "\t<tr><th scope=row>y</th><td>7</td><td>4</td></tr>\n",
       "\t<tr><th scope=row>z</th><td>4</td><td>5</td></tr>\n",
       "</tbody>\n",
       "</table>\n"
      ],
      "text/latex": [
       "\\begin{tabular}{r|ll}\n",
       "  & A & B\\\\\n",
       "\\hline\n",
       "\tx & 2 & 3\\\\\n",
       "\ty & 7 & 4\\\\\n",
       "\tz & 4 & 5\\\\\n",
       "\\end{tabular}\n"
      ],
      "text/markdown": [
       "\n",
       "| <!--/--> | A | B | \n",
       "|---|---|---|\n",
       "| x | 2 | 3 | \n",
       "| y | 7 | 4 | \n",
       "| z | 4 | 5 | \n",
       "\n",
       "\n"
      ],
      "text/plain": [
       "  A B\n",
       "x 2 3\n",
       "y 7 4\n",
       "z 4 5"
      ]
     },
     "metadata": {},
     "output_type": "display_data"
    }
   ],
   "source": [
    "t(m)"
   ]
  },
  {
   "cell_type": "markdown",
   "metadata": {},
   "source": [
    "## Cosine distance\n",
    "\n",
    "Prior distance measures are primarily designed for working in numerical vector spaces. However, this does not translate well into text data mining applications for obvious reasons. A common trick in text mining is to create a \"bag of words\" and apply cosine distance on it. Imagine that our example 3-dimensional vectors represent two distinct documents. Data dimensions would in this case represent word counts per document."
   ]
  },
  {
   "cell_type": "code",
   "execution_count": 57,
   "metadata": {},
   "outputs": [
    {
     "data": {
      "text/html": [
       "<table>\n",
       "<thead><tr><th></th><th scope=col>yes</th><th scope=col>no</th><th scope=col>maybe</th></tr></thead>\n",
       "<tbody>\n",
       "\t<tr><th scope=row>doc1</th><td>2</td><td>7</td><td>4</td></tr>\n",
       "\t<tr><th scope=row>doc2</th><td>3</td><td>4</td><td>5</td></tr>\n",
       "</tbody>\n",
       "</table>\n"
      ],
      "text/latex": [
       "\\begin{tabular}{r|lll}\n",
       "  & yes & no & maybe\\\\\n",
       "\\hline\n",
       "\tdoc1 & 2 & 7 & 4\\\\\n",
       "\tdoc2 & 3 & 4 & 5\\\\\n",
       "\\end{tabular}\n"
      ],
      "text/markdown": [
       "\n",
       "| <!--/--> | yes | no | maybe | \n",
       "|---|---|\n",
       "| doc1 | 2 | 7 | 4 | \n",
       "| doc2 | 3 | 4 | 5 | \n",
       "\n",
       "\n"
      ],
      "text/plain": [
       "     yes no maybe\n",
       "doc1 2   7  4    \n",
       "doc2 3   4  5    "
      ]
     },
     "metadata": {},
     "output_type": "display_data"
    }
   ],
   "source": [
    "words <- c(\"yes\", \"no\", \"maybe\")\n",
    "documents <- c(\"doc1\", \"doc2\")\n",
    "\n",
    "colnames(m) <- words\n",
    "rownames(m) <- documents\n",
    "\n",
    "m"
   ]
  },
  {
   "cell_type": "markdown",
   "metadata": {},
   "source": [
    "Cosine distance, or rather cosine similarity, is based on the idea that $\\cos(90) = 0$ while $\\cos(0) = 1$. In other words, parallel vectors are identical while orthogonal vectors are distinct. Thus, when applied on bag of words, we are able to convert textual documents to high dimensional vector space and apply standard data mining methods that would otherwise be unsuitable for string input.\n",
    "\n",
    "Cosine similarity formula is defined as ratio between dot product and magnitude of vectors.\n",
    "\n",
    "$$ s(a, b) = \\frac{a \\cdot b}{\\lvert \\lvert a \\lvert \\lvert \\lvert \\lvert b \\lvert \\lvert} = \\frac{ \\sum_{i=1}^{n}a_i b_i }{\\sqrt{\\sum_{i=1}^{n}a_i^2} \\sqrt{\\sum_{i=1}^{n}b_i^2 } } $$\n",
    "\n",
    "The result does not conform to all metric requirements as result can be between -1 and 1, and input vectors must be positive values. However, as word counts can only be $\\ge 0$. Thus, an easy way to measure distance between two documents is to calculate inverse cosine similarity.\n",
    "\n",
    "$$ d(a, b) = 1 - s(a, b) $$"
   ]
  },
  {
   "cell_type": "code",
   "execution_count": 58,
   "metadata": {},
   "outputs": [],
   "source": [
    "# implement cosine distance here\n",
    "myCosine <- function(A, B) {\n",
    "    dist <- 0\n",
    "    return(dist)\n",
    "}"
   ]
  },
  {
   "cell_type": "markdown",
   "metadata": {},
   "source": [
    "## Jaccard distance\n",
    "\n",
    "Jaccard similarity and distance calculation is similar to cosine method. However, it calculates the ratio between intersection and union between two documents. In other words, the number of words that two documents have in common divided by number of words total.\n",
    "\n",
    "$$ d(a, b) = 1 - \\frac{ a \\cap b }{a \\cup b}  $$\n",
    "\n",
    "Let us add another word into example dataset."
   ]
  },
  {
   "cell_type": "code",
   "execution_count": 59,
   "metadata": {},
   "outputs": [
    {
     "data": {
      "text/html": [
       "<table>\n",
       "<thead><tr><th></th><th scope=col>yes</th><th scope=col>no</th><th scope=col>maybe</th><th scope=col>ok</th></tr></thead>\n",
       "<tbody>\n",
       "\t<tr><th scope=row>doc1</th><td>2</td><td>7</td><td>4</td><td>0</td></tr>\n",
       "\t<tr><th scope=row>doc2</th><td>3</td><td>4</td><td>5</td><td>3</td></tr>\n",
       "</tbody>\n",
       "</table>\n"
      ],
      "text/latex": [
       "\\begin{tabular}{r|llll}\n",
       "  & yes & no & maybe & ok\\\\\n",
       "\\hline\n",
       "\tdoc1 & 2 & 7 & 4 & 0\\\\\n",
       "\tdoc2 & 3 & 4 & 5 & 3\\\\\n",
       "\\end{tabular}\n"
      ],
      "text/markdown": [
       "\n",
       "| <!--/--> | yes | no | maybe | ok | \n",
       "|---|---|\n",
       "| doc1 | 2 | 7 | 4 | 0 | \n",
       "| doc2 | 3 | 4 | 5 | 3 | \n",
       "\n",
       "\n"
      ],
      "text/plain": [
       "     yes no maybe ok\n",
       "doc1 2   7  4     0 \n",
       "doc2 3   4  5     3 "
      ]
     },
     "metadata": {},
     "output_type": "display_data"
    }
   ],
   "source": [
    "ok <- c(0, 3)\n",
    "m2 <- cbind(m, ok)\n",
    "m2"
   ]
  },
  {
   "cell_type": "markdown",
   "metadata": {},
   "source": [
    "We are only concerned if word exists or not, no need for counts."
   ]
  },
  {
   "cell_type": "code",
   "execution_count": 60,
   "metadata": {},
   "outputs": [
    {
     "data": {
      "text/html": [
       "<table>\n",
       "<thead><tr><th></th><th scope=col>yes</th><th scope=col>no</th><th scope=col>maybe</th><th scope=col>ok</th></tr></thead>\n",
       "<tbody>\n",
       "\t<tr><th scope=row>doc1</th><td>1</td><td>1</td><td>1</td><td>0</td></tr>\n",
       "\t<tr><th scope=row>doc2</th><td>1</td><td>1</td><td>1</td><td>1</td></tr>\n",
       "</tbody>\n",
       "</table>\n"
      ],
      "text/latex": [
       "\\begin{tabular}{r|llll}\n",
       "  & yes & no & maybe & ok\\\\\n",
       "\\hline\n",
       "\tdoc1 & 1 & 1 & 1 & 0\\\\\n",
       "\tdoc2 & 1 & 1 & 1 & 1\\\\\n",
       "\\end{tabular}\n"
      ],
      "text/markdown": [
       "\n",
       "| <!--/--> | yes | no | maybe | ok | \n",
       "|---|---|\n",
       "| doc1 | 1 | 1 | 1 | 0 | \n",
       "| doc2 | 1 | 1 | 1 | 1 | \n",
       "\n",
       "\n"
      ],
      "text/plain": [
       "     yes no maybe ok\n",
       "doc1 1   1  1     0 \n",
       "doc2 1   1  1     1 "
      ]
     },
     "metadata": {},
     "output_type": "display_data"
    }
   ],
   "source": [
    "exists <- ifelse(m2 > 0, 1, 0)\n",
    "exists"
   ]
  },
  {
   "cell_type": "markdown",
   "metadata": {},
   "source": [
    "Now we need a count of total unique words and words common in both documents. Since R is mostly concerned with numerics, then most existing funcitons returned union or intersect elements, as opposed to their counts. So I wrote my own simple function to check weather variance of vector is 0 (all elements identical) or not."
   ]
  },
  {
   "cell_type": "code",
   "execution_count": 61,
   "metadata": {},
   "outputs": [
    {
     "data": {
      "text/html": [
       "4"
      ],
      "text/latex": [
       "4"
      ],
      "text/markdown": [
       "4"
      ],
      "text/plain": [
       "[1] 4"
      ]
     },
     "metadata": {},
     "output_type": "display_data"
    }
   ],
   "source": [
    "uniq <- length(unique(colnames(exists)))\n",
    "uniq"
   ]
  },
  {
   "cell_type": "code",
   "execution_count": 62,
   "metadata": {},
   "outputs": [],
   "source": [
    "isEqual <- function(x){\n",
    "    if ( var(x) == 0 ) {\n",
    "        return(TRUE)\n",
    "    } else {\n",
    "        return(FALSE)\n",
    "    }\n",
    "}"
   ]
  },
  {
   "cell_type": "code",
   "execution_count": 64,
   "metadata": {},
   "outputs": [
    {
     "data": {
      "text/html": [
       "<dl class=dl-horizontal>\n",
       "\t<dt>yes</dt>\n",
       "\t\t<dd>TRUE</dd>\n",
       "\t<dt>no</dt>\n",
       "\t\t<dd>TRUE</dd>\n",
       "\t<dt>maybe</dt>\n",
       "\t\t<dd>TRUE</dd>\n",
       "\t<dt>ok</dt>\n",
       "\t\t<dd>FALSE</dd>\n",
       "</dl>\n"
      ],
      "text/latex": [
       "\\begin{description*}\n",
       "\\item[yes] TRUE\n",
       "\\item[no] TRUE\n",
       "\\item[maybe] TRUE\n",
       "\\item[ok] FALSE\n",
       "\\end{description*}\n"
      ],
      "text/markdown": [
       "yes\n",
       ":   TRUEno\n",
       ":   TRUEmaybe\n",
       ":   TRUEok\n",
       ":   FALSE\n",
       "\n"
      ],
      "text/plain": [
       "  yes    no maybe    ok \n",
       " TRUE  TRUE  TRUE FALSE "
      ]
     },
     "metadata": {},
     "output_type": "display_data"
    }
   ],
   "source": [
    "common <- apply(exists, 2, isEqual)\n",
    "common"
   ]
  },
  {
   "cell_type": "code",
   "execution_count": 65,
   "metadata": {},
   "outputs": [
    {
     "data": {
      "text/html": [
       "0.25"
      ],
      "text/latex": [
       "0.25"
      ],
      "text/markdown": [
       "0.25"
      ],
      "text/plain": [
       "[1] 0.25"
      ]
     },
     "metadata": {},
     "output_type": "display_data"
    }
   ],
   "source": [
    "d <- 1 - ( length(which(common)) / uniq )\n",
    "d"
   ]
  },
  {
   "cell_type": "markdown",
   "metadata": {},
   "source": [
    ">Note that apply funciton was used over matrix columns instead of iterating with for loop because this approach is a lot faster in R."
   ]
  },
  {
   "cell_type": "markdown",
   "metadata": {},
   "source": [
    "## Distance matrix\n",
    "\n",
    "In practice, you will often need to calculate pariwise distnces for all data points for all data points. Unless you are implementing previously discussed algorithms from scratch in a low level language like C, Go or Rust, it is advisable to generate this distance matrix with a efficient method. Especially in R.\n",
    "\n",
    "Lets generate a 2-dimensional data set with 5 points as an example."
   ]
  },
  {
   "cell_type": "code",
   "execution_count": 66,
   "metadata": {},
   "outputs": [
    {
     "data": {
      "text/html": [
       "<table>\n",
       "<tbody>\n",
       "\t<tr><td>-1.2588591</td><td>-1.4261465</td></tr>\n",
       "\t<tr><td> 0.5049363</td><td>-0.6857398</td></tr>\n",
       "\t<tr><td>-1.0468406</td><td>-1.1443461</td></tr>\n",
       "\t<tr><td> 0.5832724</td><td>-1.7448686</td></tr>\n",
       "\t<tr><td>-0.3789557</td><td> 0.3202096</td></tr>\n",
       "</tbody>\n",
       "</table>\n"
      ],
      "text/latex": [
       "\\begin{tabular}{ll}\n",
       "\t -1.2588591 & -1.4261465\\\\\n",
       "\t  0.5049363 & -0.6857398\\\\\n",
       "\t -1.0468406 & -1.1443461\\\\\n",
       "\t  0.5832724 & -1.7448686\\\\\n",
       "\t -0.3789557 &  0.3202096\\\\\n",
       "\\end{tabular}\n"
      ],
      "text/markdown": [
       "\n",
       "| -1.2588591 | -1.4261465 | \n",
       "|  0.5049363 | -0.6857398 | \n",
       "| -1.0468406 | -1.1443461 | \n",
       "|  0.5832724 | -1.7448686 | \n",
       "| -0.3789557 |  0.3202096 | \n",
       "\n",
       "\n"
      ],
      "text/plain": [
       "     [,1]       [,2]      \n",
       "[1,] -1.2588591 -1.4261465\n",
       "[2,]  0.5049363 -0.6857398\n",
       "[3,] -1.0468406 -1.1443461\n",
       "[4,]  0.5832724 -1.7448686\n",
       "[5,] -0.3789557  0.3202096"
      ]
     },
     "metadata": {},
     "output_type": "display_data"
    }
   ],
   "source": [
    "set.seed = 42\n",
    "points <- 5\n",
    "data <- rnorm(points*2, mean=c(0,0), 1)\n",
    "data <- matrix(data, ncol=2, nrow=points)\n",
    "head(data)"
   ]
  },
  {
   "cell_type": "code",
   "execution_count": 67,
   "metadata": {},
   "outputs": [
    {
     "data": {
      "text/plain": [
       "          1         2         3         4         5\n",
       "1 0.0000000                                        \n",
       "2 1.9128975 0.0000000                              \n",
       "3 0.3526518 1.6181260 0.0000000                    \n",
       "4 1.8695005 1.0620219 1.7372092 0.0000000          \n",
       "5 1.9555024 1.3391039 1.6096564 2.2782517 0.0000000"
      ]
     },
     "metadata": {},
     "output_type": "display_data"
    }
   ],
   "source": [
    "eucDistMatrix <- dist(data, method = \"euclidean\", diag = TRUE)\n",
    "eucDistMatrix"
   ]
  },
  {
   "cell_type": "markdown",
   "metadata": {},
   "source": [
    "Notice that distance to itself is always zero. Furthermore, only lower or upper triangle needs to be populated as distance between two points can always be measured from either direction while the result will be the same, provided that chosen distance funciton satisfies one of the four metric requirements.\n",
    "\n",
    "Non-negativity\n",
    "$$ d(a, b) \\ge 0 $$\n",
    "\n",
    "Identity of indiscernibles\n",
    "$$ d(a, a) = 0 $$\n",
    "$$ d(b, b) = 0 $$\n",
    "\n",
    "Symmetry\n",
    "$$ d(a, b) = d(b, a) $$\n",
    "\n",
    "Triangle inequality\n",
    "$$ d(a, c) \\le d(a, b) + d(b, c) $$\n",
    "\n",
    "Some distance functions, such as Cosine distance, do not satsify all four requirements but can nevertheless be used when applied in proper context."
   ]
  },
  {
   "cell_type": "code",
   "execution_count": null,
   "metadata": {},
   "outputs": [],
   "source": []
  }
 ],
 "metadata": {
  "kernelspec": {
   "display_name": "R",
   "language": "R",
   "name": "ir"
  },
  "language_info": {
   "codemirror_mode": "r",
   "file_extension": ".r",
   "mimetype": "text/x-r-source",
   "name": "R",
   "pygments_lexer": "r",
   "version": "3.3.2"
  }
 },
 "nbformat": 4,
 "nbformat_minor": 2
}
