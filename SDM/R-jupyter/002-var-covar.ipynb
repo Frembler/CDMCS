{
 "cells": [
  {
   "cell_type": "markdown",
   "metadata": {},
   "source": [
    "## Variance and covariance\n",
    "\n",
    "First lets create some data."
   ]
  },
  {
   "cell_type": "code",
   "execution_count": 2,
   "metadata": {},
   "outputs": [
    {
     "name": "stdout",
     "output_type": "stream",
     "text": [
      "  Sepal.Length Sepal.Width Petal.Length Petal.Width\n",
      "1          5.1         3.5          1.4         0.2\n",
      "2          4.9         3.0          1.4         0.2\n",
      "3          4.7         3.2          1.3         0.2\n",
      "4          4.6         3.1          1.5         0.2\n",
      "5          5.0         3.6          1.4         0.2\n",
      "6          5.4         3.9          1.7         0.4\n"
     ]
    },
    {
     "data": {
      "text/html": [
       "150"
      ],
      "text/latex": [
       "150"
      ],
      "text/markdown": [
       "150"
      ],
      "text/plain": [
       "[1] 150"
      ]
     },
     "metadata": {},
     "output_type": "display_data"
    },
    {
     "data": {
      "text/html": [
       "4"
      ],
      "text/latex": [
       "4"
      ],
      "text/markdown": [
       "4"
      ],
      "text/plain": [
       "[1] 4"
      ]
     },
     "metadata": {},
     "output_type": "display_data"
    }
   ],
   "source": [
    "data <- iris\n",
    "data <- data[,-5]\n",
    "\n",
    "print(head(data))\n",
    "nrow(data)\n",
    "ncol(data)"
   ]
  },
  {
   "cell_type": "markdown",
   "metadata": {},
   "source": [
    "## Variance\n",
    "\n",
    "Variance, or squared standard deviation, is a measure of spread between numbers in data set. Squared distance between each data point $x_i$ and mean of data set $\\mu$ is summed together and divided with total number of items in set.\n",
    "\n",
    "$$ \\sigma^2 = \\frac{\\sum_{i=1}^{n} (x_i - \\mu)^2}{N} $$\n",
    "\n",
    "This is known as \"population variance\". However, sample variance is more commonly used, as most data sets are considered incomplete.\n",
    "\n",
    "$$ \\sigma^2 = \\frac{\\sum_{i=1}^{n} (x_i - \\mu)^2}{N-1} $$\n",
    "\n",
    "Thus, sample variance for the first dimension of our sample data set can be calculated as follows -"
   ]
  },
  {
   "cell_type": "code",
   "execution_count": 2,
   "metadata": {},
   "outputs": [
    {
     "name": "stdout",
     "output_type": "stream",
     "text": [
      "[1] 0.6856935\n",
      "[1] 0.6856935\n"
     ]
    }
   ],
   "source": [
    "x <- data[,1]\n",
    "x <- x - mean(x)\n",
    "x <- x^2\n",
    "\n",
    "var <- sum(x) / (length(x) - 1)\n",
    "print(var)\n",
    "\n",
    "ssd <- sd(data[,1])^2\n",
    "print(ssd)"
   ]
  },
  {
   "cell_type": "markdown",
   "metadata": {},
   "source": [
    "We can validate this result by calculating squared standard deviation using R built-in `sd` function.\n",
    "\n",
    "### Covariance\n",
    "\n",
    "Covariance measures how two distinct variables (data dimensions in our case) are linearly related. If covariance is negative, then so is linear relationship between. I.e., values in one vector are likely to decrease as the other increases. Sample covariance can be defined as follows:\n",
    "\n",
    "$$ C_{xy} = \\frac{1}{n - 1}\\sum_{i=1}^{n}(x_i - \\mu_x)(y_i - \\mu_y) $$\n",
    "\n",
    "Covariance between first and second dimensions of our sample dataset can therefore be calculated as follows -"
   ]
  },
  {
   "cell_type": "markdown",
   "metadata": {},
   "source": [
    "### Variance-covariance matrix\n",
    "\n",
    "Also known as simply \"covariance matrix\" is matrix representation of covariances for all dataset dimensions. Central diagonal of this matrix is comprised of variances as there is little practical reason to measure covariance for single variable."
   ]
  },
  {
   "cell_type": "code",
   "execution_count": 3,
   "metadata": {},
   "outputs": [
    {
     "name": "stdout",
     "output_type": "stream",
     "text": [
      "             Sepal.Length Sepal.Width Petal.Length Petal.Width\n",
      "Sepal.Length    0.6856935  -0.0424340    1.2743154   0.5162707\n",
      "Sepal.Width    -0.0424340   0.1899794   -0.3296564  -0.1216394\n",
      "Petal.Length    1.2743154  -0.3296564    3.1162779   1.2956094\n",
      "Petal.Width     0.5162707  -0.1216394    1.2956094   0.5810063\n"
     ]
    }
   ],
   "source": [
    "covMatrix <- cov(data)\n",
    "print(covMatrix)"
   ]
  },
  {
   "cell_type": "markdown",
   "metadata": {},
   "source": [
    "To illustrate this point"
   ]
  },
  {
   "cell_type": "code",
   "execution_count": 4,
   "metadata": {},
   "outputs": [
    {
     "name": "stdout",
     "output_type": "stream",
     "text": [
      "  1     2     3     4    \n",
      "1 \"var\" \"cov\" \"cov\" \"cov\"\n",
      "2 \"cov\" \"var\" \"cov\" \"cov\"\n",
      "3 \"cov\" \"cov\" \"var\" \"cov\"\n",
      "4 \"cov\" \"cov\" \"cov\" \"var\"\n"
     ]
    }
   ],
   "source": [
    "dims <- c(1,2,3,4)\n",
    "\n",
    "covMatrix <- matrix(rep(\"cov\", 16), nrow = 4, ncol = 4)\n",
    "colnames(covMatrix) <- dims\n",
    "rownames(covMatrix) <- dims\n",
    "diag(covMatrix) <- \"var\"\n",
    "print(covMatrix)"
   ]
  },
  {
   "cell_type": "code",
   "execution_count": null,
   "metadata": {},
   "outputs": [],
   "source": []
  },
  {
   "cell_type": "code",
   "execution_count": null,
   "metadata": {},
   "outputs": [],
   "source": []
  }
 ],
 "metadata": {
  "kernelspec": {
   "display_name": "R",
   "language": "R",
   "name": "ir"
  },
  "language_info": {
   "codemirror_mode": "r",
   "file_extension": ".r",
   "mimetype": "text/x-r-source",
   "name": "R",
   "pygments_lexer": "r",
   "version": "3.3.2"
  }
 },
 "nbformat": 4,
 "nbformat_minor": 2
}
