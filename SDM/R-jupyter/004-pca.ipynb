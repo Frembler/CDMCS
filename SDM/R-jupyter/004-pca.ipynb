{
 "cells": [
  {
   "cell_type": "markdown",
   "metadata": {},
   "source": [
    "# Principal component analysis\n",
    "\n",
    "[Remember that we can rotate a dataset into new coordinate space](RotateMahal.ipynb). This is the core idea behind PCA, which rotates a high-dimensional dataset into a space where maximum amount of variance is captured in smallest amount of dimensions. Realistic datasets often have very high dimensionality but classical data mining methods can perform poorly in these conditions. This is known as \"curse of dimensionality\". Furthermore, high-dimenensional data is difficult for humans to visualize."
   ]
  },
  {
   "cell_type": "code",
   "execution_count": 11,
   "metadata": {},
   "outputs": [
    {
     "name": "stdout",
     "output_type": "stream",
     "text": [
      "  Sepal.Length Sepal.Width Petal.Length Petal.Width\n",
      "1          5.1         3.5          1.4         0.2\n",
      "2          4.9         3.0          1.4         0.2\n",
      "3          4.7         3.2          1.3         0.2\n",
      "4          4.6         3.1          1.5         0.2\n",
      "5          5.0         3.6          1.4         0.2\n",
      "6          5.4         3.9          1.7         0.4\n"
     ]
    }
   ],
   "source": [
    "data <- iris\n",
    "data <- data[,-5]\n",
    "\n",
    "print(head(data))"
   ]
  },
  {
   "cell_type": "markdown",
   "metadata": {},
   "source": [
    "We want to reduce this 4-dimensional data set into something more manageable. Classical method to achieve this is eigen decomposition, which requires us to firstly mean-center our data. Arithmetic mean for each dimension will be subtracted from the data which is a common step in data standardization."
   ]
  },
  {
   "cell_type": "code",
   "execution_count": 16,
   "metadata": {},
   "outputs": [
    {
     "name": "stdout",
     "output_type": "stream",
     "text": [
      "Sepal.Length  Sepal.Width Petal.Length  Petal.Width \n",
      "    5.843333     3.057333     3.758000     1.199333 \n",
      "     Sepal.Length Sepal.Width Petal.Length Petal.Width\n",
      "[1,]   -0.7433333  0.44266667       -2.358  -0.9993333\n",
      "[2,]   -0.9433333 -0.05733333       -2.358  -0.9993333\n",
      "[3,]   -1.1433333  0.14266667       -2.458  -0.9993333\n",
      "[4,]   -1.2433333  0.04266667       -2.258  -0.9993333\n",
      "[5,]   -0.8433333  0.54266667       -2.358  -0.9993333\n",
      "[6,]   -0.4433333  0.84266667       -2.058  -0.7993333\n"
     ]
    }
   ],
   "source": [
    "means <- colMeans(data)\n",
    "centered <- t( t(data) - means )\n",
    "\n",
    "print(means)\n",
    "print(head(centered))"
   ]
  },
  {
   "cell_type": "markdown",
   "metadata": {},
   "source": [
    "Resulting set has arithmetic mean of zero (minor floating-point strangeness may happen when testing this). Note that double-transpose was applied as subtracting vector from matrix in R is done row-wise, and we want to return to our original column oriented dataset (yes, each operation will copy the entire dataset in memory). \n",
    "\n",
    "Subsequently, we can calculate variance-covariance matrix of newly centered data"
   ]
  },
  {
   "cell_type": "code",
   "execution_count": 18,
   "metadata": {},
   "outputs": [
    {
     "name": "stdout",
     "output_type": "stream",
     "text": [
      "             Sepal.Length Sepal.Width Petal.Length Petal.Width\n",
      "Sepal.Length    0.6856935  -0.0424340    1.2743154   0.5162707\n",
      "Sepal.Width    -0.0424340   0.1899794   -0.3296564  -0.1216394\n",
      "Petal.Length    1.2743154  -0.3296564    3.1162779   1.2956094\n",
      "Petal.Width     0.5162707  -0.1216394    1.2956094   0.5810063\n"
     ]
    }
   ],
   "source": [
    "c <- cov(centered)\n",
    "print(c)"
   ]
  },
  {
   "cell_type": "markdown",
   "metadata": {},
   "source": [
    "## Variance and covariance\n",
    "\n",
    "Variance, or squared standard deviation, is a measure of spread between numbers in data set.\n",
    "\n",
    "$$ \\sigma^2 = \\frac{\\sum_{i=1}^{n} (X - \\mu)^2}{N} $$"
   ]
  },
  {
   "cell_type": "code",
   "execution_count": null,
   "metadata": {},
   "outputs": [],
   "source": []
  }
 ],
 "metadata": {
  "kernelspec": {
   "display_name": "R",
   "language": "R",
   "name": "ir"
  },
  "language_info": {
   "codemirror_mode": "r",
   "file_extension": ".r",
   "mimetype": "text/x-r-source",
   "name": "R",
   "pygments_lexer": "r",
   "version": "3.3.2"
  }
 },
 "nbformat": 4,
 "nbformat_minor": 2
}
