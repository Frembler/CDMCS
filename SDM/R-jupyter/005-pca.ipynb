{
 "cells": [
  {
   "cell_type": "markdown",
   "metadata": {},
   "source": [
    "# Principal component analysis\n",
    "\n",
    "[Remember that we can rotate a dataset into new coordinate space](004-rotate.ipynb). This is the core idea behind PCA, which rotates a high-dimensional dataset into a space where maximum amount of variance is captured in smallest amount of dimensions. Realistic datasets often have very high dimensionality but classical data mining methods can perform poorly in these conditions. This is known as \"curse of dimensionality\". Furthermore, high-dimenensional data is difficult for humans to visualize."
   ]
  },
  {
   "cell_type": "code",
   "execution_count": 3,
   "metadata": {},
   "outputs": [
    {
     "name": "stdout",
     "output_type": "stream",
     "text": [
      "  Sepal.Length Sepal.Width Petal.Length Petal.Width\n",
      "1          5.1         3.5          1.4         0.2\n",
      "2          4.9         3.0          1.4         0.2\n",
      "3          4.7         3.2          1.3         0.2\n",
      "4          4.6         3.1          1.5         0.2\n",
      "5          5.0         3.6          1.4         0.2\n",
      "6          5.4         3.9          1.7         0.4\n"
     ]
    }
   ],
   "source": [
    "data <- iris\n",
    "data <- data[,-5]\n",
    "\n",
    "print(head(data))"
   ]
  },
  {
   "cell_type": "markdown",
   "metadata": {},
   "source": [
    "We want to reduce this 4-dimensional data set into something more manageable. Classical method to achieve this is eigen decomposition, which requires us to firstly mean-center our data. Arithmetic mean for each dimension will be subtracted from the data which is a common step in data standardization."
   ]
  },
  {
   "cell_type": "code",
   "execution_count": 4,
   "metadata": {},
   "outputs": [
    {
     "name": "stdout",
     "output_type": "stream",
     "text": [
      "Sepal.Length  Sepal.Width Petal.Length  Petal.Width \n",
      "    5.843333     3.057333     3.758000     1.199333 \n",
      "     Sepal.Length Sepal.Width Petal.Length Petal.Width\n",
      "[1,]   -0.7433333  0.44266667       -2.358  -0.9993333\n",
      "[2,]   -0.9433333 -0.05733333       -2.358  -0.9993333\n",
      "[3,]   -1.1433333  0.14266667       -2.458  -0.9993333\n",
      "[4,]   -1.2433333  0.04266667       -2.258  -0.9993333\n",
      "[5,]   -0.8433333  0.54266667       -2.358  -0.9993333\n",
      "[6,]   -0.4433333  0.84266667       -2.058  -0.7993333\n"
     ]
    }
   ],
   "source": [
    "means <- colMeans(data)\n",
    "centered <- t( t(data) - means )\n",
    "\n",
    "print(means)\n",
    "print(head(centered))"
   ]
  },
  {
   "cell_type": "markdown",
   "metadata": {},
   "source": [
    "Resulting set has arithmetic mean of zero (minor floating-point strangeness may happen when testing this). Note that double-transpose was applied as subtracting vector from matrix in R is done row-wise, and we want to return to our original column oriented dataset (yes, each operation will copy the entire dataset in memory). \n",
    "\n",
    "Subsequently, we can calculate variance-covariance matrix of newly centered data"
   ]
  },
  {
   "cell_type": "code",
   "execution_count": 5,
   "metadata": {},
   "outputs": [
    {
     "name": "stdout",
     "output_type": "stream",
     "text": [
      "             Sepal.Length Sepal.Width Petal.Length Petal.Width\n",
      "Sepal.Length    0.6856935  -0.0424340    1.2743154   0.5162707\n",
      "Sepal.Width    -0.0424340   0.1899794   -0.3296564  -0.1216394\n",
      "Petal.Length    1.2743154  -0.3296564    3.1162779   1.2956094\n",
      "Petal.Width     0.5162707  -0.1216394    1.2956094   0.5810063\n"
     ]
    }
   ],
   "source": [
    "c <- cov(centered)\n",
    "print(c)"
   ]
  },
  {
   "cell_type": "markdown",
   "metadata": {},
   "source": [
    "> Covariance matrix is explained [here](002-var-covar.ipynb)\n",
    "\n",
    "Then we will compute the eigenvalues and eigenvectors of our covariance matrix. Resulting eigenvectors are multiplied with centered dataset to rotate it to new vectors space."
   ]
  },
  {
   "cell_type": "code",
   "execution_count": 29,
   "metadata": {},
   "outputs": [
    {
     "name": "stdout",
     "output_type": "stream",
     "text": [
      "          [,1]       [,2]        [,3]         [,4]\n",
      "[1,] -2.684126 -0.3193972 -0.02791483  0.002262437\n",
      "[2,] -2.714142  0.1770012 -0.21046427  0.099026550\n",
      "[3,] -2.888991  0.1449494  0.01790026  0.019968390\n",
      "[4,] -2.745343  0.3182990  0.03155937 -0.075575817\n",
      "[5,] -2.728717 -0.3267545  0.09007924 -0.061258593\n",
      "[6,] -2.280860 -0.7413304  0.16867766 -0.024200858\n"
     ]
    },
    {
     "data": {
      "image/png": "[encoded data removed]",
      "text/plain": [
       "plot without title"
      ]
     },
     "metadata": {},
     "output_type": "display_data"
    }
   ],
   "source": [
    "e <- eigen(c)\n",
    "\n",
    "library(ggplot2)\n",
    "#print(e$vectors)\n",
    "\n",
    "featureVect <- e$vectors\n",
    "\n",
    "rotated <- centered %*% featureVect\n",
    "\n",
    "print(head(rotated))\n",
    "plot(e$values, type = \"b\")"
   ]
  },
  {
   "cell_type": "markdown",
   "metadata": {},
   "source": [
    "Eigenvectors represent the longest line through data dimension while corresponding eigenvalue denotes its length. Note the decreasing nature of eigenvalues - dimensions in the resulting data are already ordered according to significance. We can now create a reduced dataset where less significant values are ignored."
   ]
  },
  {
   "cell_type": "code",
   "execution_count": 35,
   "metadata": {},
   "outputs": [
    {
     "data": {
      "image/png": "[encoded data removed]",
      "text/plain": [
       "plot without title"
      ]
     },
     "metadata": {},
     "output_type": "display_data"
    }
   ],
   "source": [
    "reduced <- rotated[,c(1,2)]\n",
    "plot(reduced, xlab = \"X\", ylab = \"Y\")"
   ]
  },
  {
   "cell_type": "markdown",
   "metadata": {},
   "source": [
    "Two distinct clusters emerge once we plot first two principal components on X and Y axis. Thus, we can use any clustering or classification methods on this compressed data. If the less important dimensions and subtracted means were not discarded, we can rotate the entire dataset back to original vector space."
   ]
  },
  {
   "cell_type": "code",
   "execution_count": 42,
   "metadata": {},
   "outputs": [
    {
     "name": "stdout",
     "output_type": "stream",
     "text": [
      "     Sepal.Length Sepal.Width Petal.Length Petal.Width\n",
      "[1,]          5.1         3.5          1.4         0.2\n",
      "[2,]          4.9         3.0          1.4         0.2\n",
      "[3,]          4.7         3.2          1.3         0.2\n",
      "[4,]          4.6         3.1          1.5         0.2\n",
      "[5,]          5.0         3.6          1.4         0.2\n",
      "[6,]          5.4         3.9          1.7         0.4\n"
     ]
    }
   ],
   "source": [
    "orig <- t(rotated %*% t(e$vectors)) + means\n",
    "orig <- t(orig)\n",
    "colnames(orig) <- colnames(data)\n",
    "\n",
    "print(head(orig))"
   ]
  },
  {
   "cell_type": "markdown",
   "metadata": {},
   "source": [
    "Some transpose magic is needed to ensure proper element-wise multiplication and addition in R. A builtin `prcomp` function can be used to achieve the same result."
   ]
  },
  {
   "cell_type": "code",
   "execution_count": 48,
   "metadata": {},
   "outputs": [],
   "source": [
    "builtin <- data.frame()\n",
    "builtin.pca <- prcomp(data)\n",
    "builtin.rotated <- builtin.pca$x"
   ]
  },
  {
   "cell_type": "code",
   "execution_count": 49,
   "metadata": {},
   "outputs": [],
   "source": [
    "builtin.back <- t(builtin.rotated %*% t(builtin.pca$rotation)) + builtin.pca$center\n",
    "builtin.back <- t(builtin.back)"
   ]
  },
  {
   "cell_type": "code",
   "execution_count": 50,
   "metadata": {},
   "outputs": [
    {
     "name": "stdout",
     "output_type": "stream",
     "text": [
      "     Sepal.Length Sepal.Width Petal.Length Petal.Width\n",
      "[1,]          5.1         3.5          1.4         0.2\n",
      "[2,]          4.9         3.0          1.4         0.2\n",
      "[3,]          4.7         3.2          1.3         0.2\n",
      "[4,]          4.6         3.1          1.5         0.2\n",
      "[5,]          5.0         3.6          1.4         0.2\n",
      "[6,]          5.4         3.9          1.7         0.4\n"
     ]
    }
   ],
   "source": [
    "print(head(builtin.back))"
   ]
  },
  {
   "cell_type": "code",
   "execution_count": null,
   "metadata": {},
   "outputs": [],
   "source": []
  }
 ],
 "metadata": {
  "kernelspec": {
   "display_name": "R",
   "language": "R",
   "name": "ir"
  },
  "language_info": {
   "codemirror_mode": "r",
   "file_extension": ".r",
   "mimetype": "text/x-r-source",
   "name": "R",
   "pygments_lexer": "r",
   "version": "3.3.2"
  }
 },
 "nbformat": 4,
 "nbformat_minor": 2
}
