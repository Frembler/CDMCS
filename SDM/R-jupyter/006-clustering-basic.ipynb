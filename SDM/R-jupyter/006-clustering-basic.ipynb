{
 "cells": [
  {
   "cell_type": "markdown",
   "metadata": {},
   "source": [
    "# Clustering with k-means and k-mediod algorithms\n",
    "\n",
    "K-means and k-medidd are the most basic unsupervised clustering algorithms. Firstly, lets load our perviously saved [pca-reduced dataset](005-pca.ipynb)."
   ]
  },
  {
   "cell_type": "code",
   "execution_count": 2,
   "metadata": {},
   "outputs": [
    {
     "name": "stdout",
     "output_type": "stream",
     "text": [
      "          [,1]       [,2]\n",
      "[1,] -2.684126 -0.3193972\n",
      "[2,] -2.714142  0.1770012\n",
      "[3,] -2.888991  0.1449494\n",
      "[4,] -2.745343  0.3182990\n",
      "[5,] -2.728717 -0.3267545\n",
      "[6,] -2.280860 -0.7413304\n"
     ]
    }
   ],
   "source": [
    "load(\"/tmp/reduced-iris.RData\")\n",
    "print(head(data))"
   ]
  },
  {
   "cell_type": "code",
   "execution_count": null,
   "metadata": {},
   "outputs": [],
   "source": []
  }
 ],
 "metadata": {
  "kernelspec": {
   "display_name": "R",
   "language": "R",
   "name": "ir"
  },
  "language_info": {
   "codemirror_mode": "r",
   "file_extension": ".r",
   "mimetype": "text/x-r-source",
   "name": "R",
   "pygments_lexer": "r",
   "version": "3.3.2"
  }
 },
 "nbformat": 4,
 "nbformat_minor": 2
}
