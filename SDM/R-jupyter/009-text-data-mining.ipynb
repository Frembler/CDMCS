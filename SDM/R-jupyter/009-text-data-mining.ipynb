{
 "cells": [
  {
   "cell_type": "markdown",
   "metadata": {},
   "source": [
    "# Text data mining\n",
    "\n",
    "* dataset used for this exercise can be downloaded from [here](https://archive.ics.uci.edu/ml/datasets/Twenty+Newsgroups)\n",
    "\n",
    "This example will rely mostly on R libraries. We will start by clearing any existing variables from memory and import `tm` text mining package."
   ]
  },
  {
   "cell_type": "code",
   "execution_count": 1,
   "metadata": {},
   "outputs": [
    {
     "name": "stderr",
     "output_type": "stream",
     "text": [
      "Loading required package: NLP\n"
     ]
    }
   ],
   "source": [
    "rm(list=ls())\n",
    "library(tm)"
   ]
  },
  {
   "cell_type": "markdown",
   "metadata": {},
   "source": [
    "Next, lets load recursively all documents from a directory into memory, to create a corpus, or a collection of documents. "
   ]
  },
  {
   "cell_type": "code",
   "execution_count": 2,
   "metadata": {},
   "outputs": [],
   "source": [
    "src <- \"/home/jovyan/data/SDM/20_newsgroups/\"\n",
    "docs <- VCorpus(DirSource(directory=src, encoding='utf-8', pattern='^.*3$', recursive = TRUE))"
   ]
  },
  {
   "cell_type": "markdown",
   "metadata": {},
   "source": [
    "> \"Load everything into memory and fiter out by copy\" is the R way. Not ideal when dealing with large amount of data, or if you are in a streaming setting. But it's good enough for a simple example.\n",
    "\n",
    "Proceed by pre-processing the documents. Lowercase and uppercase words will be treated as distinct words if left untreated. Likewise, stop words, punctuation marks, syntax like HTTP tags, etc., can have a significant impact of final results."
   ]
  },
  {
   "cell_type": "code",
   "execution_count": 3,
   "metadata": {},
   "outputs": [],
   "source": [
    "docs <- tm_map(docs, content_transformer(tolower))   \n",
    "docs <- tm_map(docs, removeNumbers)   \n",
    "docs <- tm_map(docs, removeWords, stopwords(\"english\"))   \n",
    "docs <- tm_map(docs, removePunctuation)   \n",
    "docs <- tm_map(docs, stemDocument)"
   ]
  },
  {
   "cell_type": "markdown",
   "metadata": {},
   "source": [
    "This example is based on usual use case of text data mining in academia, which is natural language processing. Note that most of the core mining steps remain the same when mining through non human language documents, such as log data. "
   ]
  },
  {
   "cell_type": "code",
   "execution_count": 4,
   "metadata": {},
   "outputs": [
    {
     "data": {
      "text/plain": [
       "      Length Class             Mode\n",
       "51123 2      PlainTextDocument list\n",
       "51133 2      PlainTextDocument list\n",
       "51143 2      PlainTextDocument list\n",
       "51153 2      PlainTextDocument list\n",
       "51163 2      PlainTextDocument list\n",
       "51173 2      PlainTextDocument list"
      ]
     },
     "metadata": {},
     "output_type": "display_data"
    }
   ],
   "source": [
    "head(summary(docs))"
   ]
  },
  {
   "cell_type": "markdown",
   "metadata": {},
   "source": [
    "Now create a bag of words, or a document term matrix."
   ]
  },
  {
   "cell_type": "code",
   "execution_count": 5,
   "metadata": {},
   "outputs": [
    {
     "data": {
      "text/html": [
       "<table>\n",
       "<thead><tr><th></th><th scope=col>aaa</th><th scope=col>aaaa</th><th scope=col>aaaahhh</th><th scope=col>aabengaltigrorg</th><th scope=col>aac</th></tr></thead>\n",
       "<tbody>\n",
       "\t<tr><th scope=row>51123</th><td>0</td><td>0</td><td>0</td><td>0</td><td>0</td></tr>\n",
       "\t<tr><th scope=row>51133</th><td>0</td><td>0</td><td>0</td><td>0</td><td>0</td></tr>\n",
       "\t<tr><th scope=row>51143</th><td>0</td><td>0</td><td>0</td><td>0</td><td>0</td></tr>\n",
       "\t<tr><th scope=row>51153</th><td>0</td><td>0</td><td>0</td><td>0</td><td>0</td></tr>\n",
       "\t<tr><th scope=row>51163</th><td>0</td><td>0</td><td>0</td><td>0</td><td>0</td></tr>\n",
       "</tbody>\n",
       "</table>\n"
      ],
      "text/latex": [
       "\\begin{tabular}{r|lllll}\n",
       "  & aaa & aaaa & aaaahhh & aabengaltigrorg & aac\\\\\n",
       "\\hline\n",
       "\t51123 & 0 & 0 & 0 & 0 & 0\\\\\n",
       "\t51133 & 0 & 0 & 0 & 0 & 0\\\\\n",
       "\t51143 & 0 & 0 & 0 & 0 & 0\\\\\n",
       "\t51153 & 0 & 0 & 0 & 0 & 0\\\\\n",
       "\t51163 & 0 & 0 & 0 & 0 & 0\\\\\n",
       "\\end{tabular}\n"
      ],
      "text/markdown": [
       "\n",
       "| <!--/--> | aaa | aaaa | aaaahhh | aabengaltigrorg | aac | \n",
       "|---|---|---|---|---|\n",
       "| 51123 | 0 | 0 | 0 | 0 | 0 | \n",
       "| 51133 | 0 | 0 | 0 | 0 | 0 | \n",
       "| 51143 | 0 | 0 | 0 | 0 | 0 | \n",
       "| 51153 | 0 | 0 | 0 | 0 | 0 | \n",
       "| 51163 | 0 | 0 | 0 | 0 | 0 | \n",
       "\n",
       "\n"
      ],
      "text/plain": [
       "       Terms\n",
       "Docs    aaa aaaa aaaahhh aabengaltigrorg aac\n",
       "  51123 0   0    0       0               0  \n",
       "  51133 0   0    0       0               0  \n",
       "  51143 0   0    0       0               0  \n",
       "  51153 0   0    0       0               0  \n",
       "  51163 0   0    0       0               0  "
      ]
     },
     "metadata": {},
     "output_type": "display_data"
    }
   ],
   "source": [
    "dtm <- DocumentTermMatrix(docs, control=list(wordLengths=c(3,40)))\n",
    "partial <- as.matrix(dtm)[c(1:5), c(1:5)]\n",
    "partial"
   ]
  },
  {
   "cell_type": "code",
   "execution_count": 6,
   "metadata": {},
   "outputs": [
    {
     "data": {
      "text/html": [
       "2007"
      ],
      "text/latex": [
       "2007"
      ],
      "text/markdown": [
       "2007"
      ],
      "text/plain": [
       "[1] 2007"
      ]
     },
     "metadata": {},
     "output_type": "display_data"
    },
    {
     "data": {
      "text/html": [
       "<ol class=list-inline>\n",
       "\t<li>'51123'</li>\n",
       "\t<li>'51133'</li>\n",
       "\t<li>'51143'</li>\n",
       "\t<li>'51153'</li>\n",
       "\t<li>'51163'</li>\n",
       "\t<li>'51173'</li>\n",
       "</ol>\n"
      ],
      "text/latex": [
       "\\begin{enumerate*}\n",
       "\\item '51123'\n",
       "\\item '51133'\n",
       "\\item '51143'\n",
       "\\item '51153'\n",
       "\\item '51163'\n",
       "\\item '51173'\n",
       "\\end{enumerate*}\n"
      ],
      "text/markdown": [
       "1. '51123'\n",
       "2. '51133'\n",
       "3. '51143'\n",
       "4. '51153'\n",
       "5. '51163'\n",
       "6. '51173'\n",
       "\n",
       "\n"
      ],
      "text/plain": [
       "[1] \"51123\" \"51133\" \"51143\" \"51153\" \"51163\" \"51173\""
      ]
     },
     "metadata": {},
     "output_type": "display_data"
    }
   ],
   "source": [
    "nrow(dtm)\n",
    "head(rownames(dtm))"
   ]
  },
  {
   "cell_type": "code",
   "execution_count": 7,
   "metadata": {},
   "outputs": [
    {
     "data": {
      "text/html": [
       "36161"
      ],
      "text/latex": [
       "36161"
      ],
      "text/markdown": [
       "36161"
      ],
      "text/plain": [
       "[1] 36161"
      ]
     },
     "metadata": {},
     "output_type": "display_data"
    },
    {
     "data": {
      "text/html": [
       "<ol class=list-inline>\n",
       "\t<li>'aaa'</li>\n",
       "\t<li>'aaaa'</li>\n",
       "\t<li>'aaaahhh'</li>\n",
       "\t<li>'aabengaltigrorg'</li>\n",
       "\t<li>'aac'</li>\n",
       "\t<li>'aacapricorntaiselcomtw'</li>\n",
       "</ol>\n"
      ],
      "text/latex": [
       "\\begin{enumerate*}\n",
       "\\item 'aaa'\n",
       "\\item 'aaaa'\n",
       "\\item 'aaaahhh'\n",
       "\\item 'aabengaltigrorg'\n",
       "\\item 'aac'\n",
       "\\item 'aacapricorntaiselcomtw'\n",
       "\\end{enumerate*}\n"
      ],
      "text/markdown": [
       "1. 'aaa'\n",
       "2. 'aaaa'\n",
       "3. 'aaaahhh'\n",
       "4. 'aabengaltigrorg'\n",
       "5. 'aac'\n",
       "6. 'aacapricorntaiselcomtw'\n",
       "\n",
       "\n"
      ],
      "text/plain": [
       "[1] \"aaa\"                    \"aaaa\"                   \"aaaahhh\"               \n",
       "[4] \"aabengaltigrorg\"        \"aac\"                    \"aacapricorntaiselcomtw\""
      ]
     },
     "metadata": {},
     "output_type": "display_data"
    }
   ],
   "source": [
    "ncol(dtm)\n",
    "head(colnames(dtm))"
   ]
  },
  {
   "cell_type": "markdown",
   "metadata": {},
   "source": [
    "Document term matrices tend to be sparse, or populated with vectors where most vectors are filled with zeroes. These infrequent terms can be culled from our total to reduce computational overhead while also producing more meaningful results."
   ]
  },
  {
   "cell_type": "code",
   "execution_count": 8,
   "metadata": {},
   "outputs": [
    {
     "data": {
      "text/html": [
       "<table>\n",
       "<thead><tr><th></th><th scope=col>abl</th><th scope=col>accept</th><th scope=col>access</th><th scope=col>actual</th><th scope=col>address</th><th scope=col>advanc</th><th scope=col>ago</th><th scope=col>agre</th><th scope=col>allow</th><th scope=col>almost</th><th scope=col>⋯</th><th scope=col>work</th><th scope=col>world</th><th scope=col>write</th><th scope=col>wrong</th><th scope=col>wrote</th><th scope=col>xnewsread</th><th scope=col>xref</th><th scope=col>year</th><th scope=col>yes</th><th scope=col>yet</th></tr></thead>\n",
       "<tbody>\n",
       "\t<tr><th scope=row>51123</th><td>0</td><td>0</td><td>0</td><td>0</td><td>0</td><td>0</td><td>0</td><td>0</td><td>0</td><td>0</td><td>⋯</td><td>0</td><td>0</td><td>1</td><td>0</td><td>0</td><td>0</td><td>0</td><td>0</td><td>0</td><td>0</td></tr>\n",
       "\t<tr><th scope=row>51133</th><td>0</td><td>5</td><td>0</td><td>0</td><td>0</td><td>0</td><td>0</td><td>0</td><td>0</td><td>0</td><td>⋯</td><td>1</td><td>0</td><td>1</td><td>0</td><td>0</td><td>0</td><td>0</td><td>0</td><td>0</td><td>0</td></tr>\n",
       "\t<tr><th scope=row>51143</th><td>0</td><td>0</td><td>0</td><td>0</td><td>0</td><td>0</td><td>0</td><td>0</td><td>0</td><td>0</td><td>⋯</td><td>0</td><td>0</td><td>1</td><td>0</td><td>0</td><td>0</td><td>0</td><td>0</td><td>0</td><td>0</td></tr>\n",
       "\t<tr><th scope=row>51153</th><td>0</td><td>2</td><td>0</td><td>1</td><td>0</td><td>0</td><td>0</td><td>1</td><td>0</td><td>0</td><td>⋯</td><td>0</td><td>1</td><td>1</td><td>2</td><td>0</td><td>0</td><td>0</td><td>0</td><td>1</td><td>0</td></tr>\n",
       "\t<tr><th scope=row>51163</th><td>0</td><td>0</td><td>0</td><td>0</td><td>0</td><td>0</td><td>0</td><td>0</td><td>0</td><td>0</td><td>⋯</td><td>0</td><td>1</td><td>2</td><td>0</td><td>0</td><td>0</td><td>0</td><td>0</td><td>1</td><td>0</td></tr>\n",
       "\t<tr><th scope=row>51173</th><td>0</td><td>0</td><td>0</td><td>0</td><td>0</td><td>0</td><td>1</td><td>0</td><td>0</td><td>0</td><td>⋯</td><td>0</td><td>1</td><td>1</td><td>0</td><td>0</td><td>0</td><td>0</td><td>0</td><td>0</td><td>0</td></tr>\n",
       "\t<tr><th scope=row>51183</th><td>0</td><td>1</td><td>0</td><td>0</td><td>0</td><td>0</td><td>0</td><td>1</td><td>0</td><td>0</td><td>⋯</td><td>0</td><td>0</td><td>3</td><td>0</td><td>1</td><td>0</td><td>0</td><td>1</td><td>2</td><td>0</td></tr>\n",
       "\t<tr><th scope=row>51193</th><td>0</td><td>0</td><td>0</td><td>1</td><td>0</td><td>0</td><td>0</td><td>0</td><td>0</td><td>1</td><td>⋯</td><td>0</td><td>0</td><td>3</td><td>0</td><td>0</td><td>0</td><td>0</td><td>0</td><td>0</td><td>0</td></tr>\n",
       "\t<tr><th scope=row>51203</th><td>0</td><td>0</td><td>0</td><td>0</td><td>0</td><td>0</td><td>0</td><td>0</td><td>0</td><td>0</td><td>⋯</td><td>0</td><td>0</td><td>4</td><td>4</td><td>0</td><td>0</td><td>0</td><td>0</td><td>0</td><td>0</td></tr>\n",
       "\t<tr><th scope=row>51213</th><td>0</td><td>0</td><td>0</td><td>0</td><td>0</td><td>0</td><td>0</td><td>0</td><td>0</td><td>0</td><td>⋯</td><td>0</td><td>1</td><td>1</td><td>0</td><td>0</td><td>0</td><td>0</td><td>0</td><td>0</td><td>0</td></tr>\n",
       "\t<tr><th scope=row>51223</th><td>0</td><td>0</td><td>0</td><td>0</td><td>0</td><td>0</td><td>0</td><td>0</td><td>0</td><td>0</td><td>⋯</td><td>0</td><td>0</td><td>2</td><td>0</td><td>0</td><td>0</td><td>0</td><td>0</td><td>0</td><td>0</td></tr>\n",
       "\t<tr><th scope=row>51233</th><td>0</td><td>0</td><td>0</td><td>0</td><td>0</td><td>0</td><td>0</td><td>0</td><td>0</td><td>1</td><td>⋯</td><td>0</td><td>0</td><td>1</td><td>0</td><td>0</td><td>0</td><td>0</td><td>0</td><td>0</td><td>0</td></tr>\n",
       "\t<tr><th scope=row>51243</th><td>0</td><td>0</td><td>0</td><td>0</td><td>0</td><td>0</td><td>0</td><td>1</td><td>0</td><td>0</td><td>⋯</td><td>0</td><td>1</td><td>2</td><td>0</td><td>0</td><td>0</td><td>0</td><td>0</td><td>1</td><td>0</td></tr>\n",
       "\t<tr><th scope=row>51253</th><td>0</td><td>2</td><td>0</td><td>0</td><td>0</td><td>0</td><td>0</td><td>0</td><td>0</td><td>0</td><td>⋯</td><td>0</td><td>0</td><td>1</td><td>0</td><td>0</td><td>0</td><td>0</td><td>0</td><td>0</td><td>0</td></tr>\n",
       "\t<tr><th scope=row>51273</th><td>0</td><td>0</td><td>0</td><td>0</td><td>0</td><td>0</td><td>0</td><td>0</td><td>0</td><td>0</td><td>⋯</td><td>0</td><td>0</td><td>1</td><td>0</td><td>0</td><td>0</td><td>0</td><td>0</td><td>0</td><td>0</td></tr>\n",
       "\t<tr><th scope=row>51283</th><td>1</td><td>0</td><td>0</td><td>0</td><td>0</td><td>0</td><td>0</td><td>0</td><td>0</td><td>0</td><td>⋯</td><td>0</td><td>2</td><td>1</td><td>0</td><td>1</td><td>0</td><td>1</td><td>0</td><td>0</td><td>1</td></tr>\n",
       "\t<tr><th scope=row>51293</th><td>1</td><td>0</td><td>0</td><td>0</td><td>0</td><td>0</td><td>1</td><td>0</td><td>0</td><td>0</td><td>⋯</td><td>0</td><td>0</td><td>1</td><td>0</td><td>0</td><td>0</td><td>0</td><td>0</td><td>0</td><td>0</td></tr>\n",
       "\t<tr><th scope=row>51303</th><td>0</td><td>0</td><td>0</td><td>0</td><td>0</td><td>0</td><td>0</td><td>0</td><td>0</td><td>0</td><td>⋯</td><td>0</td><td>0</td><td>2</td><td>0</td><td>0</td><td>0</td><td>0</td><td>0</td><td>0</td><td>0</td></tr>\n",
       "\t<tr><th scope=row>51313</th><td>0</td><td>0</td><td>0</td><td>0</td><td>0</td><td>0</td><td>0</td><td>0</td><td>0</td><td>0</td><td>⋯</td><td>0</td><td>0</td><td>0</td><td>0</td><td>1</td><td>1</td><td>0</td><td>0</td><td>0</td><td>0</td></tr>\n",
       "\t<tr><th scope=row>53063</th><td>0</td><td>1</td><td>0</td><td>0</td><td>0</td><td>0</td><td>0</td><td>0</td><td>0</td><td>0</td><td>⋯</td><td>0</td><td>0</td><td>0</td><td>0</td><td>0</td><td>0</td><td>1</td><td>0</td><td>0</td><td>0</td></tr>\n",
       "\t<tr><th scope=row>53073</th><td>0</td><td>0</td><td>0</td><td>0</td><td>0</td><td>0</td><td>0</td><td>0</td><td>0</td><td>0</td><td>⋯</td><td>0</td><td>0</td><td>1</td><td>0</td><td>0</td><td>0</td><td>0</td><td>1</td><td>0</td><td>0</td></tr>\n",
       "\t<tr><th scope=row>53083</th><td>0</td><td>0</td><td>0</td><td>0</td><td>0</td><td>0</td><td>0</td><td>0</td><td>0</td><td>1</td><td>⋯</td><td>0</td><td>0</td><td>2</td><td>0</td><td>0</td><td>0</td><td>0</td><td>0</td><td>0</td><td>0</td></tr>\n",
       "\t<tr><th scope=row>53093</th><td>0</td><td>0</td><td>0</td><td>0</td><td>0</td><td>0</td><td>0</td><td>1</td><td>0</td><td>0</td><td>⋯</td><td>0</td><td>0</td><td>1</td><td>0</td><td>0</td><td>0</td><td>0</td><td>0</td><td>0</td><td>1</td></tr>\n",
       "\t<tr><th scope=row>53103</th><td>0</td><td>0</td><td>0</td><td>1</td><td>0</td><td>0</td><td>0</td><td>0</td><td>0</td><td>0</td><td>⋯</td><td>0</td><td>2</td><td>1</td><td>0</td><td>0</td><td>0</td><td>1</td><td>1</td><td>0</td><td>0</td></tr>\n",
       "\t<tr><th scope=row>53113</th><td>0</td><td>0</td><td>0</td><td>0</td><td>0</td><td>0</td><td>1</td><td>0</td><td>0</td><td>0</td><td>⋯</td><td>1</td><td>0</td><td>1</td><td>0</td><td>1</td><td>0</td><td>0</td><td>2</td><td>1</td><td>0</td></tr>\n",
       "\t<tr><th scope=row>53123</th><td>0</td><td>0</td><td>0</td><td>0</td><td>0</td><td>0</td><td>0</td><td>0</td><td>0</td><td>0</td><td>⋯</td><td>0</td><td>1</td><td>1</td><td>0</td><td>0</td><td>0</td><td>1</td><td>0</td><td>0</td><td>0</td></tr>\n",
       "\t<tr><th scope=row>53133</th><td>0</td><td>0</td><td>0</td><td>0</td><td>0</td><td>0</td><td>0</td><td>0</td><td>0</td><td>0</td><td>⋯</td><td>0</td><td>1</td><td>0</td><td>0</td><td>0</td><td>0</td><td>0</td><td>0</td><td>0</td><td>0</td></tr>\n",
       "\t<tr><th scope=row>53143</th><td>0</td><td>0</td><td>0</td><td>0</td><td>0</td><td>0</td><td>0</td><td>0</td><td>0</td><td>0</td><td>⋯</td><td>0</td><td>0</td><td>1</td><td>1</td><td>0</td><td>0</td><td>0</td><td>0</td><td>0</td><td>0</td></tr>\n",
       "\t<tr><th scope=row>53153</th><td>0</td><td>1</td><td>0</td><td>0</td><td>0</td><td>0</td><td>0</td><td>0</td><td>0</td><td>0</td><td>⋯</td><td>0</td><td>0</td><td>2</td><td>4</td><td>1</td><td>0</td><td>0</td><td>1</td><td>0</td><td>0</td></tr>\n",
       "\t<tr><th scope=row>53163</th><td>0</td><td>0</td><td>0</td><td>0</td><td>0</td><td>0</td><td>0</td><td>0</td><td>0</td><td>0</td><td>⋯</td><td>0</td><td>0</td><td>3</td><td>0</td><td>0</td><td>0</td><td>0</td><td>0</td><td>0</td><td>0</td></tr>\n",
       "\t<tr><th scope=row>⋮</th><td>⋮</td><td>⋮</td><td>⋮</td><td>⋮</td><td>⋮</td><td>⋮</td><td>⋮</td><td>⋮</td><td>⋮</td><td>⋮</td><td>⋱</td><td>⋮</td><td>⋮</td><td>⋮</td><td>⋮</td><td>⋮</td><td>⋮</td><td>⋮</td><td>⋮</td><td>⋮</td><td>⋮</td></tr>\n",
       "\t<tr><th scope=row>84123</th><td>0</td><td>0</td><td>0</td><td>1</td><td>1</td><td>0</td><td>0</td><td>2</td><td>0</td><td>0</td><td>⋯</td><td>0</td><td>3</td><td>0</td><td>1</td><td>2</td><td>1</td><td>0</td><td>0</td><td>0</td><td>0</td></tr>\n",
       "\t<tr><th scope=row>84133</th><td>0</td><td>0</td><td>0</td><td>0</td><td>0</td><td>0</td><td>0</td><td>0</td><td>0</td><td>0</td><td>⋯</td><td>0</td><td>0</td><td>1</td><td>0</td><td>0</td><td>0</td><td>0</td><td>0</td><td>1</td><td>0</td></tr>\n",
       "\t<tr><th scope=row>84143</th><td>0</td><td>0</td><td>0</td><td>0</td><td>0</td><td>0</td><td>0</td><td>0</td><td>0</td><td>0</td><td>⋯</td><td>0</td><td>0</td><td>0</td><td>0</td><td>0</td><td>0</td><td>1</td><td>0</td><td>0</td><td>0</td></tr>\n",
       "\t<tr><th scope=row>84153</th><td>0</td><td>0</td><td>0</td><td>0</td><td>0</td><td>0</td><td>0</td><td>0</td><td>0</td><td>0</td><td>⋯</td><td>0</td><td>0</td><td>1</td><td>0</td><td>0</td><td>0</td><td>1</td><td>0</td><td>0</td><td>0</td></tr>\n",
       "\t<tr><th scope=row>84183</th><td>0</td><td>0</td><td>0</td><td>0</td><td>0</td><td>0</td><td>0</td><td>0</td><td>0</td><td>0</td><td>⋯</td><td>0</td><td>0</td><td>0</td><td>0</td><td>1</td><td>0</td><td>1</td><td>0</td><td>0</td><td>0</td></tr>\n",
       "\t<tr><th scope=row>84193</th><td>0</td><td>0</td><td>0</td><td>1</td><td>0</td><td>0</td><td>0</td><td>0</td><td>0</td><td>0</td><td>⋯</td><td>0</td><td>1</td><td>2</td><td>0</td><td>0</td><td>0</td><td>1</td><td>1</td><td>1</td><td>0</td></tr>\n",
       "\t<tr><th scope=row>84203</th><td>0</td><td>0</td><td>0</td><td>1</td><td>0</td><td>0</td><td>1</td><td>1</td><td>0</td><td>0</td><td>⋯</td><td>0</td><td>0</td><td>1</td><td>1</td><td>0</td><td>0</td><td>1</td><td>1</td><td>0</td><td>0</td></tr>\n",
       "\t<tr><th scope=row>84213</th><td>0</td><td>0</td><td>0</td><td>0</td><td>0</td><td>0</td><td>0</td><td>0</td><td>0</td><td>0</td><td>⋯</td><td>0</td><td>0</td><td>0</td><td>0</td><td>1</td><td>0</td><td>0</td><td>0</td><td>0</td><td>0</td></tr>\n",
       "\t<tr><th scope=row>84223</th><td>0</td><td>0</td><td>0</td><td>3</td><td>1</td><td>0</td><td>0</td><td>1</td><td>1</td><td>0</td><td>⋯</td><td>1</td><td>2</td><td>4</td><td>2</td><td>0</td><td>0</td><td>1</td><td>5</td><td>1</td><td>3</td></tr>\n",
       "\t<tr><th scope=row>84233</th><td>0</td><td>1</td><td>0</td><td>1</td><td>0</td><td>0</td><td>0</td><td>0</td><td>0</td><td>0</td><td>⋯</td><td>0</td><td>0</td><td>1</td><td>0</td><td>0</td><td>0</td><td>1</td><td>1</td><td>0</td><td>0</td></tr>\n",
       "\t<tr><th scope=row>84243</th><td>0</td><td>0</td><td>0</td><td>0</td><td>0</td><td>0</td><td>0</td><td>0</td><td>0</td><td>0</td><td>⋯</td><td>0</td><td>0</td><td>1</td><td>0</td><td>0</td><td>0</td><td>0</td><td>0</td><td>0</td><td>0</td></tr>\n",
       "\t<tr><th scope=row>84253</th><td>0</td><td>0</td><td>0</td><td>2</td><td>0</td><td>0</td><td>0</td><td>0</td><td>0</td><td>0</td><td>⋯</td><td>0</td><td>0</td><td>1</td><td>0</td><td>0</td><td>0</td><td>1</td><td>0</td><td>0</td><td>0</td></tr>\n",
       "\t<tr><th scope=row>84263</th><td>0</td><td>0</td><td>0</td><td>0</td><td>0</td><td>0</td><td>0</td><td>0</td><td>0</td><td>0</td><td>⋯</td><td>0</td><td>0</td><td>0</td><td>0</td><td>0</td><td>0</td><td>1</td><td>1</td><td>0</td><td>0</td></tr>\n",
       "\t<tr><th scope=row>84273</th><td>0</td><td>0</td><td>0</td><td>0</td><td>0</td><td>0</td><td>0</td><td>0</td><td>0</td><td>0</td><td>⋯</td><td>0</td><td>0</td><td>1</td><td>0</td><td>1</td><td>0</td><td>0</td><td>0</td><td>0</td><td>0</td></tr>\n",
       "\t<tr><th scope=row>84283</th><td>0</td><td>0</td><td>2</td><td>0</td><td>0</td><td>0</td><td>0</td><td>0</td><td>1</td><td>1</td><td>⋯</td><td>2</td><td>0</td><td>0</td><td>1</td><td>0</td><td>0</td><td>1</td><td>0</td><td>0</td><td>0</td></tr>\n",
       "\t<tr><th scope=row>84293</th><td>0</td><td>0</td><td>0</td><td>0</td><td>0</td><td>0</td><td>0</td><td>0</td><td>0</td><td>0</td><td>⋯</td><td>0</td><td>0</td><td>0</td><td>0</td><td>0</td><td>0</td><td>1</td><td>0</td><td>0</td><td>0</td></tr>\n",
       "\t<tr><th scope=row>84303</th><td>0</td><td>0</td><td>0</td><td>0</td><td>0</td><td>0</td><td>0</td><td>0</td><td>0</td><td>0</td><td>⋯</td><td>0</td><td>0</td><td>3</td><td>1</td><td>0</td><td>0</td><td>1</td><td>0</td><td>0</td><td>0</td></tr>\n",
       "\t<tr><th scope=row>84313</th><td>0</td><td>0</td><td>0</td><td>0</td><td>0</td><td>0</td><td>0</td><td>0</td><td>0</td><td>0</td><td>⋯</td><td>0</td><td>0</td><td>1</td><td>0</td><td>0</td><td>0</td><td>1</td><td>0</td><td>0</td><td>0</td></tr>\n",
       "\t<tr><th scope=row>84323</th><td>0</td><td>0</td><td>0</td><td>1</td><td>1</td><td>0</td><td>0</td><td>0</td><td>1</td><td>0</td><td>⋯</td><td>0</td><td>0</td><td>1</td><td>0</td><td>0</td><td>0</td><td>1</td><td>0</td><td>0</td><td>0</td></tr>\n",
       "\t<tr><th scope=row>84333</th><td>0</td><td>0</td><td>0</td><td>0</td><td>0</td><td>0</td><td>0</td><td>0</td><td>0</td><td>0</td><td>⋯</td><td>0</td><td>0</td><td>2</td><td>0</td><td>0</td><td>1</td><td>1</td><td>1</td><td>0</td><td>0</td></tr>\n",
       "\t<tr><th scope=row>84343</th><td>0</td><td>1</td><td>0</td><td>1</td><td>0</td><td>0</td><td>0</td><td>2</td><td>3</td><td>0</td><td>⋯</td><td>0</td><td>2</td><td>3</td><td>2</td><td>0</td><td>1</td><td>1</td><td>0</td><td>0</td><td>0</td></tr>\n",
       "\t<tr><th scope=row>84353</th><td>0</td><td>0</td><td>0</td><td>0</td><td>0</td><td>0</td><td>0</td><td>0</td><td>0</td><td>0</td><td>⋯</td><td>0</td><td>0</td><td>2</td><td>0</td><td>0</td><td>0</td><td>1</td><td>0</td><td>0</td><td>0</td></tr>\n",
       "\t<tr><th scope=row>84363</th><td>0</td><td>0</td><td>0</td><td>0</td><td>0</td><td>0</td><td>0</td><td>0</td><td>0</td><td>0</td><td>⋯</td><td>0</td><td>0</td><td>2</td><td>0</td><td>0</td><td>0</td><td>1</td><td>0</td><td>1</td><td>0</td></tr>\n",
       "\t<tr><th scope=row>84403</th><td>0</td><td>0</td><td>0</td><td>0</td><td>0</td><td>0</td><td>0</td><td>0</td><td>0</td><td>0</td><td>⋯</td><td>0</td><td>0</td><td>2</td><td>0</td><td>0</td><td>0</td><td>1</td><td>1</td><td>0</td><td>0</td></tr>\n",
       "\t<tr><th scope=row>84413</th><td>0</td><td>0</td><td>0</td><td>0</td><td>0</td><td>0</td><td>0</td><td>0</td><td>0</td><td>0</td><td>⋯</td><td>0</td><td>0</td><td>0</td><td>0</td><td>0</td><td>0</td><td>1</td><td>0</td><td>0</td><td>0</td></tr>\n",
       "\t<tr><th scope=row>84423</th><td>0</td><td>0</td><td>0</td><td>0</td><td>0</td><td>0</td><td>0</td><td>0</td><td>0</td><td>0</td><td>⋯</td><td>0</td><td>0</td><td>3</td><td>0</td><td>0</td><td>0</td><td>1</td><td>0</td><td>0</td><td>0</td></tr>\n",
       "\t<tr><th scope=row>84433</th><td>1</td><td>0</td><td>0</td><td>0</td><td>0</td><td>0</td><td>0</td><td>0</td><td>0</td><td>0</td><td>⋯</td><td>1</td><td>1</td><td>1</td><td>0</td><td>0</td><td>0</td><td>1</td><td>0</td><td>0</td><td>0</td></tr>\n",
       "\t<tr><th scope=row>84443</th><td>1</td><td>1</td><td>2</td><td>2</td><td>0</td><td>0</td><td>0</td><td>1</td><td>0</td><td>0</td><td>⋯</td><td>0</td><td>0</td><td>2</td><td>0</td><td>0</td><td>0</td><td>1</td><td>0</td><td>0</td><td>0</td></tr>\n",
       "\t<tr><th scope=row>84553</th><td>0</td><td>1</td><td>0</td><td>1</td><td>0</td><td>0</td><td>1</td><td>0</td><td>0</td><td>0</td><td>⋯</td><td>1</td><td>0</td><td>3</td><td>2</td><td>0</td><td>0</td><td>1</td><td>0</td><td>1</td><td>3</td></tr>\n",
       "\t<tr><th scope=row>84563</th><td>0</td><td>1</td><td>0</td><td>0</td><td>0</td><td>0</td><td>0</td><td>0</td><td>0</td><td>0</td><td>⋯</td><td>0</td><td>0</td><td>1</td><td>0</td><td>0</td><td>0</td><td>0</td><td>0</td><td>0</td><td>0</td></tr>\n",
       "</tbody>\n",
       "</table>\n"
      ],
      "text/latex": [
       "\\begin{tabular}{r|lllllllllllllllllllllllllllllllllllllllllllllllllllllllllllllllllllllllllllllllllllllllllllllllllllllllllllllllllllllllllllllllllllllllllllllllllllllllllllllllllllllllllllllllllllllllllllllllllllllllllllllllllllllllllllllllllllllllllllllllllllllllllllllllllllllllllllllllllllllllllllllllllllllllllllllllllllllllllllllllllllllllllllllllllllllllllllllllllllllllllllllllllllllllllllllll}\n",
       "  & abl & accept & access & actual & address & advanc & ago & agre & allow & almost & ⋯ & work & world & write & wrong & wrote & xnewsread & xref & year & yes & yet\\\\\n",
       "\\hline\n",
       "\t51123 & 0 & 0 & 0 & 0 & 0 & 0 & 0 & 0 & 0 & 0 & ⋯ & 0 & 0 & 1 & 0 & 0 & 0 & 0 & 0 & 0 & 0\\\\\n",
       "\t51133 & 0 & 5 & 0 & 0 & 0 & 0 & 0 & 0 & 0 & 0 & ⋯ & 1 & 0 & 1 & 0 & 0 & 0 & 0 & 0 & 0 & 0\\\\\n",
       "\t51143 & 0 & 0 & 0 & 0 & 0 & 0 & 0 & 0 & 0 & 0 & ⋯ & 0 & 0 & 1 & 0 & 0 & 0 & 0 & 0 & 0 & 0\\\\\n",
       "\t51153 & 0 & 2 & 0 & 1 & 0 & 0 & 0 & 1 & 0 & 0 & ⋯ & 0 & 1 & 1 & 2 & 0 & 0 & 0 & 0 & 1 & 0\\\\\n",
       "\t51163 & 0 & 0 & 0 & 0 & 0 & 0 & 0 & 0 & 0 & 0 & ⋯ & 0 & 1 & 2 & 0 & 0 & 0 & 0 & 0 & 1 & 0\\\\\n",
       "\t51173 & 0 & 0 & 0 & 0 & 0 & 0 & 1 & 0 & 0 & 0 & ⋯ & 0 & 1 & 1 & 0 & 0 & 0 & 0 & 0 & 0 & 0\\\\\n",
       "\t51183 & 0 & 1 & 0 & 0 & 0 & 0 & 0 & 1 & 0 & 0 & ⋯ & 0 & 0 & 3 & 0 & 1 & 0 & 0 & 1 & 2 & 0\\\\\n",
       "\t51193 & 0 & 0 & 0 & 1 & 0 & 0 & 0 & 0 & 0 & 1 & ⋯ & 0 & 0 & 3 & 0 & 0 & 0 & 0 & 0 & 0 & 0\\\\\n",
       "\t51203 & 0 & 0 & 0 & 0 & 0 & 0 & 0 & 0 & 0 & 0 & ⋯ & 0 & 0 & 4 & 4 & 0 & 0 & 0 & 0 & 0 & 0\\\\\n",
       "\t51213 & 0 & 0 & 0 & 0 & 0 & 0 & 0 & 0 & 0 & 0 & ⋯ & 0 & 1 & 1 & 0 & 0 & 0 & 0 & 0 & 0 & 0\\\\\n",
       "\t51223 & 0 & 0 & 0 & 0 & 0 & 0 & 0 & 0 & 0 & 0 & ⋯ & 0 & 0 & 2 & 0 & 0 & 0 & 0 & 0 & 0 & 0\\\\\n",
       "\t51233 & 0 & 0 & 0 & 0 & 0 & 0 & 0 & 0 & 0 & 1 & ⋯ & 0 & 0 & 1 & 0 & 0 & 0 & 0 & 0 & 0 & 0\\\\\n",
       "\t51243 & 0 & 0 & 0 & 0 & 0 & 0 & 0 & 1 & 0 & 0 & ⋯ & 0 & 1 & 2 & 0 & 0 & 0 & 0 & 0 & 1 & 0\\\\\n",
       "\t51253 & 0 & 2 & 0 & 0 & 0 & 0 & 0 & 0 & 0 & 0 & ⋯ & 0 & 0 & 1 & 0 & 0 & 0 & 0 & 0 & 0 & 0\\\\\n",
       "\t51273 & 0 & 0 & 0 & 0 & 0 & 0 & 0 & 0 & 0 & 0 & ⋯ & 0 & 0 & 1 & 0 & 0 & 0 & 0 & 0 & 0 & 0\\\\\n",
       "\t51283 & 1 & 0 & 0 & 0 & 0 & 0 & 0 & 0 & 0 & 0 & ⋯ & 0 & 2 & 1 & 0 & 1 & 0 & 1 & 0 & 0 & 1\\\\\n",
       "\t51293 & 1 & 0 & 0 & 0 & 0 & 0 & 1 & 0 & 0 & 0 & ⋯ & 0 & 0 & 1 & 0 & 0 & 0 & 0 & 0 & 0 & 0\\\\\n",
       "\t51303 & 0 & 0 & 0 & 0 & 0 & 0 & 0 & 0 & 0 & 0 & ⋯ & 0 & 0 & 2 & 0 & 0 & 0 & 0 & 0 & 0 & 0\\\\\n",
       "\t51313 & 0 & 0 & 0 & 0 & 0 & 0 & 0 & 0 & 0 & 0 & ⋯ & 0 & 0 & 0 & 0 & 1 & 1 & 0 & 0 & 0 & 0\\\\\n",
       "\t53063 & 0 & 1 & 0 & 0 & 0 & 0 & 0 & 0 & 0 & 0 & ⋯ & 0 & 0 & 0 & 0 & 0 & 0 & 1 & 0 & 0 & 0\\\\\n",
       "\t53073 & 0 & 0 & 0 & 0 & 0 & 0 & 0 & 0 & 0 & 0 & ⋯ & 0 & 0 & 1 & 0 & 0 & 0 & 0 & 1 & 0 & 0\\\\\n",
       "\t53083 & 0 & 0 & 0 & 0 & 0 & 0 & 0 & 0 & 0 & 1 & ⋯ & 0 & 0 & 2 & 0 & 0 & 0 & 0 & 0 & 0 & 0\\\\\n",
       "\t53093 & 0 & 0 & 0 & 0 & 0 & 0 & 0 & 1 & 0 & 0 & ⋯ & 0 & 0 & 1 & 0 & 0 & 0 & 0 & 0 & 0 & 1\\\\\n",
       "\t53103 & 0 & 0 & 0 & 1 & 0 & 0 & 0 & 0 & 0 & 0 & ⋯ & 0 & 2 & 1 & 0 & 0 & 0 & 1 & 1 & 0 & 0\\\\\n",
       "\t53113 & 0 & 0 & 0 & 0 & 0 & 0 & 1 & 0 & 0 & 0 & ⋯ & 1 & 0 & 1 & 0 & 1 & 0 & 0 & 2 & 1 & 0\\\\\n",
       "\t53123 & 0 & 0 & 0 & 0 & 0 & 0 & 0 & 0 & 0 & 0 & ⋯ & 0 & 1 & 1 & 0 & 0 & 0 & 1 & 0 & 0 & 0\\\\\n",
       "\t53133 & 0 & 0 & 0 & 0 & 0 & 0 & 0 & 0 & 0 & 0 & ⋯ & 0 & 1 & 0 & 0 & 0 & 0 & 0 & 0 & 0 & 0\\\\\n",
       "\t53143 & 0 & 0 & 0 & 0 & 0 & 0 & 0 & 0 & 0 & 0 & ⋯ & 0 & 0 & 1 & 1 & 0 & 0 & 0 & 0 & 0 & 0\\\\\n",
       "\t53153 & 0 & 1 & 0 & 0 & 0 & 0 & 0 & 0 & 0 & 0 & ⋯ & 0 & 0 & 2 & 4 & 1 & 0 & 0 & 1 & 0 & 0\\\\\n",
       "\t53163 & 0 & 0 & 0 & 0 & 0 & 0 & 0 & 0 & 0 & 0 & ⋯ & 0 & 0 & 3 & 0 & 0 & 0 & 0 & 0 & 0 & 0\\\\\n",
       "\t⋮ & ⋮ & ⋮ & ⋮ & ⋮ & ⋮ & ⋮ & ⋮ & ⋮ & ⋮ & ⋮ & ⋱ & ⋮ & ⋮ & ⋮ & ⋮ & ⋮ & ⋮ & ⋮ & ⋮ & ⋮ & ⋮\\\\\n",
       "\t84123 & 0 & 0 & 0 & 1 & 1 & 0 & 0 & 2 & 0 & 0 & ⋯ & 0 & 3 & 0 & 1 & 2 & 1 & 0 & 0 & 0 & 0\\\\\n",
       "\t84133 & 0 & 0 & 0 & 0 & 0 & 0 & 0 & 0 & 0 & 0 & ⋯ & 0 & 0 & 1 & 0 & 0 & 0 & 0 & 0 & 1 & 0\\\\\n",
       "\t84143 & 0 & 0 & 0 & 0 & 0 & 0 & 0 & 0 & 0 & 0 & ⋯ & 0 & 0 & 0 & 0 & 0 & 0 & 1 & 0 & 0 & 0\\\\\n",
       "\t84153 & 0 & 0 & 0 & 0 & 0 & 0 & 0 & 0 & 0 & 0 & ⋯ & 0 & 0 & 1 & 0 & 0 & 0 & 1 & 0 & 0 & 0\\\\\n",
       "\t84183 & 0 & 0 & 0 & 0 & 0 & 0 & 0 & 0 & 0 & 0 & ⋯ & 0 & 0 & 0 & 0 & 1 & 0 & 1 & 0 & 0 & 0\\\\\n",
       "\t84193 & 0 & 0 & 0 & 1 & 0 & 0 & 0 & 0 & 0 & 0 & ⋯ & 0 & 1 & 2 & 0 & 0 & 0 & 1 & 1 & 1 & 0\\\\\n",
       "\t84203 & 0 & 0 & 0 & 1 & 0 & 0 & 1 & 1 & 0 & 0 & ⋯ & 0 & 0 & 1 & 1 & 0 & 0 & 1 & 1 & 0 & 0\\\\\n",
       "\t84213 & 0 & 0 & 0 & 0 & 0 & 0 & 0 & 0 & 0 & 0 & ⋯ & 0 & 0 & 0 & 0 & 1 & 0 & 0 & 0 & 0 & 0\\\\\n",
       "\t84223 & 0 & 0 & 0 & 3 & 1 & 0 & 0 & 1 & 1 & 0 & ⋯ & 1 & 2 & 4 & 2 & 0 & 0 & 1 & 5 & 1 & 3\\\\\n",
       "\t84233 & 0 & 1 & 0 & 1 & 0 & 0 & 0 & 0 & 0 & 0 & ⋯ & 0 & 0 & 1 & 0 & 0 & 0 & 1 & 1 & 0 & 0\\\\\n",
       "\t84243 & 0 & 0 & 0 & 0 & 0 & 0 & 0 & 0 & 0 & 0 & ⋯ & 0 & 0 & 1 & 0 & 0 & 0 & 0 & 0 & 0 & 0\\\\\n",
       "\t84253 & 0 & 0 & 0 & 2 & 0 & 0 & 0 & 0 & 0 & 0 & ⋯ & 0 & 0 & 1 & 0 & 0 & 0 & 1 & 0 & 0 & 0\\\\\n",
       "\t84263 & 0 & 0 & 0 & 0 & 0 & 0 & 0 & 0 & 0 & 0 & ⋯ & 0 & 0 & 0 & 0 & 0 & 0 & 1 & 1 & 0 & 0\\\\\n",
       "\t84273 & 0 & 0 & 0 & 0 & 0 & 0 & 0 & 0 & 0 & 0 & ⋯ & 0 & 0 & 1 & 0 & 1 & 0 & 0 & 0 & 0 & 0\\\\\n",
       "\t84283 & 0 & 0 & 2 & 0 & 0 & 0 & 0 & 0 & 1 & 1 & ⋯ & 2 & 0 & 0 & 1 & 0 & 0 & 1 & 0 & 0 & 0\\\\\n",
       "\t84293 & 0 & 0 & 0 & 0 & 0 & 0 & 0 & 0 & 0 & 0 & ⋯ & 0 & 0 & 0 & 0 & 0 & 0 & 1 & 0 & 0 & 0\\\\\n",
       "\t84303 & 0 & 0 & 0 & 0 & 0 & 0 & 0 & 0 & 0 & 0 & ⋯ & 0 & 0 & 3 & 1 & 0 & 0 & 1 & 0 & 0 & 0\\\\\n",
       "\t84313 & 0 & 0 & 0 & 0 & 0 & 0 & 0 & 0 & 0 & 0 & ⋯ & 0 & 0 & 1 & 0 & 0 & 0 & 1 & 0 & 0 & 0\\\\\n",
       "\t84323 & 0 & 0 & 0 & 1 & 1 & 0 & 0 & 0 & 1 & 0 & ⋯ & 0 & 0 & 1 & 0 & 0 & 0 & 1 & 0 & 0 & 0\\\\\n",
       "\t84333 & 0 & 0 & 0 & 0 & 0 & 0 & 0 & 0 & 0 & 0 & ⋯ & 0 & 0 & 2 & 0 & 0 & 1 & 1 & 1 & 0 & 0\\\\\n",
       "\t84343 & 0 & 1 & 0 & 1 & 0 & 0 & 0 & 2 & 3 & 0 & ⋯ & 0 & 2 & 3 & 2 & 0 & 1 & 1 & 0 & 0 & 0\\\\\n",
       "\t84353 & 0 & 0 & 0 & 0 & 0 & 0 & 0 & 0 & 0 & 0 & ⋯ & 0 & 0 & 2 & 0 & 0 & 0 & 1 & 0 & 0 & 0\\\\\n",
       "\t84363 & 0 & 0 & 0 & 0 & 0 & 0 & 0 & 0 & 0 & 0 & ⋯ & 0 & 0 & 2 & 0 & 0 & 0 & 1 & 0 & 1 & 0\\\\\n",
       "\t84403 & 0 & 0 & 0 & 0 & 0 & 0 & 0 & 0 & 0 & 0 & ⋯ & 0 & 0 & 2 & 0 & 0 & 0 & 1 & 1 & 0 & 0\\\\\n",
       "\t84413 & 0 & 0 & 0 & 0 & 0 & 0 & 0 & 0 & 0 & 0 & ⋯ & 0 & 0 & 0 & 0 & 0 & 0 & 1 & 0 & 0 & 0\\\\\n",
       "\t84423 & 0 & 0 & 0 & 0 & 0 & 0 & 0 & 0 & 0 & 0 & ⋯ & 0 & 0 & 3 & 0 & 0 & 0 & 1 & 0 & 0 & 0\\\\\n",
       "\t84433 & 1 & 0 & 0 & 0 & 0 & 0 & 0 & 0 & 0 & 0 & ⋯ & 1 & 1 & 1 & 0 & 0 & 0 & 1 & 0 & 0 & 0\\\\\n",
       "\t84443 & 1 & 1 & 2 & 2 & 0 & 0 & 0 & 1 & 0 & 0 & ⋯ & 0 & 0 & 2 & 0 & 0 & 0 & 1 & 0 & 0 & 0\\\\\n",
       "\t84553 & 0 & 1 & 0 & 1 & 0 & 0 & 1 & 0 & 0 & 0 & ⋯ & 1 & 0 & 3 & 2 & 0 & 0 & 1 & 0 & 1 & 3\\\\\n",
       "\t84563 & 0 & 1 & 0 & 0 & 0 & 0 & 0 & 0 & 0 & 0 & ⋯ & 0 & 0 & 1 & 0 & 0 & 0 & 0 & 0 & 0 & 0\\\\\n",
       "\\end{tabular}\n"
      ],
      "text/markdown": [
       "\n",
       "| <!--/--> | abl | accept | access | actual | address | advanc | ago | agre | allow | almost | ⋯ | work | world | write | wrong | wrote | xnewsread | xref | year | yes | yet | \n",
       "|---|---|---|---|---|---|---|---|---|---|---|---|---|---|---|---|---|---|---|---|---|---|---|---|---|---|---|---|---|---|---|---|---|---|---|---|---|---|---|---|---|---|---|---|---|---|---|---|---|---|---|---|---|---|---|---|---|---|---|---|---|\n",
       "| 51123 | 0 | 0 | 0 | 0 | 0 | 0 | 0 | 0 | 0 | 0 | ⋯ | 0 | 0 | 1 | 0 | 0 | 0 | 0 | 0 | 0 | 0 | \n",
       "| 51133 | 0 | 5 | 0 | 0 | 0 | 0 | 0 | 0 | 0 | 0 | ⋯ | 1 | 0 | 1 | 0 | 0 | 0 | 0 | 0 | 0 | 0 | \n",
       "| 51143 | 0 | 0 | 0 | 0 | 0 | 0 | 0 | 0 | 0 | 0 | ⋯ | 0 | 0 | 1 | 0 | 0 | 0 | 0 | 0 | 0 | 0 | \n",
       "| 51153 | 0 | 2 | 0 | 1 | 0 | 0 | 0 | 1 | 0 | 0 | ⋯ | 0 | 1 | 1 | 2 | 0 | 0 | 0 | 0 | 1 | 0 | \n",
       "| 51163 | 0 | 0 | 0 | 0 | 0 | 0 | 0 | 0 | 0 | 0 | ⋯ | 0 | 1 | 2 | 0 | 0 | 0 | 0 | 0 | 1 | 0 | \n",
       "| 51173 | 0 | 0 | 0 | 0 | 0 | 0 | 1 | 0 | 0 | 0 | ⋯ | 0 | 1 | 1 | 0 | 0 | 0 | 0 | 0 | 0 | 0 | \n",
       "| 51183 | 0 | 1 | 0 | 0 | 0 | 0 | 0 | 1 | 0 | 0 | ⋯ | 0 | 0 | 3 | 0 | 1 | 0 | 0 | 1 | 2 | 0 | \n",
       "| 51193 | 0 | 0 | 0 | 1 | 0 | 0 | 0 | 0 | 0 | 1 | ⋯ | 0 | 0 | 3 | 0 | 0 | 0 | 0 | 0 | 0 | 0 | \n",
       "| 51203 | 0 | 0 | 0 | 0 | 0 | 0 | 0 | 0 | 0 | 0 | ⋯ | 0 | 0 | 4 | 4 | 0 | 0 | 0 | 0 | 0 | 0 | \n",
       "| 51213 | 0 | 0 | 0 | 0 | 0 | 0 | 0 | 0 | 0 | 0 | ⋯ | 0 | 1 | 1 | 0 | 0 | 0 | 0 | 0 | 0 | 0 | \n",
       "| 51223 | 0 | 0 | 0 | 0 | 0 | 0 | 0 | 0 | 0 | 0 | ⋯ | 0 | 0 | 2 | 0 | 0 | 0 | 0 | 0 | 0 | 0 | \n",
       "| 51233 | 0 | 0 | 0 | 0 | 0 | 0 | 0 | 0 | 0 | 1 | ⋯ | 0 | 0 | 1 | 0 | 0 | 0 | 0 | 0 | 0 | 0 | \n",
       "| 51243 | 0 | 0 | 0 | 0 | 0 | 0 | 0 | 1 | 0 | 0 | ⋯ | 0 | 1 | 2 | 0 | 0 | 0 | 0 | 0 | 1 | 0 | \n",
       "| 51253 | 0 | 2 | 0 | 0 | 0 | 0 | 0 | 0 | 0 | 0 | ⋯ | 0 | 0 | 1 | 0 | 0 | 0 | 0 | 0 | 0 | 0 | \n",
       "| 51273 | 0 | 0 | 0 | 0 | 0 | 0 | 0 | 0 | 0 | 0 | ⋯ | 0 | 0 | 1 | 0 | 0 | 0 | 0 | 0 | 0 | 0 | \n",
       "| 51283 | 1 | 0 | 0 | 0 | 0 | 0 | 0 | 0 | 0 | 0 | ⋯ | 0 | 2 | 1 | 0 | 1 | 0 | 1 | 0 | 0 | 1 | \n",
       "| 51293 | 1 | 0 | 0 | 0 | 0 | 0 | 1 | 0 | 0 | 0 | ⋯ | 0 | 0 | 1 | 0 | 0 | 0 | 0 | 0 | 0 | 0 | \n",
       "| 51303 | 0 | 0 | 0 | 0 | 0 | 0 | 0 | 0 | 0 | 0 | ⋯ | 0 | 0 | 2 | 0 | 0 | 0 | 0 | 0 | 0 | 0 | \n",
       "| 51313 | 0 | 0 | 0 | 0 | 0 | 0 | 0 | 0 | 0 | 0 | ⋯ | 0 | 0 | 0 | 0 | 1 | 1 | 0 | 0 | 0 | 0 | \n",
       "| 53063 | 0 | 1 | 0 | 0 | 0 | 0 | 0 | 0 | 0 | 0 | ⋯ | 0 | 0 | 0 | 0 | 0 | 0 | 1 | 0 | 0 | 0 | \n",
       "| 53073 | 0 | 0 | 0 | 0 | 0 | 0 | 0 | 0 | 0 | 0 | ⋯ | 0 | 0 | 1 | 0 | 0 | 0 | 0 | 1 | 0 | 0 | \n",
       "| 53083 | 0 | 0 | 0 | 0 | 0 | 0 | 0 | 0 | 0 | 1 | ⋯ | 0 | 0 | 2 | 0 | 0 | 0 | 0 | 0 | 0 | 0 | \n",
       "| 53093 | 0 | 0 | 0 | 0 | 0 | 0 | 0 | 1 | 0 | 0 | ⋯ | 0 | 0 | 1 | 0 | 0 | 0 | 0 | 0 | 0 | 1 | \n",
       "| 53103 | 0 | 0 | 0 | 1 | 0 | 0 | 0 | 0 | 0 | 0 | ⋯ | 0 | 2 | 1 | 0 | 0 | 0 | 1 | 1 | 0 | 0 | \n",
       "| 53113 | 0 | 0 | 0 | 0 | 0 | 0 | 1 | 0 | 0 | 0 | ⋯ | 1 | 0 | 1 | 0 | 1 | 0 | 0 | 2 | 1 | 0 | \n",
       "| 53123 | 0 | 0 | 0 | 0 | 0 | 0 | 0 | 0 | 0 | 0 | ⋯ | 0 | 1 | 1 | 0 | 0 | 0 | 1 | 0 | 0 | 0 | \n",
       "| 53133 | 0 | 0 | 0 | 0 | 0 | 0 | 0 | 0 | 0 | 0 | ⋯ | 0 | 1 | 0 | 0 | 0 | 0 | 0 | 0 | 0 | 0 | \n",
       "| 53143 | 0 | 0 | 0 | 0 | 0 | 0 | 0 | 0 | 0 | 0 | ⋯ | 0 | 0 | 1 | 1 | 0 | 0 | 0 | 0 | 0 | 0 | \n",
       "| 53153 | 0 | 1 | 0 | 0 | 0 | 0 | 0 | 0 | 0 | 0 | ⋯ | 0 | 0 | 2 | 4 | 1 | 0 | 0 | 1 | 0 | 0 | \n",
       "| 53163 | 0 | 0 | 0 | 0 | 0 | 0 | 0 | 0 | 0 | 0 | ⋯ | 0 | 0 | 3 | 0 | 0 | 0 | 0 | 0 | 0 | 0 | \n",
       "| ⋮ | ⋮ | ⋮ | ⋮ | ⋮ | ⋮ | ⋮ | ⋮ | ⋮ | ⋮ | ⋮ | ⋱ | ⋮ | ⋮ | ⋮ | ⋮ | ⋮ | ⋮ | ⋮ | ⋮ | ⋮ | ⋮ | \n",
       "| 84123 | 0 | 0 | 0 | 1 | 1 | 0 | 0 | 2 | 0 | 0 | ⋯ | 0 | 3 | 0 | 1 | 2 | 1 | 0 | 0 | 0 | 0 | \n",
       "| 84133 | 0 | 0 | 0 | 0 | 0 | 0 | 0 | 0 | 0 | 0 | ⋯ | 0 | 0 | 1 | 0 | 0 | 0 | 0 | 0 | 1 | 0 | \n",
       "| 84143 | 0 | 0 | 0 | 0 | 0 | 0 | 0 | 0 | 0 | 0 | ⋯ | 0 | 0 | 0 | 0 | 0 | 0 | 1 | 0 | 0 | 0 | \n",
       "| 84153 | 0 | 0 | 0 | 0 | 0 | 0 | 0 | 0 | 0 | 0 | ⋯ | 0 | 0 | 1 | 0 | 0 | 0 | 1 | 0 | 0 | 0 | \n",
       "| 84183 | 0 | 0 | 0 | 0 | 0 | 0 | 0 | 0 | 0 | 0 | ⋯ | 0 | 0 | 0 | 0 | 1 | 0 | 1 | 0 | 0 | 0 | \n",
       "| 84193 | 0 | 0 | 0 | 1 | 0 | 0 | 0 | 0 | 0 | 0 | ⋯ | 0 | 1 | 2 | 0 | 0 | 0 | 1 | 1 | 1 | 0 | \n",
       "| 84203 | 0 | 0 | 0 | 1 | 0 | 0 | 1 | 1 | 0 | 0 | ⋯ | 0 | 0 | 1 | 1 | 0 | 0 | 1 | 1 | 0 | 0 | \n",
       "| 84213 | 0 | 0 | 0 | 0 | 0 | 0 | 0 | 0 | 0 | 0 | ⋯ | 0 | 0 | 0 | 0 | 1 | 0 | 0 | 0 | 0 | 0 | \n",
       "| 84223 | 0 | 0 | 0 | 3 | 1 | 0 | 0 | 1 | 1 | 0 | ⋯ | 1 | 2 | 4 | 2 | 0 | 0 | 1 | 5 | 1 | 3 | \n",
       "| 84233 | 0 | 1 | 0 | 1 | 0 | 0 | 0 | 0 | 0 | 0 | ⋯ | 0 | 0 | 1 | 0 | 0 | 0 | 1 | 1 | 0 | 0 | \n",
       "| 84243 | 0 | 0 | 0 | 0 | 0 | 0 | 0 | 0 | 0 | 0 | ⋯ | 0 | 0 | 1 | 0 | 0 | 0 | 0 | 0 | 0 | 0 | \n",
       "| 84253 | 0 | 0 | 0 | 2 | 0 | 0 | 0 | 0 | 0 | 0 | ⋯ | 0 | 0 | 1 | 0 | 0 | 0 | 1 | 0 | 0 | 0 | \n",
       "| 84263 | 0 | 0 | 0 | 0 | 0 | 0 | 0 | 0 | 0 | 0 | ⋯ | 0 | 0 | 0 | 0 | 0 | 0 | 1 | 1 | 0 | 0 | \n",
       "| 84273 | 0 | 0 | 0 | 0 | 0 | 0 | 0 | 0 | 0 | 0 | ⋯ | 0 | 0 | 1 | 0 | 1 | 0 | 0 | 0 | 0 | 0 | \n",
       "| 84283 | 0 | 0 | 2 | 0 | 0 | 0 | 0 | 0 | 1 | 1 | ⋯ | 2 | 0 | 0 | 1 | 0 | 0 | 1 | 0 | 0 | 0 | \n",
       "| 84293 | 0 | 0 | 0 | 0 | 0 | 0 | 0 | 0 | 0 | 0 | ⋯ | 0 | 0 | 0 | 0 | 0 | 0 | 1 | 0 | 0 | 0 | \n",
       "| 84303 | 0 | 0 | 0 | 0 | 0 | 0 | 0 | 0 | 0 | 0 | ⋯ | 0 | 0 | 3 | 1 | 0 | 0 | 1 | 0 | 0 | 0 | \n",
       "| 84313 | 0 | 0 | 0 | 0 | 0 | 0 | 0 | 0 | 0 | 0 | ⋯ | 0 | 0 | 1 | 0 | 0 | 0 | 1 | 0 | 0 | 0 | \n",
       "| 84323 | 0 | 0 | 0 | 1 | 1 | 0 | 0 | 0 | 1 | 0 | ⋯ | 0 | 0 | 1 | 0 | 0 | 0 | 1 | 0 | 0 | 0 | \n",
       "| 84333 | 0 | 0 | 0 | 0 | 0 | 0 | 0 | 0 | 0 | 0 | ⋯ | 0 | 0 | 2 | 0 | 0 | 1 | 1 | 1 | 0 | 0 | \n",
       "| 84343 | 0 | 1 | 0 | 1 | 0 | 0 | 0 | 2 | 3 | 0 | ⋯ | 0 | 2 | 3 | 2 | 0 | 1 | 1 | 0 | 0 | 0 | \n",
       "| 84353 | 0 | 0 | 0 | 0 | 0 | 0 | 0 | 0 | 0 | 0 | ⋯ | 0 | 0 | 2 | 0 | 0 | 0 | 1 | 0 | 0 | 0 | \n",
       "| 84363 | 0 | 0 | 0 | 0 | 0 | 0 | 0 | 0 | 0 | 0 | ⋯ | 0 | 0 | 2 | 0 | 0 | 0 | 1 | 0 | 1 | 0 | \n",
       "| 84403 | 0 | 0 | 0 | 0 | 0 | 0 | 0 | 0 | 0 | 0 | ⋯ | 0 | 0 | 2 | 0 | 0 | 0 | 1 | 1 | 0 | 0 | \n",
       "| 84413 | 0 | 0 | 0 | 0 | 0 | 0 | 0 | 0 | 0 | 0 | ⋯ | 0 | 0 | 0 | 0 | 0 | 0 | 1 | 0 | 0 | 0 | \n",
       "| 84423 | 0 | 0 | 0 | 0 | 0 | 0 | 0 | 0 | 0 | 0 | ⋯ | 0 | 0 | 3 | 0 | 0 | 0 | 1 | 0 | 0 | 0 | \n",
       "| 84433 | 1 | 0 | 0 | 0 | 0 | 0 | 0 | 0 | 0 | 0 | ⋯ | 1 | 1 | 1 | 0 | 0 | 0 | 1 | 0 | 0 | 0 | \n",
       "| 84443 | 1 | 1 | 2 | 2 | 0 | 0 | 0 | 1 | 0 | 0 | ⋯ | 0 | 0 | 2 | 0 | 0 | 0 | 1 | 0 | 0 | 0 | \n",
       "| 84553 | 0 | 1 | 0 | 1 | 0 | 0 | 1 | 0 | 0 | 0 | ⋯ | 1 | 0 | 3 | 2 | 0 | 0 | 1 | 0 | 1 | 3 | \n",
       "| 84563 | 0 | 1 | 0 | 0 | 0 | 0 | 0 | 0 | 0 | 0 | ⋯ | 0 | 0 | 1 | 0 | 0 | 0 | 0 | 0 | 0 | 0 | \n",
       "\n",
       "\n"
      ],
      "text/plain": [
       "      abl accept access actual address advanc ago agre allow almost ⋯ work\n",
       "51123 0   0      0      0      0       0      0   0    0     0      ⋯ 0   \n",
       "51133 0   5      0      0      0       0      0   0    0     0      ⋯ 1   \n",
       "51143 0   0      0      0      0       0      0   0    0     0      ⋯ 0   \n",
       "51153 0   2      0      1      0       0      0   1    0     0      ⋯ 0   \n",
       "51163 0   0      0      0      0       0      0   0    0     0      ⋯ 0   \n",
       "51173 0   0      0      0      0       0      1   0    0     0      ⋯ 0   \n",
       "51183 0   1      0      0      0       0      0   1    0     0      ⋯ 0   \n",
       "51193 0   0      0      1      0       0      0   0    0     1      ⋯ 0   \n",
       "51203 0   0      0      0      0       0      0   0    0     0      ⋯ 0   \n",
       "51213 0   0      0      0      0       0      0   0    0     0      ⋯ 0   \n",
       "51223 0   0      0      0      0       0      0   0    0     0      ⋯ 0   \n",
       "51233 0   0      0      0      0       0      0   0    0     1      ⋯ 0   \n",
       "51243 0   0      0      0      0       0      0   1    0     0      ⋯ 0   \n",
       "51253 0   2      0      0      0       0      0   0    0     0      ⋯ 0   \n",
       "51273 0   0      0      0      0       0      0   0    0     0      ⋯ 0   \n",
       "51283 1   0      0      0      0       0      0   0    0     0      ⋯ 0   \n",
       "51293 1   0      0      0      0       0      1   0    0     0      ⋯ 0   \n",
       "51303 0   0      0      0      0       0      0   0    0     0      ⋯ 0   \n",
       "51313 0   0      0      0      0       0      0   0    0     0      ⋯ 0   \n",
       "53063 0   1      0      0      0       0      0   0    0     0      ⋯ 0   \n",
       "53073 0   0      0      0      0       0      0   0    0     0      ⋯ 0   \n",
       "53083 0   0      0      0      0       0      0   0    0     1      ⋯ 0   \n",
       "53093 0   0      0      0      0       0      0   1    0     0      ⋯ 0   \n",
       "53103 0   0      0      1      0       0      0   0    0     0      ⋯ 0   \n",
       "53113 0   0      0      0      0       0      1   0    0     0      ⋯ 1   \n",
       "53123 0   0      0      0      0       0      0   0    0     0      ⋯ 0   \n",
       "53133 0   0      0      0      0       0      0   0    0     0      ⋯ 0   \n",
       "53143 0   0      0      0      0       0      0   0    0     0      ⋯ 0   \n",
       "53153 0   1      0      0      0       0      0   0    0     0      ⋯ 0   \n",
       "53163 0   0      0      0      0       0      0   0    0     0      ⋯ 0   \n",
       "⋮     ⋮   ⋮      ⋮      ⋮      ⋮       ⋮      ⋮   ⋮    ⋮     ⋮      ⋱ ⋮   \n",
       "84123 0   0      0      1      1       0      0   2    0     0      ⋯ 0   \n",
       "84133 0   0      0      0      0       0      0   0    0     0      ⋯ 0   \n",
       "84143 0   0      0      0      0       0      0   0    0     0      ⋯ 0   \n",
       "84153 0   0      0      0      0       0      0   0    0     0      ⋯ 0   \n",
       "84183 0   0      0      0      0       0      0   0    0     0      ⋯ 0   \n",
       "84193 0   0      0      1      0       0      0   0    0     0      ⋯ 0   \n",
       "84203 0   0      0      1      0       0      1   1    0     0      ⋯ 0   \n",
       "84213 0   0      0      0      0       0      0   0    0     0      ⋯ 0   \n",
       "84223 0   0      0      3      1       0      0   1    1     0      ⋯ 1   \n",
       "84233 0   1      0      1      0       0      0   0    0     0      ⋯ 0   \n",
       "84243 0   0      0      0      0       0      0   0    0     0      ⋯ 0   \n",
       "84253 0   0      0      2      0       0      0   0    0     0      ⋯ 0   \n",
       "84263 0   0      0      0      0       0      0   0    0     0      ⋯ 0   \n",
       "84273 0   0      0      0      0       0      0   0    0     0      ⋯ 0   \n",
       "84283 0   0      2      0      0       0      0   0    1     1      ⋯ 2   \n",
       "84293 0   0      0      0      0       0      0   0    0     0      ⋯ 0   \n",
       "84303 0   0      0      0      0       0      0   0    0     0      ⋯ 0   \n",
       "84313 0   0      0      0      0       0      0   0    0     0      ⋯ 0   \n",
       "84323 0   0      0      1      1       0      0   0    1     0      ⋯ 0   \n",
       "84333 0   0      0      0      0       0      0   0    0     0      ⋯ 0   \n",
       "84343 0   1      0      1      0       0      0   2    3     0      ⋯ 0   \n",
       "84353 0   0      0      0      0       0      0   0    0     0      ⋯ 0   \n",
       "84363 0   0      0      0      0       0      0   0    0     0      ⋯ 0   \n",
       "84403 0   0      0      0      0       0      0   0    0     0      ⋯ 0   \n",
       "84413 0   0      0      0      0       0      0   0    0     0      ⋯ 0   \n",
       "84423 0   0      0      0      0       0      0   0    0     0      ⋯ 0   \n",
       "84433 1   0      0      0      0       0      0   0    0     0      ⋯ 1   \n",
       "84443 1   1      2      2      0       0      0   1    0     0      ⋯ 0   \n",
       "84553 0   1      0      1      0       0      1   0    0     0      ⋯ 1   \n",
       "84563 0   1      0      0      0       0      0   0    0     0      ⋯ 0   \n",
       "      world write wrong wrote xnewsread xref year yes yet\n",
       "51123 0     1     0     0     0         0    0    0   0  \n",
       "51133 0     1     0     0     0         0    0    0   0  \n",
       "51143 0     1     0     0     0         0    0    0   0  \n",
       "51153 1     1     2     0     0         0    0    1   0  \n",
       "51163 1     2     0     0     0         0    0    1   0  \n",
       "51173 1     1     0     0     0         0    0    0   0  \n",
       "51183 0     3     0     1     0         0    1    2   0  \n",
       "51193 0     3     0     0     0         0    0    0   0  \n",
       "51203 0     4     4     0     0         0    0    0   0  \n",
       "51213 1     1     0     0     0         0    0    0   0  \n",
       "51223 0     2     0     0     0         0    0    0   0  \n",
       "51233 0     1     0     0     0         0    0    0   0  \n",
       "51243 1     2     0     0     0         0    0    1   0  \n",
       "51253 0     1     0     0     0         0    0    0   0  \n",
       "51273 0     1     0     0     0         0    0    0   0  \n",
       "51283 2     1     0     1     0         1    0    0   1  \n",
       "51293 0     1     0     0     0         0    0    0   0  \n",
       "51303 0     2     0     0     0         0    0    0   0  \n",
       "51313 0     0     0     1     1         0    0    0   0  \n",
       "53063 0     0     0     0     0         1    0    0   0  \n",
       "53073 0     1     0     0     0         0    1    0   0  \n",
       "53083 0     2     0     0     0         0    0    0   0  \n",
       "53093 0     1     0     0     0         0    0    0   1  \n",
       "53103 2     1     0     0     0         1    1    0   0  \n",
       "53113 0     1     0     1     0         0    2    1   0  \n",
       "53123 1     1     0     0     0         1    0    0   0  \n",
       "53133 1     0     0     0     0         0    0    0   0  \n",
       "53143 0     1     1     0     0         0    0    0   0  \n",
       "53153 0     2     4     1     0         0    1    0   0  \n",
       "53163 0     3     0     0     0         0    0    0   0  \n",
       "⋮     ⋮     ⋮     ⋮     ⋮     ⋮         ⋮    ⋮    ⋮   ⋮  \n",
       "84123 3     0     1     2     1         0    0    0   0  \n",
       "84133 0     1     0     0     0         0    0    1   0  \n",
       "84143 0     0     0     0     0         1    0    0   0  \n",
       "84153 0     1     0     0     0         1    0    0   0  \n",
       "84183 0     0     0     1     0         1    0    0   0  \n",
       "84193 1     2     0     0     0         1    1    1   0  \n",
       "84203 0     1     1     0     0         1    1    0   0  \n",
       "84213 0     0     0     1     0         0    0    0   0  \n",
       "84223 2     4     2     0     0         1    5    1   3  \n",
       "84233 0     1     0     0     0         1    1    0   0  \n",
       "84243 0     1     0     0     0         0    0    0   0  \n",
       "84253 0     1     0     0     0         1    0    0   0  \n",
       "84263 0     0     0     0     0         1    1    0   0  \n",
       "84273 0     1     0     1     0         0    0    0   0  \n",
       "84283 0     0     1     0     0         1    0    0   0  \n",
       "84293 0     0     0     0     0         1    0    0   0  \n",
       "84303 0     3     1     0     0         1    0    0   0  \n",
       "84313 0     1     0     0     0         1    0    0   0  \n",
       "84323 0     1     0     0     0         1    0    0   0  \n",
       "84333 0     2     0     0     1         1    1    0   0  \n",
       "84343 2     3     2     0     1         1    0    0   0  \n",
       "84353 0     2     0     0     0         1    0    0   0  \n",
       "84363 0     2     0     0     0         1    0    1   0  \n",
       "84403 0     2     0     0     0         1    1    0   0  \n",
       "84413 0     0     0     0     0         1    0    0   0  \n",
       "84423 0     3     0     0     0         1    0    0   0  \n",
       "84433 1     1     0     0     0         1    0    0   0  \n",
       "84443 0     2     0     0     0         1    0    0   0  \n",
       "84553 0     3     2     0     0         1    0    1   3  \n",
       "84563 0     1     0     0     0         0    0    0   0  "
      ]
     },
     "metadata": {},
     "output_type": "display_data"
    }
   ],
   "source": [
    "dtms <- removeSparseTerms(dtm, 0.95)\n",
    "partial <- as.matrix(dtms)\n",
    "partial"
   ]
  },
  {
   "cell_type": "code",
   "execution_count": 9,
   "metadata": {},
   "outputs": [
    {
     "data": {
      "text/html": [
       "2007"
      ],
      "text/latex": [
       "2007"
      ],
      "text/markdown": [
       "2007"
      ],
      "text/plain": [
       "[1] 2007"
      ]
     },
     "metadata": {},
     "output_type": "display_data"
    },
    {
     "data": {
      "text/html": [
       "383"
      ],
      "text/latex": [
       "383"
      ],
      "text/markdown": [
       "383"
      ],
      "text/plain": [
       "[1] 383"
      ]
     },
     "metadata": {},
     "output_type": "display_data"
    }
   ],
   "source": [
    "nrow(dtms)\n",
    "ncol(dtms)"
   ]
  },
  {
   "cell_type": "markdown",
   "metadata": {},
   "source": [
    "Our original dataset of 36161 words was reduced to 383 words, thus reducing the dimensionality of our data set.\n",
    "\n",
    "Next, create a distance matrix between documents. Note that I applied transpose because otherwise the cosine funciton from `lsa` package would be applied on words as opposed to documents. However, we are more interested in comparing document content similarity, as opposed to word usage.\n",
    "\n",
    "* https://github.com/computationalstylistics/stylo/blob/master/R/dist.cosine.R"
   ]
  },
  {
   "cell_type": "code",
   "execution_count": 17,
   "metadata": {},
   "outputs": [],
   "source": [
    "cosDist <- function(x) {\n",
    "    y = 1 - ( x %*% t(x) / (sqrt(rowSums(x^2) %*% t(rowSums(x^2)))) )\n",
    "    return(y)\n",
    "}"
   ]
  },
  {
   "cell_type": "code",
   "execution_count": 27,
   "metadata": {},
   "outputs": [
    {
     "data": {
      "text/plain": [
       "   user  system elapsed \n",
       "  5.123   0.000   5.137 "
      ]
     },
     "metadata": {},
     "output_type": "display_data"
    },
    {
     "data": {
      "text/html": [
       "<table>\n",
       "<thead><tr><th></th><th scope=col>51123</th><th scope=col>51133</th><th scope=col>51143</th><th scope=col>51153</th><th scope=col>51163</th><th scope=col>51173</th><th scope=col>51183</th><th scope=col>51193</th><th scope=col>51203</th><th scope=col>51213</th><th scope=col>⋯</th><th scope=col>84343</th><th scope=col>84353</th><th scope=col>84363</th><th scope=col>84403</th><th scope=col>84413</th><th scope=col>84423</th><th scope=col>84433</th><th scope=col>84443</th><th scope=col>84553</th><th scope=col>84563</th></tr></thead>\n",
       "<tbody>\n",
       "\t<tr><th scope=row>51123</th><td>0.0000000</td><td>0.7214758</td><td>0.5332320</td><td>0.8788035</td><td>0.6291309</td><td>0.6948920</td><td>0.6984887</td><td>0.7214236</td><td>0.6435832</td><td>0.6414314</td><td>⋯        </td><td>0.8348554</td><td>0.7247011</td><td>0.6815608</td><td>0.7171573</td><td>0.4777670</td><td>0.6291309</td><td>0.7074771</td><td>0.8196600</td><td>0.8574607</td><td>0.8633470</td></tr>\n",
       "\t<tr><th scope=row>51133</th><td>0.7214758</td><td>0.0000000</td><td>0.6445143</td><td>0.8396582</td><td>0.5849713</td><td>0.8174258</td><td>0.7200726</td><td>0.8046773</td><td>0.8175170</td><td>0.7711311</td><td>⋯        </td><td>0.7604335</td><td>0.8103033</td><td>0.8125055</td><td>0.7401402</td><td>0.7878788</td><td>0.8040142</td><td>0.8531105</td><td>0.7562899</td><td>0.8449193</td><td>0.8444616</td></tr>\n",
       "\t<tr><th scope=row>51143</th><td>0.5332320</td><td>0.6445143</td><td>0.0000000</td><td>0.7772530</td><td>0.6522348</td><td>0.7079387</td><td>0.7654403</td><td>0.8081147</td><td>0.6941839</td><td>0.6513160</td><td>⋯        </td><td>0.8153191</td><td>0.6820946</td><td>0.7540929</td><td>0.3582268</td><td>0.5937306</td><td>0.6715551</td><td>0.7210114</td><td>0.7854042</td><td>0.8354006</td><td>0.8543366</td></tr>\n",
       "\t<tr><th scope=row>51153</th><td>0.8788035</td><td>0.8396582</td><td>0.7772530</td><td>0.0000000</td><td>0.8362607</td><td>0.7758206</td><td>0.8928097</td><td>0.6773806</td><td>0.9059841</td><td>0.8145823</td><td>⋯        </td><td>0.8091908</td><td>0.9110259</td><td>0.8229229</td><td>0.7771829</td><td>0.8860729</td><td>0.8330501</td><td>0.7463764</td><td>0.6698505</td><td>0.6782480</td><td>0.3362513</td></tr>\n",
       "\t<tr><th scope=row>51163</th><td>0.6291309</td><td>0.5849713</td><td>0.6522348</td><td>0.8362607</td><td>0.0000000</td><td>0.6211324</td><td>0.6671987</td><td>0.6925138</td><td>0.6389933</td><td>0.4617396</td><td>⋯        </td><td>0.6937650</td><td>0.6049709</td><td>0.7146762</td><td>0.7190243</td><td>0.6310856</td><td>0.5789474</td><td>0.6274462</td><td>0.7485619</td><td>0.8033355</td><td>0.8398835</td></tr>\n",
       "\t<tr><th scope=row>51173</th><td>0.6948920</td><td>0.8174258</td><td>0.7079387</td><td>0.7758206</td><td>0.6211324</td><td>0.0000000</td><td>0.7508509</td><td>0.6458505</td><td>0.7301349</td><td>0.3618208</td><td>⋯        </td><td>0.7323194</td><td>0.7593867</td><td>0.7231701</td><td>0.6404267</td><td>0.6680469</td><td>0.6463902</td><td>0.6889085</td><td>0.7239791</td><td>0.7451764</td><td>0.8195936</td></tr>\n",
       "\t<tr><th scope=row>51183</th><td>0.6984887</td><td>0.7200726</td><td>0.7654403</td><td>0.8928097</td><td>0.6671987</td><td>0.7508509</td><td>0.0000000</td><td>0.6033620</td><td>0.5575023</td><td>0.7477375</td><td>⋯        </td><td>0.5518634</td><td>0.7233142</td><td>0.6987827</td><td>0.7631103</td><td>0.7900544</td><td>0.6805108</td><td>0.8077715</td><td>0.7328969</td><td>0.7940675</td><td>0.8468115</td></tr>\n",
       "\t<tr><th scope=row>51193</th><td>0.7214236</td><td>0.8046773</td><td>0.8081147</td><td>0.6773806</td><td>0.6925138</td><td>0.6458505</td><td>0.6033620</td><td>0.0000000</td><td>0.7404201</td><td>0.6855355</td><td>⋯        </td><td>0.6336609</td><td>0.7692146</td><td>0.7173468</td><td>0.7628905</td><td>0.7305893</td><td>0.6617652</td><td>0.7562266</td><td>0.7245698</td><td>0.7472286</td><td>0.5892204</td></tr>\n",
       "\t<tr><th scope=row>51203</th><td>0.6435832</td><td>0.8175170</td><td>0.6941839</td><td>0.9059841</td><td>0.6389933</td><td>0.7301349</td><td>0.5575023</td><td>0.7404201</td><td>0.0000000</td><td>0.6867650</td><td>⋯        </td><td>0.7460928</td><td>0.5430632</td><td>0.6760031</td><td>0.6952642</td><td>0.7445238</td><td>0.5834538</td><td>0.7287351</td><td>0.7910525</td><td>0.8319005</td><td>0.8567488</td></tr>\n",
       "\t<tr><th scope=row>51213</th><td>0.6414314</td><td>0.7711311</td><td>0.6513160</td><td>0.8145823</td><td>0.4617396</td><td>0.3618208</td><td>0.7477375</td><td>0.6855355</td><td>0.6867650</td><td>0.0000000</td><td>⋯        </td><td>0.6973422</td><td>0.7395060</td><td>0.6641698</td><td>0.7088913</td><td>0.6046811</td><td>0.6675450</td><td>0.6100262</td><td>0.7334017</td><td>0.7409001</td><td>0.8303865</td></tr>\n",
       "</tbody>\n",
       "</table>\n"
      ],
      "text/latex": [
       "\\begin{tabular}{r|lllllllllllllllllllllllllllllllllllllllllllllllllllllllllllllllllllllllllllllllllllllllllllllllllllllllllllllllllllllllllllllllllllllllllllllllllllllllllllllllllllllllllllllllllllllllllllllllllllllllllllllllllllllllllllllllllllllllllllllllllllllllllllllllllllllllllllllllllllllllllllllllllllllllllllllllllllllllllllllllllllllllllllllllllllllllllllllllllllllllllllllllllllllllllllllllllllllllllllllllllllllllllllllllllllllllllllllllllllllllllllllllllllllllllllllllllllllllllllllllllllllllllllllllllllllllllllllllllllllllllllllllllllllllllllllllllllllllllllllllllllllllllllllllllllllllllllllllllllllllllllllllllllllllllllllllllllllllllllllllllllllllllllllllllllllllllllllllllllllllllllllllllllllllllllllllllllllllllllllllllllllllllllllllllllllllllllllllllllllllllllllllllllllllllllllllllllllllllllllllllllllllllllllllllllllllllllllllllllllllllllllllllllllllllllllllllllllllllllllllllllllllllllllllllllllllllllllllllllllllllllllllllllllllllllllllllllllllllllllllllllllllllllllllllllllllllllllllllllllllllllllllllllllllllllllllllllllllllllllllllllllllllllllllllllllllllllllllllllllllllllllllllllllllllllllllllllllllllllllllllllllllllllllllllllllllllllllllllllllllllllllllllllllllllllllllllllllllllllllllllllllllllllllllllllllllllllllllllllllllllllllllllllllllllllllllllllllllllllllllllllllllllllllllllllllllllllllllllllllllllllllllllllllllllllllllllllllllllllllllllllllllllllllllllllllllllllllllllllllllllllllllllllllllllllllllllllllllllllllllllllllllllllllllllllllllllllllllllllllllllllllllllllllllllllllllllllllllllllllllllllllllllllllllllllllllllllllllllllllllllllllllllllllllllllllllllllllllllllllllllllllllllllllllllllllllllllllllllllllllllllllllllllllllllllllllllllllllllllllllllllllllllllllllllllllllllllllllllllllllllllllllllllllllllllllllllllllllllllllllllllllllllllllllllllllllllllllllllllllllllllllllllllllllllllllllllllllllllllllllllllllllllllllllllllllllllllllllllllllllllllllllllllllllllllllllllllllllllllllllllllllllllllllllllllllllllllllllllllllllllllllllllllllllllllllllllllllllllllllllllllllll}\n",
       "  & 51123 & 51133 & 51143 & 51153 & 51163 & 51173 & 51183 & 51193 & 51203 & 51213 & ⋯ & 84343 & 84353 & 84363 & 84403 & 84413 & 84423 & 84433 & 84443 & 84553 & 84563\\\\\n",
       "\\hline\n",
       "\t51123 & 0.0000000 & 0.7214758 & 0.5332320 & 0.8788035 & 0.6291309 & 0.6948920 & 0.6984887 & 0.7214236 & 0.6435832 & 0.6414314 & ⋯         & 0.8348554 & 0.7247011 & 0.6815608 & 0.7171573 & 0.4777670 & 0.6291309 & 0.7074771 & 0.8196600 & 0.8574607 & 0.8633470\\\\\n",
       "\t51133 & 0.7214758 & 0.0000000 & 0.6445143 & 0.8396582 & 0.5849713 & 0.8174258 & 0.7200726 & 0.8046773 & 0.8175170 & 0.7711311 & ⋯         & 0.7604335 & 0.8103033 & 0.8125055 & 0.7401402 & 0.7878788 & 0.8040142 & 0.8531105 & 0.7562899 & 0.8449193 & 0.8444616\\\\\n",
       "\t51143 & 0.5332320 & 0.6445143 & 0.0000000 & 0.7772530 & 0.6522348 & 0.7079387 & 0.7654403 & 0.8081147 & 0.6941839 & 0.6513160 & ⋯         & 0.8153191 & 0.6820946 & 0.7540929 & 0.3582268 & 0.5937306 & 0.6715551 & 0.7210114 & 0.7854042 & 0.8354006 & 0.8543366\\\\\n",
       "\t51153 & 0.8788035 & 0.8396582 & 0.7772530 & 0.0000000 & 0.8362607 & 0.7758206 & 0.8928097 & 0.6773806 & 0.9059841 & 0.8145823 & ⋯         & 0.8091908 & 0.9110259 & 0.8229229 & 0.7771829 & 0.8860729 & 0.8330501 & 0.7463764 & 0.6698505 & 0.6782480 & 0.3362513\\\\\n",
       "\t51163 & 0.6291309 & 0.5849713 & 0.6522348 & 0.8362607 & 0.0000000 & 0.6211324 & 0.6671987 & 0.6925138 & 0.6389933 & 0.4617396 & ⋯         & 0.6937650 & 0.6049709 & 0.7146762 & 0.7190243 & 0.6310856 & 0.5789474 & 0.6274462 & 0.7485619 & 0.8033355 & 0.8398835\\\\\n",
       "\t51173 & 0.6948920 & 0.8174258 & 0.7079387 & 0.7758206 & 0.6211324 & 0.0000000 & 0.7508509 & 0.6458505 & 0.7301349 & 0.3618208 & ⋯         & 0.7323194 & 0.7593867 & 0.7231701 & 0.6404267 & 0.6680469 & 0.6463902 & 0.6889085 & 0.7239791 & 0.7451764 & 0.8195936\\\\\n",
       "\t51183 & 0.6984887 & 0.7200726 & 0.7654403 & 0.8928097 & 0.6671987 & 0.7508509 & 0.0000000 & 0.6033620 & 0.5575023 & 0.7477375 & ⋯         & 0.5518634 & 0.7233142 & 0.6987827 & 0.7631103 & 0.7900544 & 0.6805108 & 0.8077715 & 0.7328969 & 0.7940675 & 0.8468115\\\\\n",
       "\t51193 & 0.7214236 & 0.8046773 & 0.8081147 & 0.6773806 & 0.6925138 & 0.6458505 & 0.6033620 & 0.0000000 & 0.7404201 & 0.6855355 & ⋯         & 0.6336609 & 0.7692146 & 0.7173468 & 0.7628905 & 0.7305893 & 0.6617652 & 0.7562266 & 0.7245698 & 0.7472286 & 0.5892204\\\\\n",
       "\t51203 & 0.6435832 & 0.8175170 & 0.6941839 & 0.9059841 & 0.6389933 & 0.7301349 & 0.5575023 & 0.7404201 & 0.0000000 & 0.6867650 & ⋯         & 0.7460928 & 0.5430632 & 0.6760031 & 0.6952642 & 0.7445238 & 0.5834538 & 0.7287351 & 0.7910525 & 0.8319005 & 0.8567488\\\\\n",
       "\t51213 & 0.6414314 & 0.7711311 & 0.6513160 & 0.8145823 & 0.4617396 & 0.3618208 & 0.7477375 & 0.6855355 & 0.6867650 & 0.0000000 & ⋯         & 0.6973422 & 0.7395060 & 0.6641698 & 0.7088913 & 0.6046811 & 0.6675450 & 0.6100262 & 0.7334017 & 0.7409001 & 0.8303865\\\\\n",
       "\\end{tabular}\n"
      ],
      "text/markdown": [
       "\n",
       "| <!--/--> | 51123 | 51133 | 51143 | 51153 | 51163 | 51173 | 51183 | 51193 | 51203 | 51213 | ⋯ | 84343 | 84353 | 84363 | 84403 | 84413 | 84423 | 84433 | 84443 | 84553 | 84563 | \n",
       "|---|---|---|---|---|---|---|---|---|---|\n",
       "| 51123 | 0.0000000 | 0.7214758 | 0.5332320 | 0.8788035 | 0.6291309 | 0.6948920 | 0.6984887 | 0.7214236 | 0.6435832 | 0.6414314 | ⋯         | 0.8348554 | 0.7247011 | 0.6815608 | 0.7171573 | 0.4777670 | 0.6291309 | 0.7074771 | 0.8196600 | 0.8574607 | 0.8633470 | \n",
       "| 51133 | 0.7214758 | 0.0000000 | 0.6445143 | 0.8396582 | 0.5849713 | 0.8174258 | 0.7200726 | 0.8046773 | 0.8175170 | 0.7711311 | ⋯         | 0.7604335 | 0.8103033 | 0.8125055 | 0.7401402 | 0.7878788 | 0.8040142 | 0.8531105 | 0.7562899 | 0.8449193 | 0.8444616 | \n",
       "| 51143 | 0.5332320 | 0.6445143 | 0.0000000 | 0.7772530 | 0.6522348 | 0.7079387 | 0.7654403 | 0.8081147 | 0.6941839 | 0.6513160 | ⋯         | 0.8153191 | 0.6820946 | 0.7540929 | 0.3582268 | 0.5937306 | 0.6715551 | 0.7210114 | 0.7854042 | 0.8354006 | 0.8543366 | \n",
       "| 51153 | 0.8788035 | 0.8396582 | 0.7772530 | 0.0000000 | 0.8362607 | 0.7758206 | 0.8928097 | 0.6773806 | 0.9059841 | 0.8145823 | ⋯         | 0.8091908 | 0.9110259 | 0.8229229 | 0.7771829 | 0.8860729 | 0.8330501 | 0.7463764 | 0.6698505 | 0.6782480 | 0.3362513 | \n",
       "| 51163 | 0.6291309 | 0.5849713 | 0.6522348 | 0.8362607 | 0.0000000 | 0.6211324 | 0.6671987 | 0.6925138 | 0.6389933 | 0.4617396 | ⋯         | 0.6937650 | 0.6049709 | 0.7146762 | 0.7190243 | 0.6310856 | 0.5789474 | 0.6274462 | 0.7485619 | 0.8033355 | 0.8398835 | \n",
       "| 51173 | 0.6948920 | 0.8174258 | 0.7079387 | 0.7758206 | 0.6211324 | 0.0000000 | 0.7508509 | 0.6458505 | 0.7301349 | 0.3618208 | ⋯         | 0.7323194 | 0.7593867 | 0.7231701 | 0.6404267 | 0.6680469 | 0.6463902 | 0.6889085 | 0.7239791 | 0.7451764 | 0.8195936 | \n",
       "| 51183 | 0.6984887 | 0.7200726 | 0.7654403 | 0.8928097 | 0.6671987 | 0.7508509 | 0.0000000 | 0.6033620 | 0.5575023 | 0.7477375 | ⋯         | 0.5518634 | 0.7233142 | 0.6987827 | 0.7631103 | 0.7900544 | 0.6805108 | 0.8077715 | 0.7328969 | 0.7940675 | 0.8468115 | \n",
       "| 51193 | 0.7214236 | 0.8046773 | 0.8081147 | 0.6773806 | 0.6925138 | 0.6458505 | 0.6033620 | 0.0000000 | 0.7404201 | 0.6855355 | ⋯         | 0.6336609 | 0.7692146 | 0.7173468 | 0.7628905 | 0.7305893 | 0.6617652 | 0.7562266 | 0.7245698 | 0.7472286 | 0.5892204 | \n",
       "| 51203 | 0.6435832 | 0.8175170 | 0.6941839 | 0.9059841 | 0.6389933 | 0.7301349 | 0.5575023 | 0.7404201 | 0.0000000 | 0.6867650 | ⋯         | 0.7460928 | 0.5430632 | 0.6760031 | 0.6952642 | 0.7445238 | 0.5834538 | 0.7287351 | 0.7910525 | 0.8319005 | 0.8567488 | \n",
       "| 51213 | 0.6414314 | 0.7711311 | 0.6513160 | 0.8145823 | 0.4617396 | 0.3618208 | 0.7477375 | 0.6855355 | 0.6867650 | 0.0000000 | ⋯         | 0.6973422 | 0.7395060 | 0.6641698 | 0.7088913 | 0.6046811 | 0.6675450 | 0.6100262 | 0.7334017 | 0.7409001 | 0.8303865 | \n",
       "\n",
       "\n"
      ],
      "text/plain": [
       "      51123     51133     51143     51153     51163     51173     51183    \n",
       "51123 0.0000000 0.7214758 0.5332320 0.8788035 0.6291309 0.6948920 0.6984887\n",
       "51133 0.7214758 0.0000000 0.6445143 0.8396582 0.5849713 0.8174258 0.7200726\n",
       "51143 0.5332320 0.6445143 0.0000000 0.7772530 0.6522348 0.7079387 0.7654403\n",
       "51153 0.8788035 0.8396582 0.7772530 0.0000000 0.8362607 0.7758206 0.8928097\n",
       "51163 0.6291309 0.5849713 0.6522348 0.8362607 0.0000000 0.6211324 0.6671987\n",
       "51173 0.6948920 0.8174258 0.7079387 0.7758206 0.6211324 0.0000000 0.7508509\n",
       "51183 0.6984887 0.7200726 0.7654403 0.8928097 0.6671987 0.7508509 0.0000000\n",
       "51193 0.7214236 0.8046773 0.8081147 0.6773806 0.6925138 0.6458505 0.6033620\n",
       "51203 0.6435832 0.8175170 0.6941839 0.9059841 0.6389933 0.7301349 0.5575023\n",
       "51213 0.6414314 0.7711311 0.6513160 0.8145823 0.4617396 0.3618208 0.7477375\n",
       "      51193     51203     51213     ⋯ 84343     84353     84363     84403    \n",
       "51123 0.7214236 0.6435832 0.6414314 ⋯ 0.8348554 0.7247011 0.6815608 0.7171573\n",
       "51133 0.8046773 0.8175170 0.7711311 ⋯ 0.7604335 0.8103033 0.8125055 0.7401402\n",
       "51143 0.8081147 0.6941839 0.6513160 ⋯ 0.8153191 0.6820946 0.7540929 0.3582268\n",
       "51153 0.6773806 0.9059841 0.8145823 ⋯ 0.8091908 0.9110259 0.8229229 0.7771829\n",
       "51163 0.6925138 0.6389933 0.4617396 ⋯ 0.6937650 0.6049709 0.7146762 0.7190243\n",
       "51173 0.6458505 0.7301349 0.3618208 ⋯ 0.7323194 0.7593867 0.7231701 0.6404267\n",
       "51183 0.6033620 0.5575023 0.7477375 ⋯ 0.5518634 0.7233142 0.6987827 0.7631103\n",
       "51193 0.0000000 0.7404201 0.6855355 ⋯ 0.6336609 0.7692146 0.7173468 0.7628905\n",
       "51203 0.7404201 0.0000000 0.6867650 ⋯ 0.7460928 0.5430632 0.6760031 0.6952642\n",
       "51213 0.6855355 0.6867650 0.0000000 ⋯ 0.6973422 0.7395060 0.6641698 0.7088913\n",
       "      84413     84423     84433     84443     84553     84563    \n",
       "51123 0.4777670 0.6291309 0.7074771 0.8196600 0.8574607 0.8633470\n",
       "51133 0.7878788 0.8040142 0.8531105 0.7562899 0.8449193 0.8444616\n",
       "51143 0.5937306 0.6715551 0.7210114 0.7854042 0.8354006 0.8543366\n",
       "51153 0.8860729 0.8330501 0.7463764 0.6698505 0.6782480 0.3362513\n",
       "51163 0.6310856 0.5789474 0.6274462 0.7485619 0.8033355 0.8398835\n",
       "51173 0.6680469 0.6463902 0.6889085 0.7239791 0.7451764 0.8195936\n",
       "51183 0.7900544 0.6805108 0.8077715 0.7328969 0.7940675 0.8468115\n",
       "51193 0.7305893 0.6617652 0.7562266 0.7245698 0.7472286 0.5892204\n",
       "51203 0.7445238 0.5834538 0.7287351 0.7910525 0.8319005 0.8567488\n",
       "51213 0.6046811 0.6675450 0.6100262 0.7334017 0.7409001 0.8303865"
      ]
     },
     "metadata": {},
     "output_type": "display_data"
    }
   ],
   "source": [
    "#library(lsa)\n",
    "# 100 usecs\n",
    "#system.time(distances <- cosine(as.matrix(t(dtms))))\n",
    "\n",
    "# 5 usecs\n",
    "system.time(\n",
    "    distances <- cosDist(as.matrix(dtms))\n",
    ")\n",
    "distances[c(1:10),]"
   ]
  },
  {
   "cell_type": "code",
   "execution_count": null,
   "metadata": {},
   "outputs": [],
   "source": []
  },
  {
   "cell_type": "markdown",
   "metadata": {},
   "source": [
    "Let's feed this distance matrix into k-medoid clustering algorithm to assign similar documents to common cluster."
   ]
  },
  {
   "cell_type": "code",
   "execution_count": 29,
   "metadata": {},
   "outputs": [],
   "source": [
    "library(fpc)\n",
    "library(cluster)\n",
    "\n",
    "k <- 20\n",
    "kfit <- pam(distances, k=k, diss=TRUE)\n",
    "clustering <- kfit$cluster"
   ]
  },
  {
   "cell_type": "markdown",
   "metadata": {},
   "source": [
    "Grab document names from source directory and attach cluster labels to them."
   ]
  },
  {
   "cell_type": "code",
   "execution_count": 59,
   "metadata": {},
   "outputs": [],
   "source": [
    "groups <- DirSource(directory=src, encoding='utf-8', pattern='^.*3$', recursive = TRUE)\n",
    "groups <- c(unlist(groups, recursive=FALSE))\n",
    "\n",
    "groups <- gsub('/home/jovyan/data/SDM/20_newsgroups//([a-zA-Z.-]+)/\\\\d+', '\\\\1', groups)[-(1:5)]"
   ]
  },
  {
   "cell_type": "code",
   "execution_count": 60,
   "metadata": {},
   "outputs": [
    {
     "data": {
      "text/html": [
       "<table>\n",
       "<thead><tr><th></th><th scope=col>clustering</th><th scope=col>groups</th></tr></thead>\n",
       "<tbody>\n",
       "\t<tr><th scope=row>51123</th><td>1          </td><td>alt.atheism</td></tr>\n",
       "\t<tr><th scope=row>51133</th><td>2          </td><td>alt.atheism</td></tr>\n",
       "\t<tr><th scope=row>51143</th><td>1          </td><td>alt.atheism</td></tr>\n",
       "\t<tr><th scope=row>51153</th><td>3          </td><td>alt.atheism</td></tr>\n",
       "\t<tr><th scope=row>51163</th><td>1          </td><td>alt.atheism</td></tr>\n",
       "\t<tr><th scope=row>51173</th><td>4          </td><td>alt.atheism</td></tr>\n",
       "\t<tr><th scope=row>51183</th><td>5          </td><td>alt.atheism</td></tr>\n",
       "\t<tr><th scope=row>51193</th><td>4          </td><td>alt.atheism</td></tr>\n",
       "\t<tr><th scope=row>51203</th><td>5          </td><td>alt.atheism</td></tr>\n",
       "\t<tr><th scope=row>51213</th><td>6          </td><td>alt.atheism</td></tr>\n",
       "\t<tr><th scope=row>51223</th><td>7          </td><td>alt.atheism</td></tr>\n",
       "\t<tr><th scope=row>51233</th><td>4          </td><td>alt.atheism</td></tr>\n",
       "\t<tr><th scope=row>51243</th><td>3          </td><td>alt.atheism</td></tr>\n",
       "\t<tr><th scope=row>51253</th><td>3          </td><td>alt.atheism</td></tr>\n",
       "\t<tr><th scope=row>51273</th><td>1          </td><td>alt.atheism</td></tr>\n",
       "\t<tr><th scope=row>51283</th><td>2          </td><td>alt.atheism</td></tr>\n",
       "\t<tr><th scope=row>51293</th><td>1          </td><td>alt.atheism</td></tr>\n",
       "\t<tr><th scope=row>51303</th><td>8          </td><td>alt.atheism</td></tr>\n",
       "\t<tr><th scope=row>51313</th><td>9          </td><td>alt.atheism</td></tr>\n",
       "\t<tr><th scope=row>53063</th><td>6          </td><td>alt.atheism</td></tr>\n",
       "\t<tr><th scope=row>53073</th><td>6          </td><td>alt.atheism</td></tr>\n",
       "\t<tr><th scope=row>53083</th><td>1          </td><td>alt.atheism</td></tr>\n",
       "\t<tr><th scope=row>53093</th><td>10         </td><td>alt.atheism</td></tr>\n",
       "\t<tr><th scope=row>53103</th><td>7          </td><td>alt.atheism</td></tr>\n",
       "\t<tr><th scope=row>53113</th><td>2          </td><td>alt.atheism</td></tr>\n",
       "\t<tr><th scope=row>53123</th><td>7          </td><td>alt.atheism</td></tr>\n",
       "\t<tr><th scope=row>53133</th><td>11         </td><td>alt.atheism</td></tr>\n",
       "\t<tr><th scope=row>53143</th><td>1          </td><td>alt.atheism</td></tr>\n",
       "\t<tr><th scope=row>53153</th><td>6          </td><td>alt.atheism</td></tr>\n",
       "\t<tr><th scope=row>53163</th><td>12         </td><td>alt.atheism</td></tr>\n",
       "\t<tr><th scope=row>⋮</th><td>⋮</td><td>⋮</td></tr>\n",
       "\t<tr><th scope=row>84123</th><td>3                 </td><td>talk.religion.misc</td></tr>\n",
       "\t<tr><th scope=row>84133</th><td>4                 </td><td>talk.religion.misc</td></tr>\n",
       "\t<tr><th scope=row>84143</th><td>7                 </td><td>talk.religion.misc</td></tr>\n",
       "\t<tr><th scope=row>84153</th><td>13                </td><td>talk.religion.misc</td></tr>\n",
       "\t<tr><th scope=row>84183</th><td>13                </td><td>talk.religion.misc</td></tr>\n",
       "\t<tr><th scope=row>84193</th><td>4                 </td><td>talk.religion.misc</td></tr>\n",
       "\t<tr><th scope=row>84203</th><td>4                 </td><td>talk.religion.misc</td></tr>\n",
       "\t<tr><th scope=row>84213</th><td>9                 </td><td>talk.religion.misc</td></tr>\n",
       "\t<tr><th scope=row>84223</th><td>2                 </td><td>talk.religion.misc</td></tr>\n",
       "\t<tr><th scope=row>84233</th><td>12                </td><td>talk.religion.misc</td></tr>\n",
       "\t<tr><th scope=row>84243</th><td>5                 </td><td>talk.religion.misc</td></tr>\n",
       "\t<tr><th scope=row>84253</th><td>4                 </td><td>talk.religion.misc</td></tr>\n",
       "\t<tr><th scope=row>84263</th><td>13                </td><td>talk.religion.misc</td></tr>\n",
       "\t<tr><th scope=row>84273</th><td>5                 </td><td>talk.religion.misc</td></tr>\n",
       "\t<tr><th scope=row>84283</th><td>2                 </td><td>talk.religion.misc</td></tr>\n",
       "\t<tr><th scope=row>84293</th><td>13                </td><td>talk.religion.misc</td></tr>\n",
       "\t<tr><th scope=row>84303</th><td>5                 </td><td>talk.religion.misc</td></tr>\n",
       "\t<tr><th scope=row>84313</th><td>7                 </td><td>talk.religion.misc</td></tr>\n",
       "\t<tr><th scope=row>84323</th><td>4                 </td><td>talk.religion.misc</td></tr>\n",
       "\t<tr><th scope=row>84333</th><td>1                 </td><td>talk.religion.misc</td></tr>\n",
       "\t<tr><th scope=row>84343</th><td>4                 </td><td>talk.religion.misc</td></tr>\n",
       "\t<tr><th scope=row>84353</th><td>12                </td><td>talk.religion.misc</td></tr>\n",
       "\t<tr><th scope=row>84363</th><td>5                 </td><td>talk.religion.misc</td></tr>\n",
       "\t<tr><th scope=row>84403</th><td>14                </td><td>talk.religion.misc</td></tr>\n",
       "\t<tr><th scope=row>84413</th><td>7                 </td><td>talk.religion.misc</td></tr>\n",
       "\t<tr><th scope=row>84423</th><td>1                 </td><td>talk.religion.misc</td></tr>\n",
       "\t<tr><th scope=row>84433</th><td>5                 </td><td>talk.religion.misc</td></tr>\n",
       "\t<tr><th scope=row>84443</th><td>2                 </td><td>talk.religion.misc</td></tr>\n",
       "\t<tr><th scope=row>84553</th><td>4                 </td><td>talk.religion.misc</td></tr>\n",
       "\t<tr><th scope=row>84563</th><td>3                 </td><td>talk.religion.misc</td></tr>\n",
       "</tbody>\n",
       "</table>\n"
      ],
      "text/latex": [
       "\\begin{tabular}{r|ll}\n",
       "  & clustering & groups\\\\\n",
       "\\hline\n",
       "\t51123 & 1           & alt.atheism\\\\\n",
       "\t51133 & 2           & alt.atheism\\\\\n",
       "\t51143 & 1           & alt.atheism\\\\\n",
       "\t51153 & 3           & alt.atheism\\\\\n",
       "\t51163 & 1           & alt.atheism\\\\\n",
       "\t51173 & 4           & alt.atheism\\\\\n",
       "\t51183 & 5           & alt.atheism\\\\\n",
       "\t51193 & 4           & alt.atheism\\\\\n",
       "\t51203 & 5           & alt.atheism\\\\\n",
       "\t51213 & 6           & alt.atheism\\\\\n",
       "\t51223 & 7           & alt.atheism\\\\\n",
       "\t51233 & 4           & alt.atheism\\\\\n",
       "\t51243 & 3           & alt.atheism\\\\\n",
       "\t51253 & 3           & alt.atheism\\\\\n",
       "\t51273 & 1           & alt.atheism\\\\\n",
       "\t51283 & 2           & alt.atheism\\\\\n",
       "\t51293 & 1           & alt.atheism\\\\\n",
       "\t51303 & 8           & alt.atheism\\\\\n",
       "\t51313 & 9           & alt.atheism\\\\\n",
       "\t53063 & 6           & alt.atheism\\\\\n",
       "\t53073 & 6           & alt.atheism\\\\\n",
       "\t53083 & 1           & alt.atheism\\\\\n",
       "\t53093 & 10          & alt.atheism\\\\\n",
       "\t53103 & 7           & alt.atheism\\\\\n",
       "\t53113 & 2           & alt.atheism\\\\\n",
       "\t53123 & 7           & alt.atheism\\\\\n",
       "\t53133 & 11          & alt.atheism\\\\\n",
       "\t53143 & 1           & alt.atheism\\\\\n",
       "\t53153 & 6           & alt.atheism\\\\\n",
       "\t53163 & 12          & alt.atheism\\\\\n",
       "\t⋮ & ⋮ & ⋮\\\\\n",
       "\t84123 & 3                  & talk.religion.misc\\\\\n",
       "\t84133 & 4                  & talk.religion.misc\\\\\n",
       "\t84143 & 7                  & talk.religion.misc\\\\\n",
       "\t84153 & 13                 & talk.religion.misc\\\\\n",
       "\t84183 & 13                 & talk.religion.misc\\\\\n",
       "\t84193 & 4                  & talk.religion.misc\\\\\n",
       "\t84203 & 4                  & talk.religion.misc\\\\\n",
       "\t84213 & 9                  & talk.religion.misc\\\\\n",
       "\t84223 & 2                  & talk.religion.misc\\\\\n",
       "\t84233 & 12                 & talk.religion.misc\\\\\n",
       "\t84243 & 5                  & talk.religion.misc\\\\\n",
       "\t84253 & 4                  & talk.religion.misc\\\\\n",
       "\t84263 & 13                 & talk.religion.misc\\\\\n",
       "\t84273 & 5                  & talk.religion.misc\\\\\n",
       "\t84283 & 2                  & talk.religion.misc\\\\\n",
       "\t84293 & 13                 & talk.religion.misc\\\\\n",
       "\t84303 & 5                  & talk.religion.misc\\\\\n",
       "\t84313 & 7                  & talk.religion.misc\\\\\n",
       "\t84323 & 4                  & talk.religion.misc\\\\\n",
       "\t84333 & 1                  & talk.religion.misc\\\\\n",
       "\t84343 & 4                  & talk.religion.misc\\\\\n",
       "\t84353 & 12                 & talk.religion.misc\\\\\n",
       "\t84363 & 5                  & talk.religion.misc\\\\\n",
       "\t84403 & 14                 & talk.religion.misc\\\\\n",
       "\t84413 & 7                  & talk.religion.misc\\\\\n",
       "\t84423 & 1                  & talk.religion.misc\\\\\n",
       "\t84433 & 5                  & talk.religion.misc\\\\\n",
       "\t84443 & 2                  & talk.religion.misc\\\\\n",
       "\t84553 & 4                  & talk.religion.misc\\\\\n",
       "\t84563 & 3                  & talk.religion.misc\\\\\n",
       "\\end{tabular}\n"
      ],
      "text/markdown": [
       "\n",
       "| <!--/--> | clustering | groups | \n",
       "|---|---|---|---|---|---|---|---|---|---|---|---|---|---|---|---|---|---|---|---|---|---|---|---|---|---|---|---|---|---|---|---|---|---|---|---|---|---|---|---|---|---|---|---|---|---|---|---|---|---|---|---|---|---|---|---|---|---|---|---|---|\n",
       "| 51123 | 1           | alt.atheism | \n",
       "| 51133 | 2           | alt.atheism | \n",
       "| 51143 | 1           | alt.atheism | \n",
       "| 51153 | 3           | alt.atheism | \n",
       "| 51163 | 1           | alt.atheism | \n",
       "| 51173 | 4           | alt.atheism | \n",
       "| 51183 | 5           | alt.atheism | \n",
       "| 51193 | 4           | alt.atheism | \n",
       "| 51203 | 5           | alt.atheism | \n",
       "| 51213 | 6           | alt.atheism | \n",
       "| 51223 | 7           | alt.atheism | \n",
       "| 51233 | 4           | alt.atheism | \n",
       "| 51243 | 3           | alt.atheism | \n",
       "| 51253 | 3           | alt.atheism | \n",
       "| 51273 | 1           | alt.atheism | \n",
       "| 51283 | 2           | alt.atheism | \n",
       "| 51293 | 1           | alt.atheism | \n",
       "| 51303 | 8           | alt.atheism | \n",
       "| 51313 | 9           | alt.atheism | \n",
       "| 53063 | 6           | alt.atheism | \n",
       "| 53073 | 6           | alt.atheism | \n",
       "| 53083 | 1           | alt.atheism | \n",
       "| 53093 | 10          | alt.atheism | \n",
       "| 53103 | 7           | alt.atheism | \n",
       "| 53113 | 2           | alt.atheism | \n",
       "| 53123 | 7           | alt.atheism | \n",
       "| 53133 | 11          | alt.atheism | \n",
       "| 53143 | 1           | alt.atheism | \n",
       "| 53153 | 6           | alt.atheism | \n",
       "| 53163 | 12          | alt.atheism | \n",
       "| ⋮ | ⋮ | ⋮ | \n",
       "| 84123 | 3                  | talk.religion.misc | \n",
       "| 84133 | 4                  | talk.religion.misc | \n",
       "| 84143 | 7                  | talk.religion.misc | \n",
       "| 84153 | 13                 | talk.religion.misc | \n",
       "| 84183 | 13                 | talk.religion.misc | \n",
       "| 84193 | 4                  | talk.religion.misc | \n",
       "| 84203 | 4                  | talk.religion.misc | \n",
       "| 84213 | 9                  | talk.religion.misc | \n",
       "| 84223 | 2                  | talk.religion.misc | \n",
       "| 84233 | 12                 | talk.religion.misc | \n",
       "| 84243 | 5                  | talk.religion.misc | \n",
       "| 84253 | 4                  | talk.religion.misc | \n",
       "| 84263 | 13                 | talk.religion.misc | \n",
       "| 84273 | 5                  | talk.religion.misc | \n",
       "| 84283 | 2                  | talk.religion.misc | \n",
       "| 84293 | 13                 | talk.religion.misc | \n",
       "| 84303 | 5                  | talk.religion.misc | \n",
       "| 84313 | 7                  | talk.religion.misc | \n",
       "| 84323 | 4                  | talk.religion.misc | \n",
       "| 84333 | 1                  | talk.religion.misc | \n",
       "| 84343 | 4                  | talk.religion.misc | \n",
       "| 84353 | 12                 | talk.religion.misc | \n",
       "| 84363 | 5                  | talk.religion.misc | \n",
       "| 84403 | 14                 | talk.religion.misc | \n",
       "| 84413 | 7                  | talk.religion.misc | \n",
       "| 84423 | 1                  | talk.religion.misc | \n",
       "| 84433 | 5                  | talk.religion.misc | \n",
       "| 84443 | 2                  | talk.religion.misc | \n",
       "| 84553 | 4                  | talk.religion.misc | \n",
       "| 84563 | 3                  | talk.religion.misc | \n",
       "\n",
       "\n"
      ],
      "text/plain": [
       "      clustering groups            \n",
       "51123 1          alt.atheism       \n",
       "51133 2          alt.atheism       \n",
       "51143 1          alt.atheism       \n",
       "51153 3          alt.atheism       \n",
       "51163 1          alt.atheism       \n",
       "51173 4          alt.atheism       \n",
       "51183 5          alt.atheism       \n",
       "51193 4          alt.atheism       \n",
       "51203 5          alt.atheism       \n",
       "51213 6          alt.atheism       \n",
       "51223 7          alt.atheism       \n",
       "51233 4          alt.atheism       \n",
       "51243 3          alt.atheism       \n",
       "51253 3          alt.atheism       \n",
       "51273 1          alt.atheism       \n",
       "51283 2          alt.atheism       \n",
       "51293 1          alt.atheism       \n",
       "51303 8          alt.atheism       \n",
       "51313 9          alt.atheism       \n",
       "53063 6          alt.atheism       \n",
       "53073 6          alt.atheism       \n",
       "53083 1          alt.atheism       \n",
       "53093 10         alt.atheism       \n",
       "53103 7          alt.atheism       \n",
       "53113 2          alt.atheism       \n",
       "53123 7          alt.atheism       \n",
       "53133 11         alt.atheism       \n",
       "53143 1          alt.atheism       \n",
       "53153 6          alt.atheism       \n",
       "53163 12         alt.atheism       \n",
       "⋮     ⋮          ⋮                 \n",
       "84123 3          talk.religion.misc\n",
       "84133 4          talk.religion.misc\n",
       "84143 7          talk.religion.misc\n",
       "84153 13         talk.religion.misc\n",
       "84183 13         talk.religion.misc\n",
       "84193 4          talk.religion.misc\n",
       "84203 4          talk.religion.misc\n",
       "84213 9          talk.religion.misc\n",
       "84223 2          talk.religion.misc\n",
       "84233 12         talk.religion.misc\n",
       "84243 5          talk.religion.misc\n",
       "84253 4          talk.religion.misc\n",
       "84263 13         talk.religion.misc\n",
       "84273 5          talk.religion.misc\n",
       "84283 2          talk.religion.misc\n",
       "84293 13         talk.religion.misc\n",
       "84303 5          talk.religion.misc\n",
       "84313 7          talk.religion.misc\n",
       "84323 4          talk.religion.misc\n",
       "84333 1          talk.religion.misc\n",
       "84343 4          talk.religion.misc\n",
       "84353 12         talk.religion.misc\n",
       "84363 5          talk.religion.misc\n",
       "84403 14         talk.religion.misc\n",
       "84413 7          talk.religion.misc\n",
       "84423 1          talk.religion.misc\n",
       "84433 5          talk.religion.misc\n",
       "84443 2          talk.religion.misc\n",
       "84553 4          talk.religion.misc\n",
       "84563 3          talk.religion.misc"
      ]
     },
     "metadata": {},
     "output_type": "display_data"
    }
   ],
   "source": [
    "clustering_result <- cbind(clustering, groups)\n",
    "clustering_result"
   ]
  },
  {
   "cell_type": "markdown",
   "metadata": {},
   "source": [
    "Visualize the resulting clusters."
   ]
  },
  {
   "cell_type": "code",
   "execution_count": 80,
   "metadata": {},
   "outputs": [],
   "source": [
    "cluster_result_df <- as.data.frame(clustering_result)\n",
    "counts <- matrix(,nrow = length(groups), ncol = k)\n",
    "\n",
    "groupNames <- unique(groups)\n",
    "i <- 1\n",
    "final <- matrix(0,nrow = k, ncol = k)\n",
    "colnames(final) <- groupNames\n",
    "rownames(final) <- groupNames\n",
    "\n",
    "for (g in groups) {\n",
    "    data <- cluster_result_df[cluster_result_df$groups == g,]\n",
    "    for (c in seq(k)) {\n",
    "        final[g, c] <- sum(cluster_result_df$clustering == c & cluster_result_df$groups == g)\n",
    "    }\n",
    "}"
   ]
  },
  {
   "cell_type": "code",
   "execution_count": 81,
   "metadata": {},
   "outputs": [
    {
     "data": {
      "text/html": [
       "<table>\n",
       "<thead><tr><th></th><th scope=col>alt.atheism</th><th scope=col>comp.graphics</th><th scope=col>comp.os.ms-windows.misc</th><th scope=col>comp.sys.ibm.pc.hardware</th><th scope=col>comp.sys.mac.hardware</th><th scope=col>comp.windows.x</th><th scope=col>misc.forsale</th><th scope=col>rec.autos</th><th scope=col>rec.motorcycles</th><th scope=col>rec.sport.baseball</th><th scope=col>rec.sport.hockey</th><th scope=col>sci.crypt</th><th scope=col>sci.electronics</th><th scope=col>sci.med</th><th scope=col>sci.space</th><th scope=col>soc.religion.christian</th><th scope=col>talk.politics.guns</th><th scope=col>talk.politics.mideast</th><th scope=col>talk.politics.misc</th><th scope=col>talk.religion.misc</th></tr></thead>\n",
       "<tbody>\n",
       "\t<tr><th scope=row>alt.atheism</th><td>11</td><td>12</td><td> 8</td><td>13</td><td>17</td><td> 8</td><td> 3</td><td>6 </td><td> 2</td><td> 3</td><td> 3</td><td> 6</td><td> 7</td><td>0 </td><td>0 </td><td>0 </td><td> 0</td><td> 0</td><td> 0</td><td> 0</td></tr>\n",
       "\t<tr><th scope=row>comp.graphics</th><td> 3</td><td> 4</td><td> 0</td><td> 2</td><td> 7</td><td>13</td><td> 7</td><td>4 </td><td> 3</td><td> 6</td><td>14</td><td> 0</td><td>11</td><td>6 </td><td>5 </td><td>6 </td><td> 5</td><td> 2</td><td> 1</td><td> 0</td></tr>\n",
       "\t<tr><th scope=row>comp.os.ms-windows.misc</th><td> 3</td><td> 4</td><td> 0</td><td> 0</td><td> 7</td><td> 8</td><td> 4</td><td>7 </td><td> 6</td><td> 1</td><td> 9</td><td> 0</td><td> 5</td><td>3 </td><td>2 </td><td>1 </td><td>42</td><td> 1</td><td> 1</td><td> 0</td></tr>\n",
       "\t<tr><th scope=row>comp.sys.ibm.pc.hardware</th><td> 2</td><td> 5</td><td> 0</td><td> 0</td><td> 3</td><td>13</td><td> 5</td><td>9 </td><td> 2</td><td> 6</td><td> 9</td><td> 1</td><td>11</td><td>9 </td><td>2 </td><td>3 </td><td> 2</td><td> 0</td><td>20</td><td> 0</td></tr>\n",
       "\t<tr><th scope=row>comp.sys.mac.hardware</th><td> 6</td><td> 5</td><td> 0</td><td> 0</td><td>13</td><td> 9</td><td> 5</td><td>5 </td><td> 4</td><td>10</td><td>11</td><td> 4</td><td> 8</td><td>7 </td><td>2 </td><td>2 </td><td> 1</td><td> 0</td><td>10</td><td> 0</td></tr>\n",
       "\t<tr><th scope=row>comp.windows.x</th><td> 3</td><td> 3</td><td> 0</td><td> 1</td><td> 6</td><td> 7</td><td>11</td><td>7 </td><td> 9</td><td> 4</td><td> 4</td><td> 0</td><td> 8</td><td>7 </td><td>8 </td><td>4 </td><td>17</td><td> 1</td><td> 0</td><td> 0</td></tr>\n",
       "\t<tr><th scope=row>misc.forsale</th><td> 1</td><td> 2</td><td> 0</td><td> 1</td><td> 1</td><td>13</td><td>30</td><td>0 </td><td> 9</td><td> 3</td><td> 8</td><td> 2</td><td>11</td><td>4 </td><td>2 </td><td>0 </td><td> 4</td><td> 0</td><td> 4</td><td> 2</td></tr>\n",
       "\t<tr><th scope=row>rec.autos</th><td> 6</td><td>10</td><td> 0</td><td> 0</td><td>11</td><td>10</td><td> 8</td><td>6 </td><td> 1</td><td> 4</td><td> 3</td><td> 4</td><td> 6</td><td>2 </td><td>0 </td><td>0 </td><td> 0</td><td> 1</td><td> 3</td><td>26</td></tr>\n",
       "\t<tr><th scope=row>rec.motorcycles</th><td>14</td><td> 5</td><td> 0</td><td> 2</td><td>19</td><td> 6</td><td> 0</td><td>6 </td><td> 4</td><td> 7</td><td> 4</td><td>10</td><td>16</td><td>3 </td><td>0 </td><td>0 </td><td> 0</td><td> 2</td><td> 1</td><td> 2</td></tr>\n",
       "\t<tr><th scope=row>rec.sport.baseball</th><td>10</td><td> 5</td><td> 0</td><td> 2</td><td> 6</td><td>11</td><td> 2</td><td>9 </td><td> 6</td><td> 2</td><td> 2</td><td>22</td><td> 7</td><td>1 </td><td>0 </td><td>0 </td><td> 0</td><td>14</td><td> 0</td><td> 0</td></tr>\n",
       "\t<tr><th scope=row>rec.sport.hockey</th><td> 9</td><td> 2</td><td> 0</td><td> 1</td><td> 6</td><td> 8</td><td> 1</td><td>1 </td><td> 6</td><td> 3</td><td> 3</td><td>29</td><td>16</td><td>2 </td><td>0 </td><td>0 </td><td> 0</td><td>13</td><td> 0</td><td> 0</td></tr>\n",
       "\t<tr><th scope=row>sci.crypt</th><td> 4</td><td>18</td><td> 0</td><td> 2</td><td> 6</td><td> 4</td><td>11</td><td>3 </td><td> 9</td><td> 7</td><td> 6</td><td> 7</td><td> 5</td><td>7 </td><td>4 </td><td>3 </td><td> 0</td><td> 3</td><td> 0</td><td> 0</td></tr>\n",
       "\t<tr><th scope=row>sci.electronics</th><td>10</td><td>10</td><td> 0</td><td> 0</td><td>10</td><td> 7</td><td> 3</td><td>8 </td><td> 3</td><td>19</td><td> 7</td><td> 5</td><td> 7</td><td>5 </td><td>1 </td><td>2 </td><td> 0</td><td> 1</td><td> 2</td><td> 1</td></tr>\n",
       "\t<tr><th scope=row>sci.med</th><td>11</td><td>20</td><td> 0</td><td> 2</td><td>14</td><td> 4</td><td> 3</td><td>6 </td><td> 6</td><td>11</td><td> 5</td><td> 2</td><td>11</td><td>3 </td><td>2 </td><td>0 </td><td> 0</td><td> 0</td><td> 0</td><td> 0</td></tr>\n",
       "\t<tr><th scope=row>sci.space</th><td>14</td><td>11</td><td> 0</td><td> 0</td><td> 7</td><td> 5</td><td> 3</td><td>9 </td><td> 5</td><td> 9</td><td> 5</td><td> 6</td><td>13</td><td>3 </td><td>7 </td><td>0 </td><td> 0</td><td> 3</td><td> 0</td><td> 0</td></tr>\n",
       "\t<tr><th scope=row>soc.religion.christian</th><td> 4</td><td> 3</td><td>17</td><td>22</td><td> 6</td><td> 7</td><td> 3</td><td>1 </td><td>27</td><td> 3</td><td> 0</td><td> 6</td><td> 0</td><td>1 </td><td>0 </td><td>0 </td><td> 0</td><td> 0</td><td> 0</td><td> 0</td></tr>\n",
       "\t<tr><th scope=row>talk.politics.guns</th><td>12</td><td>11</td><td> 0</td><td> 8</td><td>15</td><td> 8</td><td> 5</td><td>8 </td><td> 5</td><td> 4</td><td> 4</td><td> 5</td><td> 2</td><td>7 </td><td>0 </td><td>0 </td><td> 0</td><td> 5</td><td> 0</td><td> 0</td></tr>\n",
       "\t<tr><th scope=row>talk.politics.mideast</th><td> 8</td><td>13</td><td> 1</td><td>14</td><td>20</td><td> 7</td><td> 2</td><td>5 </td><td> 2</td><td> 2</td><td> 7</td><td> 8</td><td> 7</td><td>0 </td><td>1 </td><td>0 </td><td> 0</td><td> 4</td><td> 0</td><td> 0</td></tr>\n",
       "\t<tr><th scope=row>talk.politics.misc</th><td>10</td><td>19</td><td> 1</td><td>10</td><td> 7</td><td> 6</td><td>11</td><td>7 </td><td> 1</td><td> 7</td><td> 2</td><td> 5</td><td> 8</td><td>5 </td><td>0 </td><td>0 </td><td> 0</td><td> 1</td><td> 1</td><td> 0</td></tr>\n",
       "\t<tr><th scope=row>talk.religion.misc</th><td> 8</td><td>11</td><td> 3</td><td>19</td><td>11</td><td> 6</td><td> 5</td><td>7 </td><td> 4</td><td> 3</td><td> 3</td><td> 4</td><td>10</td><td>5 </td><td>0 </td><td>0 </td><td> 0</td><td> 2</td><td> 0</td><td> 1</td></tr>\n",
       "</tbody>\n",
       "</table>\n"
      ],
      "text/latex": [
       "\\begin{tabular}{r|llllllllllllllllllll}\n",
       "  & alt.atheism & comp.graphics & comp.os.ms-windows.misc & comp.sys.ibm.pc.hardware & comp.sys.mac.hardware & comp.windows.x & misc.forsale & rec.autos & rec.motorcycles & rec.sport.baseball & rec.sport.hockey & sci.crypt & sci.electronics & sci.med & sci.space & soc.religion.christian & talk.politics.guns & talk.politics.mideast & talk.politics.misc & talk.religion.misc\\\\\n",
       "\\hline\n",
       "\talt.atheism & 11 & 12 &  8 & 13 & 17 &  8 &  3 & 6  &  2 &  3 &  3 &  6 &  7 & 0  & 0  & 0  &  0 &  0 &  0 &  0\\\\\n",
       "\tcomp.graphics &  3 &  4 &  0 &  2 &  7 & 13 &  7 & 4  &  3 &  6 & 14 &  0 & 11 & 6  & 5  & 6  &  5 &  2 &  1 &  0\\\\\n",
       "\tcomp.os.ms-windows.misc &  3 &  4 &  0 &  0 &  7 &  8 &  4 & 7  &  6 &  1 &  9 &  0 &  5 & 3  & 2  & 1  & 42 &  1 &  1 &  0\\\\\n",
       "\tcomp.sys.ibm.pc.hardware &  2 &  5 &  0 &  0 &  3 & 13 &  5 & 9  &  2 &  6 &  9 &  1 & 11 & 9  & 2  & 3  &  2 &  0 & 20 &  0\\\\\n",
       "\tcomp.sys.mac.hardware &  6 &  5 &  0 &  0 & 13 &  9 &  5 & 5  &  4 & 10 & 11 &  4 &  8 & 7  & 2  & 2  &  1 &  0 & 10 &  0\\\\\n",
       "\tcomp.windows.x &  3 &  3 &  0 &  1 &  6 &  7 & 11 & 7  &  9 &  4 &  4 &  0 &  8 & 7  & 8  & 4  & 17 &  1 &  0 &  0\\\\\n",
       "\tmisc.forsale &  1 &  2 &  0 &  1 &  1 & 13 & 30 & 0  &  9 &  3 &  8 &  2 & 11 & 4  & 2  & 0  &  4 &  0 &  4 &  2\\\\\n",
       "\trec.autos &  6 & 10 &  0 &  0 & 11 & 10 &  8 & 6  &  1 &  4 &  3 &  4 &  6 & 2  & 0  & 0  &  0 &  1 &  3 & 26\\\\\n",
       "\trec.motorcycles & 14 &  5 &  0 &  2 & 19 &  6 &  0 & 6  &  4 &  7 &  4 & 10 & 16 & 3  & 0  & 0  &  0 &  2 &  1 &  2\\\\\n",
       "\trec.sport.baseball & 10 &  5 &  0 &  2 &  6 & 11 &  2 & 9  &  6 &  2 &  2 & 22 &  7 & 1  & 0  & 0  &  0 & 14 &  0 &  0\\\\\n",
       "\trec.sport.hockey &  9 &  2 &  0 &  1 &  6 &  8 &  1 & 1  &  6 &  3 &  3 & 29 & 16 & 2  & 0  & 0  &  0 & 13 &  0 &  0\\\\\n",
       "\tsci.crypt &  4 & 18 &  0 &  2 &  6 &  4 & 11 & 3  &  9 &  7 &  6 &  7 &  5 & 7  & 4  & 3  &  0 &  3 &  0 &  0\\\\\n",
       "\tsci.electronics & 10 & 10 &  0 &  0 & 10 &  7 &  3 & 8  &  3 & 19 &  7 &  5 &  7 & 5  & 1  & 2  &  0 &  1 &  2 &  1\\\\\n",
       "\tsci.med & 11 & 20 &  0 &  2 & 14 &  4 &  3 & 6  &  6 & 11 &  5 &  2 & 11 & 3  & 2  & 0  &  0 &  0 &  0 &  0\\\\\n",
       "\tsci.space & 14 & 11 &  0 &  0 &  7 &  5 &  3 & 9  &  5 &  9 &  5 &  6 & 13 & 3  & 7  & 0  &  0 &  3 &  0 &  0\\\\\n",
       "\tsoc.religion.christian &  4 &  3 & 17 & 22 &  6 &  7 &  3 & 1  & 27 &  3 &  0 &  6 &  0 & 1  & 0  & 0  &  0 &  0 &  0 &  0\\\\\n",
       "\ttalk.politics.guns & 12 & 11 &  0 &  8 & 15 &  8 &  5 & 8  &  5 &  4 &  4 &  5 &  2 & 7  & 0  & 0  &  0 &  5 &  0 &  0\\\\\n",
       "\ttalk.politics.mideast &  8 & 13 &  1 & 14 & 20 &  7 &  2 & 5  &  2 &  2 &  7 &  8 &  7 & 0  & 1  & 0  &  0 &  4 &  0 &  0\\\\\n",
       "\ttalk.politics.misc & 10 & 19 &  1 & 10 &  7 &  6 & 11 & 7  &  1 &  7 &  2 &  5 &  8 & 5  & 0  & 0  &  0 &  1 &  1 &  0\\\\\n",
       "\ttalk.religion.misc &  8 & 11 &  3 & 19 & 11 &  6 &  5 & 7  &  4 &  3 &  3 &  4 & 10 & 5  & 0  & 0  &  0 &  2 &  0 &  1\\\\\n",
       "\\end{tabular}\n"
      ],
      "text/markdown": [
       "\n",
       "| <!--/--> | alt.atheism | comp.graphics | comp.os.ms-windows.misc | comp.sys.ibm.pc.hardware | comp.sys.mac.hardware | comp.windows.x | misc.forsale | rec.autos | rec.motorcycles | rec.sport.baseball | rec.sport.hockey | sci.crypt | sci.electronics | sci.med | sci.space | soc.religion.christian | talk.politics.guns | talk.politics.mideast | talk.politics.misc | talk.religion.misc | \n",
       "|---|---|---|---|---|---|---|---|---|---|---|---|---|---|---|---|---|---|---|---|\n",
       "| alt.atheism | 11 | 12 |  8 | 13 | 17 |  8 |  3 | 6  |  2 |  3 |  3 |  6 |  7 | 0  | 0  | 0  |  0 |  0 |  0 |  0 | \n",
       "| comp.graphics |  3 |  4 |  0 |  2 |  7 | 13 |  7 | 4  |  3 |  6 | 14 |  0 | 11 | 6  | 5  | 6  |  5 |  2 |  1 |  0 | \n",
       "| comp.os.ms-windows.misc |  3 |  4 |  0 |  0 |  7 |  8 |  4 | 7  |  6 |  1 |  9 |  0 |  5 | 3  | 2  | 1  | 42 |  1 |  1 |  0 | \n",
       "| comp.sys.ibm.pc.hardware |  2 |  5 |  0 |  0 |  3 | 13 |  5 | 9  |  2 |  6 |  9 |  1 | 11 | 9  | 2  | 3  |  2 |  0 | 20 |  0 | \n",
       "| comp.sys.mac.hardware |  6 |  5 |  0 |  0 | 13 |  9 |  5 | 5  |  4 | 10 | 11 |  4 |  8 | 7  | 2  | 2  |  1 |  0 | 10 |  0 | \n",
       "| comp.windows.x |  3 |  3 |  0 |  1 |  6 |  7 | 11 | 7  |  9 |  4 |  4 |  0 |  8 | 7  | 8  | 4  | 17 |  1 |  0 |  0 | \n",
       "| misc.forsale |  1 |  2 |  0 |  1 |  1 | 13 | 30 | 0  |  9 |  3 |  8 |  2 | 11 | 4  | 2  | 0  |  4 |  0 |  4 |  2 | \n",
       "| rec.autos |  6 | 10 |  0 |  0 | 11 | 10 |  8 | 6  |  1 |  4 |  3 |  4 |  6 | 2  | 0  | 0  |  0 |  1 |  3 | 26 | \n",
       "| rec.motorcycles | 14 |  5 |  0 |  2 | 19 |  6 |  0 | 6  |  4 |  7 |  4 | 10 | 16 | 3  | 0  | 0  |  0 |  2 |  1 |  2 | \n",
       "| rec.sport.baseball | 10 |  5 |  0 |  2 |  6 | 11 |  2 | 9  |  6 |  2 |  2 | 22 |  7 | 1  | 0  | 0  |  0 | 14 |  0 |  0 | \n",
       "| rec.sport.hockey |  9 |  2 |  0 |  1 |  6 |  8 |  1 | 1  |  6 |  3 |  3 | 29 | 16 | 2  | 0  | 0  |  0 | 13 |  0 |  0 | \n",
       "| sci.crypt |  4 | 18 |  0 |  2 |  6 |  4 | 11 | 3  |  9 |  7 |  6 |  7 |  5 | 7  | 4  | 3  |  0 |  3 |  0 |  0 | \n",
       "| sci.electronics | 10 | 10 |  0 |  0 | 10 |  7 |  3 | 8  |  3 | 19 |  7 |  5 |  7 | 5  | 1  | 2  |  0 |  1 |  2 |  1 | \n",
       "| sci.med | 11 | 20 |  0 |  2 | 14 |  4 |  3 | 6  |  6 | 11 |  5 |  2 | 11 | 3  | 2  | 0  |  0 |  0 |  0 |  0 | \n",
       "| sci.space | 14 | 11 |  0 |  0 |  7 |  5 |  3 | 9  |  5 |  9 |  5 |  6 | 13 | 3  | 7  | 0  |  0 |  3 |  0 |  0 | \n",
       "| soc.religion.christian |  4 |  3 | 17 | 22 |  6 |  7 |  3 | 1  | 27 |  3 |  0 |  6 |  0 | 1  | 0  | 0  |  0 |  0 |  0 |  0 | \n",
       "| talk.politics.guns | 12 | 11 |  0 |  8 | 15 |  8 |  5 | 8  |  5 |  4 |  4 |  5 |  2 | 7  | 0  | 0  |  0 |  5 |  0 |  0 | \n",
       "| talk.politics.mideast |  8 | 13 |  1 | 14 | 20 |  7 |  2 | 5  |  2 |  2 |  7 |  8 |  7 | 0  | 1  | 0  |  0 |  4 |  0 |  0 | \n",
       "| talk.politics.misc | 10 | 19 |  1 | 10 |  7 |  6 | 11 | 7  |  1 |  7 |  2 |  5 |  8 | 5  | 0  | 0  |  0 |  1 |  1 |  0 | \n",
       "| talk.religion.misc |  8 | 11 |  3 | 19 | 11 |  6 |  5 | 7  |  4 |  3 |  3 |  4 | 10 | 5  | 0  | 0  |  0 |  2 |  0 |  1 | \n",
       "\n",
       "\n"
      ],
      "text/plain": [
       "                         alt.atheism comp.graphics comp.os.ms-windows.misc\n",
       "alt.atheism              11          12             8                     \n",
       "comp.graphics             3           4             0                     \n",
       "comp.os.ms-windows.misc   3           4             0                     \n",
       "comp.sys.ibm.pc.hardware  2           5             0                     \n",
       "comp.sys.mac.hardware     6           5             0                     \n",
       "comp.windows.x            3           3             0                     \n",
       "misc.forsale              1           2             0                     \n",
       "rec.autos                 6          10             0                     \n",
       "rec.motorcycles          14           5             0                     \n",
       "rec.sport.baseball       10           5             0                     \n",
       "rec.sport.hockey          9           2             0                     \n",
       "sci.crypt                 4          18             0                     \n",
       "sci.electronics          10          10             0                     \n",
       "sci.med                  11          20             0                     \n",
       "sci.space                14          11             0                     \n",
       "soc.religion.christian    4           3            17                     \n",
       "talk.politics.guns       12          11             0                     \n",
       "talk.politics.mideast     8          13             1                     \n",
       "talk.politics.misc       10          19             1                     \n",
       "talk.religion.misc        8          11             3                     \n",
       "                         comp.sys.ibm.pc.hardware comp.sys.mac.hardware\n",
       "alt.atheism              13                       17                   \n",
       "comp.graphics             2                        7                   \n",
       "comp.os.ms-windows.misc   0                        7                   \n",
       "comp.sys.ibm.pc.hardware  0                        3                   \n",
       "comp.sys.mac.hardware     0                       13                   \n",
       "comp.windows.x            1                        6                   \n",
       "misc.forsale              1                        1                   \n",
       "rec.autos                 0                       11                   \n",
       "rec.motorcycles           2                       19                   \n",
       "rec.sport.baseball        2                        6                   \n",
       "rec.sport.hockey          1                        6                   \n",
       "sci.crypt                 2                        6                   \n",
       "sci.electronics           0                       10                   \n",
       "sci.med                   2                       14                   \n",
       "sci.space                 0                        7                   \n",
       "soc.religion.christian   22                        6                   \n",
       "talk.politics.guns        8                       15                   \n",
       "talk.politics.mideast    14                       20                   \n",
       "talk.politics.misc       10                        7                   \n",
       "talk.religion.misc       19                       11                   \n",
       "                         comp.windows.x misc.forsale rec.autos rec.motorcycles\n",
       "alt.atheism               8              3           6          2             \n",
       "comp.graphics            13              7           4          3             \n",
       "comp.os.ms-windows.misc   8              4           7          6             \n",
       "comp.sys.ibm.pc.hardware 13              5           9          2             \n",
       "comp.sys.mac.hardware     9              5           5          4             \n",
       "comp.windows.x            7             11           7          9             \n",
       "misc.forsale             13             30           0          9             \n",
       "rec.autos                10              8           6          1             \n",
       "rec.motorcycles           6              0           6          4             \n",
       "rec.sport.baseball       11              2           9          6             \n",
       "rec.sport.hockey          8              1           1          6             \n",
       "sci.crypt                 4             11           3          9             \n",
       "sci.electronics           7              3           8          3             \n",
       "sci.med                   4              3           6          6             \n",
       "sci.space                 5              3           9          5             \n",
       "soc.religion.christian    7              3           1         27             \n",
       "talk.politics.guns        8              5           8          5             \n",
       "talk.politics.mideast     7              2           5          2             \n",
       "talk.politics.misc        6             11           7          1             \n",
       "talk.religion.misc        6              5           7          4             \n",
       "                         rec.sport.baseball rec.sport.hockey sci.crypt\n",
       "alt.atheism               3                  3                6       \n",
       "comp.graphics             6                 14                0       \n",
       "comp.os.ms-windows.misc   1                  9                0       \n",
       "comp.sys.ibm.pc.hardware  6                  9                1       \n",
       "comp.sys.mac.hardware    10                 11                4       \n",
       "comp.windows.x            4                  4                0       \n",
       "misc.forsale              3                  8                2       \n",
       "rec.autos                 4                  3                4       \n",
       "rec.motorcycles           7                  4               10       \n",
       "rec.sport.baseball        2                  2               22       \n",
       "rec.sport.hockey          3                  3               29       \n",
       "sci.crypt                 7                  6                7       \n",
       "sci.electronics          19                  7                5       \n",
       "sci.med                  11                  5                2       \n",
       "sci.space                 9                  5                6       \n",
       "soc.religion.christian    3                  0                6       \n",
       "talk.politics.guns        4                  4                5       \n",
       "talk.politics.mideast     2                  7                8       \n",
       "talk.politics.misc        7                  2                5       \n",
       "talk.religion.misc        3                  3                4       \n",
       "                         sci.electronics sci.med sci.space\n",
       "alt.atheism               7              0       0        \n",
       "comp.graphics            11              6       5        \n",
       "comp.os.ms-windows.misc   5              3       2        \n",
       "comp.sys.ibm.pc.hardware 11              9       2        \n",
       "comp.sys.mac.hardware     8              7       2        \n",
       "comp.windows.x            8              7       8        \n",
       "misc.forsale             11              4       2        \n",
       "rec.autos                 6              2       0        \n",
       "rec.motorcycles          16              3       0        \n",
       "rec.sport.baseball        7              1       0        \n",
       "rec.sport.hockey         16              2       0        \n",
       "sci.crypt                 5              7       4        \n",
       "sci.electronics           7              5       1        \n",
       "sci.med                  11              3       2        \n",
       "sci.space                13              3       7        \n",
       "soc.religion.christian    0              1       0        \n",
       "talk.politics.guns        2              7       0        \n",
       "talk.politics.mideast     7              0       1        \n",
       "talk.politics.misc        8              5       0        \n",
       "talk.religion.misc       10              5       0        \n",
       "                         soc.religion.christian talk.politics.guns\n",
       "alt.atheism              0                       0                \n",
       "comp.graphics            6                       5                \n",
       "comp.os.ms-windows.misc  1                      42                \n",
       "comp.sys.ibm.pc.hardware 3                       2                \n",
       "comp.sys.mac.hardware    2                       1                \n",
       "comp.windows.x           4                      17                \n",
       "misc.forsale             0                       4                \n",
       "rec.autos                0                       0                \n",
       "rec.motorcycles          0                       0                \n",
       "rec.sport.baseball       0                       0                \n",
       "rec.sport.hockey         0                       0                \n",
       "sci.crypt                3                       0                \n",
       "sci.electronics          2                       0                \n",
       "sci.med                  0                       0                \n",
       "sci.space                0                       0                \n",
       "soc.religion.christian   0                       0                \n",
       "talk.politics.guns       0                       0                \n",
       "talk.politics.mideast    0                       0                \n",
       "talk.politics.misc       0                       0                \n",
       "talk.religion.misc       0                       0                \n",
       "                         talk.politics.mideast talk.politics.misc\n",
       "alt.atheism               0                     0                \n",
       "comp.graphics             2                     1                \n",
       "comp.os.ms-windows.misc   1                     1                \n",
       "comp.sys.ibm.pc.hardware  0                    20                \n",
       "comp.sys.mac.hardware     0                    10                \n",
       "comp.windows.x            1                     0                \n",
       "misc.forsale              0                     4                \n",
       "rec.autos                 1                     3                \n",
       "rec.motorcycles           2                     1                \n",
       "rec.sport.baseball       14                     0                \n",
       "rec.sport.hockey         13                     0                \n",
       "sci.crypt                 3                     0                \n",
       "sci.electronics           1                     2                \n",
       "sci.med                   0                     0                \n",
       "sci.space                 3                     0                \n",
       "soc.religion.christian    0                     0                \n",
       "talk.politics.guns        5                     0                \n",
       "talk.politics.mideast     4                     0                \n",
       "talk.politics.misc        1                     1                \n",
       "talk.religion.misc        2                     0                \n",
       "                         talk.religion.misc\n",
       "alt.atheism               0                \n",
       "comp.graphics             0                \n",
       "comp.os.ms-windows.misc   0                \n",
       "comp.sys.ibm.pc.hardware  0                \n",
       "comp.sys.mac.hardware     0                \n",
       "comp.windows.x            0                \n",
       "misc.forsale              2                \n",
       "rec.autos                26                \n",
       "rec.motorcycles           2                \n",
       "rec.sport.baseball        0                \n",
       "rec.sport.hockey          0                \n",
       "sci.crypt                 0                \n",
       "sci.electronics           1                \n",
       "sci.med                   0                \n",
       "sci.space                 0                \n",
       "soc.religion.christian    0                \n",
       "talk.politics.guns        0                \n",
       "talk.politics.mideast     0                \n",
       "talk.politics.misc        0                \n",
       "talk.religion.misc        1                "
      ]
     },
     "metadata": {},
     "output_type": "display_data"
    }
   ],
   "source": [
    "final"
   ]
  },
  {
   "cell_type": "code",
   "execution_count": 82,
   "metadata": {},
   "outputs": [
    {
     "data": {
      "image/png": "[encoded data removed]",
      "text/plain": [
       "plot without title"
      ]
     },
     "metadata": {},
     "output_type": "display_data",
     "source": "R display func"
    }
   ],
   "source": [
    "heatmap(final)"
   ]
  },
  {
   "cell_type": "code",
   "execution_count": 44,
   "metadata": {},
   "outputs": [],
   "source": [
    "library(dplyr)\n",
    "cluster_result_df <- as.data.frame(clustering_result)"
   ]
  },
  {
   "cell_type": "code",
   "execution_count": 45,
   "metadata": {},
   "outputs": [
    {
     "data": {
      "image/png": "[encoded data removed]",
      "text/plain": [
       "Plot with title “CLUSPLOT( as.matrix(dtms) )”"
      ]
     },
     "metadata": {},
     "output_type": "display_data",
     "source": "R display func"
    }
   ],
   "source": [
    "clusplot(as.matrix(dtms), kfit$cluster, color=T, shade=T, labels=0, lines=0)"
   ]
  },
  {
   "cell_type": "code",
   "execution_count": null,
   "metadata": {},
   "outputs": [],
   "source": [
    "cluster_result_df <- as.data.frame(clustering_result)\n",
    "counts <- matrix(,nrow = length(groups), ncol = k)\n",
    "\n",
    "i <- 1\n",
    "#for (group in unique(groups)) {\n",
    "#    #print(group)\n",
    "#    for (cluster in seq(k)) {\n",
    "#        print( sum(cluster_result_df$clustering == cluster & cluster_result_df$groups == group) )\n",
    "#    }\n",
    "#    #i <- i + 1\n",
    "#}"
   ]
  },
  {
   "cell_type": "code",
   "execution_count": null,
   "metadata": {},
   "outputs": [],
   "source": []
  },
  {
   "cell_type": "code",
   "execution_count": null,
   "metadata": {},
   "outputs": [],
   "source": []
  }
 ],
 "metadata": {
  "kernelspec": {
   "display_name": "R",
   "language": "R",
   "name": "ir"
  },
  "language_info": {
   "codemirror_mode": "r",
   "file_extension": ".r",
   "mimetype": "text/x-r-source",
   "name": "R",
   "pygments_lexer": "r",
   "version": "3.3.2"
  }
 },
 "nbformat": 4,
 "nbformat_minor": 2
}
