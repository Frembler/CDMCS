{
 "cells": [
  {
   "cell_type": "markdown",
   "metadata": {},
   "source": [
    "# Distance function basics\n",
    "\n",
    "* Metrics measure distance between two items\n",
    "* Norms measure size of something\n",
    "\n",
    "## Eucledian distance\n",
    "\n",
    "The most basic distance function in vector space, based on Pythagorean Theorem. $$d = \\sqrt{(x_2 - x_1)^2 + (y_2 - y_1)^2}$$"
   ]
  },
  {
   "cell_type": "code",
   "execution_count": 4,
   "metadata": {},
   "outputs": [
    {
     "name": "stdout",
     "output_type": "stream",
     "text": [
      "  x y\n",
      "A 1 2\n",
      "B 5 9\n",
      "[1] 8.062258\n"
     ]
    }
   ],
   "source": [
    "A <- c(1,2)\n",
    "B <- c(5,9)\n",
    "dims <- c(\"x\", \"y\")\n",
    "\n",
    "m <- rbind(A, B)\n",
    "colnames(m) <- dims\n",
    "print(m)\n",
    "\n",
    "d <- sqrt((5-1)^2 + (9-2)^2)\n",
    "print(d)"
   ]
  },
  {
   "cell_type": "markdown",
   "metadata": {},
   "source": [
    "When applied to 3-dimensional space, the distance can be calculated as such:\n",
    "\n",
    "$$d = \\sqrt{(x_2 - x_1)^2 + (y_2 - y_1)^2 + (z_2 - z_1)^2}$$\n",
    "\n",
    "Thus, generalized formula for eucledian discance in N-dimensional space can be defined as follows\n",
    "\n",
    "$$ d(a, b) = \\sqrt{\\sum_{i=1}^{n} (a_i - b_i)^2} $$\n",
    "\n",
    "When implemented in R, the code should look something like this -"
   ]
  },
  {
   "cell_type": "code",
   "execution_count": 5,
   "metadata": {},
   "outputs": [],
   "source": [
    "myEucledian <- function(A, B) {\n",
    "  sum <- 0\n",
    "  for(i in seq(along=A)) {\n",
    "    sum <- sum + (A[i] - B[i])^2\n",
    "  }\n",
    "  return(sqrt(sum))\n",
    "}"
   ]
  },
  {
   "cell_type": "markdown",
   "metadata": {},
   "source": [
    ">Note that all examples in this file, such as the one above, are horribly bad because for loops in R are bad (and the author should feel bad)."
   ]
  },
  {
   "cell_type": "code",
   "execution_count": 6,
   "metadata": {
    "scrolled": true
   },
   "outputs": [
    {
     "name": "stdout",
     "output_type": "stream",
     "text": [
      "[1] 8.062258\n"
     ]
    }
   ],
   "source": [
    "d <- myEucledian(A, B)\n",
    "print(d)"
   ]
  },
  {
   "cell_type": "code",
   "execution_count": 16,
   "metadata": {},
   "outputs": [
    {
     "name": "stdout",
     "output_type": "stream",
     "text": [
      "  x y z\n",
      "A 2 7 4\n",
      "B 3 4 5\n",
      "[1] 3.316625\n"
     ]
    }
   ],
   "source": [
    "A <- c(2,7,4)\n",
    "B <- c(3,4,5)\n",
    "dims <- c(\"x\", \"y\", \"z\")\n",
    "\n",
    "m <- rbind(A, B)\n",
    "colnames(m) <- dims\n",
    "print(m)\n",
    "\n",
    "d <- myEucledian(A, B)\n",
    "print(d)"
   ]
  },
  {
   "cell_type": "markdown",
   "metadata": {},
   "source": [
    "## Manhattan distance\n",
    "\n",
    "Sometimes the most direct path from point A to point B is not a straight line. Think taxycab that has to drive around buildings.\n",
    "\n",
    "$$ d(a, b) = \\sum_{i=1}^{n} \\lvert a_i - b_i \\lvert $$"
   ]
  },
  {
   "cell_type": "code",
   "execution_count": 17,
   "metadata": {},
   "outputs": [],
   "source": [
    "myManhattan <- function(A, B) {\n",
    "  sum <- 0\n",
    "  for(i in seq(along=A)) {\n",
    "    sum <- sum + abs(A[i] - B[i])\n",
    "  }\n",
    "  return(sum)\n",
    "}"
   ]
  },
  {
   "cell_type": "code",
   "execution_count": 18,
   "metadata": {},
   "outputs": [
    {
     "name": "stdout",
     "output_type": "stream",
     "text": [
      "[1] 5\n"
     ]
    }
   ],
   "source": [
    "d <- myManhattan(A, B)\n",
    "print(d)"
   ]
  },
  {
   "cell_type": "markdown",
   "metadata": {},
   "source": [
    "## Chebyshev distance\n",
    "\n",
    "Also known as \"chessboard distance\" where distance between two points is the greatest possible move size. Think chessboard where pieces can jump in any direction but moveset is limited.\n",
    "\n",
    "$$ d(a, b) = \\lim(\\sum_{i=1}^{n}\\lvert a_i - b_i \\lvert^k)^{1/k} $$\n",
    "\n",
    "$$ d(a, b) = max_i(\\lvert  a_i - b_i \\lvert) $$\n",
    "\n",
    "Given two 3-dimensional vectors, the distance can be calculated as such\n",
    "\n",
    "$$ d = max(\\lvert x_2 - x_1 \\lvert, \\lvert y_2 - y_1 \\lvert, \\lvert z_2 - z_1 \\lvert) $$"
   ]
  },
  {
   "cell_type": "code",
   "execution_count": 36,
   "metadata": {},
   "outputs": [
    {
     "name": "stdout",
     "output_type": "stream",
     "text": [
      "  x y z\n",
      "A 2 7 4\n",
      "B 3 4 5\n",
      "[1] 3\n"
     ]
    }
   ],
   "source": [
    "print(m)\n",
    "d <- max( abs(3 - 2), abs(4 - 7), abs(5 - 4) )\n",
    "print(d)"
   ]
  },
  {
   "cell_type": "code",
   "execution_count": 37,
   "metadata": {},
   "outputs": [
    {
     "name": "stdout",
     "output_type": "stream",
     "text": [
      "[1] 0\n"
     ]
    }
   ],
   "source": [
    "# implement your own R function here\n",
    "myCheb <- function(A, B) {\n",
    "    dist <- 0\n",
    "    return(dist)\n",
    "}\n",
    "\n",
    "d <- myCheb(A, B)\n",
    "print(d)"
   ]
  },
  {
   "cell_type": "markdown",
   "metadata": {},
   "source": [
    "## Canberra distance\n",
    "\n",
    "Canberra distance is a weighted version of Manhattan distance, often used for comparing ranked lists.\n",
    "\n",
    "$$ d = \\sum_{i=1}^{n} \\frac{\\lvert x_i - y_i \\lvert}{\\lvert x_i \\lvert + \\lvert y_i \\lvert} $$"
   ]
  },
  {
   "cell_type": "code",
   "execution_count": null,
   "metadata": {},
   "outputs": [],
   "source": []
  },
  {
   "cell_type": "code",
   "execution_count": null,
   "metadata": {},
   "outputs": [],
   "source": []
  }
 ],
 "metadata": {
  "kernelspec": {
   "display_name": "R",
   "language": "R",
   "name": "ir"
  },
  "language_info": {
   "codemirror_mode": "r",
   "file_extension": ".r",
   "mimetype": "text/x-r-source",
   "name": "R",
   "pygments_lexer": "r",
   "version": "3.3.2"
  }
 },
 "nbformat": 4,
 "nbformat_minor": 2
}
