{
 "cells": [
  {
   "cell_type": "markdown",
   "metadata": {},
   "source": [
    "# Distance function basics\n",
    "\n",
    "* Metrics measure distance between two items\n",
    "* Norms measure size of something\n",
    "\n",
    "## Eucledian distance\n",
    "\n",
    "The most basic distance function in vector space, based on Pythagorean Theorem. $$d = \\sqrt{(x_2 - x_1)^2 + (y_2 - y_1)^2}$$"
   ]
  },
  {
   "cell_type": "code",
   "execution_count": 4,
   "metadata": {},
   "outputs": [
    {
     "name": "stdout",
     "output_type": "stream",
     "text": [
      "  x y\n",
      "A 1 2\n",
      "B 5 9\n",
      "[1] 8.062258\n"
     ]
    }
   ],
   "source": [
    "A <- c(1,2)\n",
    "B <- c(5,9)\n",
    "dims <- c(\"x\", \"y\")\n",
    "\n",
    "m <- rbind(A, B)\n",
    "colnames(m) <- dims\n",
    "print(m)\n",
    "\n",
    "d <- sqrt((5-1)^2 + (9-2)^2)\n",
    "print(d)"
   ]
  },
  {
   "cell_type": "markdown",
   "metadata": {},
   "source": [
    "When applied to 3-dimensional space, the distance can be calculated as such:\n",
    "\n",
    "$$d = \\sqrt{(x_2 - x_1)^2 + (y_2 - y_1)^2 + (z_2 - z_1)^2}$$\n",
    "\n",
    "Thus, generalized formula for eucledian discance in N-dimensional space can be defined as follows\n",
    "\n",
    "$$ d(a, b) = \\sqrt{\\sum_{i=1}^{n} (a_i - b_i)^2} $$\n",
    "\n",
    "When implemented in R, the code should look something like this -"
   ]
  },
  {
   "cell_type": "code",
   "execution_count": 5,
   "metadata": {},
   "outputs": [],
   "source": [
    "myEucledian <- function(A, B) {\n",
    "  sum <- 0\n",
    "  for(i in seq(along=A)) {\n",
    "    sum <- sum + (A[i] - B[i])^2\n",
    "  }\n",
    "  return(sqrt(sum))\n",
    "}"
   ]
  },
  {
   "cell_type": "markdown",
   "metadata": {},
   "source": [
    ">Note that all examples in this file, such as the one above, are horribly bad because for loops in R are bad (and the author should feel bad)."
   ]
  },
  {
   "cell_type": "code",
   "execution_count": 6,
   "metadata": {
    "scrolled": true
   },
   "outputs": [
    {
     "name": "stdout",
     "output_type": "stream",
     "text": [
      "[1] 8.062258\n"
     ]
    }
   ],
   "source": [
    "d <- myEucledian(A, B)\n",
    "print(d)"
   ]
  },
  {
   "cell_type": "code",
   "execution_count": 16,
   "metadata": {},
   "outputs": [
    {
     "name": "stdout",
     "output_type": "stream",
     "text": [
      "  x y z\n",
      "A 2 7 4\n",
      "B 3 4 5\n",
      "[1] 3.316625\n"
     ]
    }
   ],
   "source": [
    "A <- c(2,7,4)\n",
    "B <- c(3,4,5)\n",
    "dims <- c(\"x\", \"y\", \"z\")\n",
    "\n",
    "m <- rbind(A, B)\n",
    "colnames(m) <- dims\n",
    "print(m)\n",
    "\n",
    "d <- myEucledian(A, B)\n",
    "print(d)"
   ]
  },
  {
   "cell_type": "markdown",
   "metadata": {},
   "source": [
    "## Manhattan distance\n",
    "\n",
    "Sometimes the most direct path from point A to point B is not a straight line. Think taxycab that has to drive around buildings.\n",
    "\n",
    "$$ d(a, b) = \\sum_{i=1}^{n} \\lvert a_i - b_i \\lvert $$"
   ]
  },
  {
   "cell_type": "code",
   "execution_count": 17,
   "metadata": {},
   "outputs": [],
   "source": [
    "myManhattan <- function(A, B) {\n",
    "  sum <- 0\n",
    "  for(i in seq(along=A)) {\n",
    "    sum <- sum + abs(A[i] - B[i])\n",
    "  }\n",
    "  return(sum)\n",
    "}"
   ]
  },
  {
   "cell_type": "code",
   "execution_count": 18,
   "metadata": {},
   "outputs": [
    {
     "name": "stdout",
     "output_type": "stream",
     "text": [
      "[1] 5\n"
     ]
    }
   ],
   "source": [
    "d <- myManhattan(A, B)\n",
    "print(d)"
   ]
  },
  {
   "cell_type": "markdown",
   "metadata": {},
   "source": [
    "## Chebyshev distance\n",
    "\n",
    "Also known as \"chessboard distance\" where distance between two points is the greatest possible move size. Think chessboard where pieces can jump in any direction but moveset is limited.\n",
    "\n",
    "$$ d(a, b) = \\lim(\\sum_{i=1}^{n}\\lvert a_i - b_i \\lvert^k)^{1/k} $$\n",
    "\n",
    "$$ d(a, b) = max_i(\\lvert  a_i - b_i \\lvert) $$\n",
    "\n",
    "Given two 3-dimensional vectors, the distance can be calculated as such\n",
    "\n",
    "$$ d = max(\\lvert x_2 - x_1 \\lvert, \\lvert y_2 - y_1 \\lvert, \\lvert z_2 - z_1 \\lvert) $$"
   ]
  },
  {
   "cell_type": "code",
   "execution_count": 36,
   "metadata": {},
   "outputs": [
    {
     "name": "stdout",
     "output_type": "stream",
     "text": [
      "  x y z\n",
      "A 2 7 4\n",
      "B 3 4 5\n",
      "[1] 3\n"
     ]
    }
   ],
   "source": [
    "print(m)\n",
    "d <- max( abs(3 - 2), abs(4 - 7), abs(5 - 4) )\n",
    "print(d)"
   ]
  },
  {
   "cell_type": "code",
   "execution_count": 37,
   "metadata": {},
   "outputs": [
    {
     "name": "stdout",
     "output_type": "stream",
     "text": [
      "[1] 0\n"
     ]
    }
   ],
   "source": [
    "# implement your own R function here\n",
    "myCheb <- function(A, B) {\n",
    "    dist <- 0\n",
    "    return(dist)\n",
    "}\n",
    "\n",
    "d <- myCheb(A, B)\n",
    "print(d)"
   ]
  },
  {
   "cell_type": "markdown",
   "metadata": {},
   "source": [
    "## Canberra distance\n",
    "\n",
    "Canberra distance is a weighted version of Manhattan distance, often used for comparing ranked lists. Distance between Canberra and Sydney might be significant for an Estonian but not for locals who are used to vast distances between cities.\n",
    "\n",
    "$$ d(a, b) = \\sum_{i=1}^{n} \\frac{\\lvert a_i - b_i \\lvert}{\\lvert a_i \\lvert + \\lvert b_i \\lvert} $$"
   ]
  },
  {
   "cell_type": "code",
   "execution_count": 41,
   "metadata": {},
   "outputs": [
    {
     "name": "stdout",
     "output_type": "stream",
     "text": [
      "[1] 0.5838384\n"
     ]
    }
   ],
   "source": [
    "d <- sum( ( abs(3 - 2) / ( abs(3) + abs(2) ) ), ( abs(4 - 7) / ( abs(4) + abs(7) ) ), ( abs(5 - 4) / ( abs(5) + abs(4)) ) )\n",
    "print(d)"
   ]
  },
  {
   "cell_type": "code",
   "execution_count": 44,
   "metadata": {},
   "outputs": [
    {
     "name": "stdout",
     "output_type": "stream",
     "text": [
      "[1] 0\n"
     ]
    }
   ],
   "source": [
    "# implement your own R function here\n",
    "myCanberra <- function(A, B) {\n",
    "    dist <- 0\n",
    "    return(dist)\n",
    "}\n",
    "\n",
    "d <- myCanberra(A, B)\n",
    "print(d)"
   ]
  },
  {
   "cell_type": "markdown",
   "metadata": {},
   "source": [
    "## Mahalanobis distance\n",
    "\n",
    "Mahalanobis distance measures the distance between a point P and distribution D, essentially showing how many standard deviations a point differs from mean in multidimensional space. This idea can be used to measure dissimilarity between two vectors within the same distribution.\n",
    "\n",
    "$$ d(a, b) = \\sqrt{(a - b)^T COV^{-1} (a - b)} $$\n",
    "\n",
    "Note that $COV^{-1}$ stands for inverse covariance matrix of all points withing background distribution. For example, lets assume that points A and B belong to random 3-dimensional standard distribution D that comprises of 100 data points."
   ]
  },
  {
   "cell_type": "code",
   "execution_count": 55,
   "metadata": {},
   "outputs": [
    {
     "name": "stdout",
     "output_type": "stream",
     "text": [
      "           [,1]       [,2]      [,3]\n",
      "[1,] -4.4343376  0.7124866 -5.609467\n",
      "[2,]  1.1815045  1.9585748  1.780719\n",
      "[3,] -5.6168014  3.8287208 -1.235574\n",
      "[4,]  6.3211163 -1.5551644  3.084430\n",
      "[5,] -0.5977857  3.4636118 -2.650562\n",
      "[6,] -3.4372185 -9.2523566 -0.297560\n"
     ]
    }
   ],
   "source": [
    "N = 3\n",
    "M = 100\n",
    "D <- matrix( rnorm(M*N,mean=0,sd=5), M, N)\n",
    "print(head(D))"
   ]
  },
  {
   "cell_type": "markdown",
   "metadata": {},
   "source": [
    "We can then calculate the inverse covariance matrix."
   ]
  },
  {
   "cell_type": "code",
   "execution_count": 62,
   "metadata": {},
   "outputs": [
    {
     "name": "stdout",
     "output_type": "stream",
     "text": [
      "           [,1]      [,2]       [,3]\n",
      "[1,] 19.9259073 -1.021957  0.5742338\n",
      "[2,] -1.0219571 25.201937  2.7458520\n",
      "[3,]  0.5742338  2.745852 18.0060311\n",
      "             [,1]         [,2]         [,3]\n",
      "[1,]  0.050357737  0.002254478 -0.001949768\n",
      "[2,]  0.002254478  0.040450837 -0.006240499\n",
      "[3,] -0.001949768 -0.006240499  0.056550780\n"
     ]
    }
   ],
   "source": [
    "COV <- cov( D )\n",
    "invCOV <- solve( COV )\n",
    "print(COV)\n",
    "print(invCOV)"
   ]
  },
  {
   "cell_type": "code",
   "execution_count": 64,
   "metadata": {},
   "outputs": [],
   "source": [
    "# myMahal(c(1,2), c(2,3), solve(cov(matr)))\n",
    "myMahal <- function(A, B, invCOV) {\n",
    "  diff = A - B\n",
    "  dist = sqrt( t(diff) %*% invCOV %*% diff )\n",
    "  return(dist)\n",
    "}"
   ]
  },
  {
   "cell_type": "code",
   "execution_count": 63,
   "metadata": {},
   "outputs": [
    {
     "name": "stdout",
     "output_type": "stream",
     "text": [
      "          [,1]\n",
      "[1,] 0.7007015\n"
     ]
    }
   ],
   "source": [
    "d <- myMahal(A, B, invCOV)\n",
    "print(d)"
   ]
  },
  {
   "cell_type": "markdown",
   "metadata": {},
   "source": [
    "Note that we have to multiply the transpose of deriviative, in addition to deriviative itself. Luckily R makes transpose operation very simple to use."
   ]
  },
  {
   "cell_type": "code",
   "execution_count": 74,
   "metadata": {},
   "outputs": [
    {
     "name": "stdout",
     "output_type": "stream",
     "text": [
      "  x y z\n",
      "A 2 7 4\n",
      "B 3 4 5\n"
     ]
    }
   ],
   "source": [
    "print(m)"
   ]
  },
  {
   "cell_type": "code",
   "execution_count": 75,
   "metadata": {},
   "outputs": [
    {
     "name": "stdout",
     "output_type": "stream",
     "text": [
      "  A B\n",
      "x 2 3\n",
      "y 7 4\n",
      "z 4 5\n"
     ]
    }
   ],
   "source": [
    "print(t(m))"
   ]
  },
  {
   "cell_type": "markdown",
   "metadata": {},
   "source": [
    "## Cosine distance\n",
    "\n",
    "Prior distance measures are primarily designed for working in numerical vector spaces. However, this does not translate well into text data mining applications where "
   ]
  },
  {
   "cell_type": "code",
   "execution_count": null,
   "metadata": {},
   "outputs": [],
   "source": []
  }
 ],
 "metadata": {
  "kernelspec": {
   "display_name": "R",
   "language": "R",
   "name": "ir"
  },
  "language_info": {
   "codemirror_mode": "r",
   "file_extension": ".r",
   "mimetype": "text/x-r-source",
   "name": "R",
   "pygments_lexer": "r",
   "version": "3.3.2"
  }
 },
 "nbformat": 4,
 "nbformat_minor": 2
}
