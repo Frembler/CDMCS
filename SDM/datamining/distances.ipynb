{
 "cells": [
  {
   "cell_type": "markdown",
   "metadata": {},
   "source": [
    "# Distance function basics\n",
    "\n",
    "* Metrics measure distance between two items\n",
    "* Norms measure size of something\n",
    "\n",
    "## Eucledian distance\n",
    "\n",
    "The most basic distance function in vector space, based on Pythagorean Theorem. $$d = \\sqrt{(x_2 - x_1)^2 + (y_2 - y_1)^2}$$"
   ]
  },
  {
   "cell_type": "code",
   "execution_count": 34,
   "metadata": {},
   "outputs": [
    {
     "name": "stdout",
     "output_type": "stream",
     "text": [
      "   x y\n",
      "e1 1 2\n",
      "e2 5 9\n",
      "[1] 8.062258\n"
     ]
    }
   ],
   "source": [
    "e1 <- c(1,2)\n",
    "e2 <- c(5,9)\n",
    "dims <- c(\"x\", \"y\")\n",
    "\n",
    "m <- rbind(e1, e2)\n",
    "colnames(m) <- dims\n",
    "print(m)\n",
    "\n",
    "d <- sqrt((5-1)^2 + (9-2)^2)\n",
    "print(d)"
   ]
  },
  {
   "cell_type": "markdown",
   "metadata": {},
   "source": [
    "When applied to 3-dimensional space, the distance can be calculated as such:\n",
    "$$d = \\sqrt{(x_2 - x_1)^2 + (y_2 - y_1)^2 + (z_2 - z_1)^2}$$\n",
    "Thus, generalized formula for eucledian discance in N-dimensional space can be defined as follows\n",
    "$$ d = \\sqrt{\\sum_{i=1}^{n} (x_i - y_i)^2} $$\n",
    "When implemented in R, the code should look something like this -"
   ]
  },
  {
   "cell_type": "code",
   "execution_count": 6,
   "metadata": {},
   "outputs": [],
   "source": [
    "myEucledian <- function(e1, e2) {\n",
    "  sum <- 0\n",
    "  for(i in seq(along=e1)) {\n",
    "    sum <- sum + (e1[i] - e2[i])^2\n",
    "  }\n",
    "  return(sqrt(sum))\n",
    "}"
   ]
  },
  {
   "cell_type": "markdown",
   "metadata": {},
   "source": [
    ">Note that all examples in this file, such as the one above, are horribly bad because for loops on R are bad (and the author should feel bad)."
   ]
  },
  {
   "cell_type": "code",
   "execution_count": 35,
   "metadata": {
    "scrolled": true
   },
   "outputs": [
    {
     "name": "stdout",
     "output_type": "stream",
     "text": [
      "[1] 8.062258\n"
     ]
    }
   ],
   "source": [
    "d <- myEucledian(e1, e2)\n",
    "print(d)"
   ]
  },
  {
   "cell_type": "code",
   "execution_count": 41,
   "metadata": {},
   "outputs": [
    {
     "name": "stdout",
     "output_type": "stream",
     "text": [
      "   x y z\n",
      "e1 2 3 4\n",
      "e2 3 4 5\n",
      "[1] 1.732051\n"
     ]
    }
   ],
   "source": [
    "e1 <- c(2,3,4)\n",
    "e2 <- c(3,4,5)\n",
    "dims <- c(\"x\", \"y\", \"z\")\n",
    "\n",
    "m <- rbind(e1, e2)\n",
    "colnames(m) <- dims\n",
    "print(m)\n",
    "\n",
    "d <- myEucledian(e1, e2)\n",
    "print(d)"
   ]
  },
  {
   "cell_type": "code",
   "execution_count": null,
   "metadata": {},
   "outputs": [],
   "source": []
  }
 ],
 "metadata": {
  "kernelspec": {
   "display_name": "R",
   "language": "R",
   "name": "ir"
  },
  "language_info": {
   "codemirror_mode": "r",
   "file_extension": ".r",
   "mimetype": "text/x-r-source",
   "name": "R",
   "pygments_lexer": "r",
   "version": "3.3.2"
  }
 },
 "nbformat": 4,
 "nbformat_minor": 2
}
