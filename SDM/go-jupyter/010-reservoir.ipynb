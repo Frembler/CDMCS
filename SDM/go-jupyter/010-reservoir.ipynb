{
 "cells": [
  {
   "cell_type": "markdown",
   "metadata": {},
   "source": [
    "# Reservoir sampling\n",
    "\n",
    "Reservoir sampling is a method for maintaining an in-memory pool of k items while ensuring that each new item ecountered in data stream has a fair chance of being added into the pool.\n",
    "\n",
    "For that purpose, a counter of seen items is kept in memory. All new items will be added to the reservoir until it reaches maximum capacity. After that, each new item has a chance $\\frac{k}{N_i}$ for being added into the reservoir, where $N_i$ is the current count of total number of items seen. If new element is added, then it replaces a random item in the reservoir.\n",
    "\n",
    "Standard batch data mining methods can then be applied on reservoir at any time with no modifications needed for stream setting."
   ]
  },
  {
   "cell_type": "code",
   "execution_count": 110,
   "metadata": {},
   "outputs": [],
   "source": [
    "//package main\n",
    "\n",
    "import (\n",
    "\t\"math/rand\"\n",
    ")\n",
    "\n",
    "// Reservoir implements simple reservoir filter\n",
    "type Reservoir struct {\n",
    "\tk        int\n",
    "\ttotal    uint64\n",
    "\tswitches uint64\n",
    "\tsample   []interface{}\n",
    "}\n",
    "\n",
    "// InitReservoir instantiates new Reservoir struct\n",
    "func InitReservoir(k int) (r *Reservoir, err error) {\n",
    "\tr = &Reservoir{\n",
    "\t\tk:        k,\n",
    "\t\ttotal:    0,\n",
    "\t\tswitches: 0,\n",
    "\t\tsample:   make([]interface{}, k),\n",
    "\t}\n",
    "\treturn r, nil\n",
    "}\n",
    "\n",
    "// Add new item to reservoir\n",
    "func (r *Reservoir) Add(item interface{}) *Reservoir {\n",
    "\tr.total++\n",
    "\tif len(r.sample) < r.k {\n",
    "\t\tr.sample = append(r.sample, item)\n",
    "\t} else {\n",
    "\t\tif rand.Float64() < (float64(r.k) / float64(r.total)) {\n",
    "\t\t\tr.sample[rand.Intn(r.k)] = item\n",
    "\t\t\tr.switches++\n",
    "\t\t}\n",
    "\t}\n",
    "\treturn r\n",
    "}\n",
    "\n",
    "// GetSample is a helper to return size of sampled data\n",
    "func (r *Reservoir) GetSample() []interface{} {\n",
    "\treturn r.sample\n",
    "}\n",
    "\n",
    "// GetK is a helper to return all sampled values\n",
    "func (r *Reservoir) GetK() int {\n",
    "\treturn r.k\n",
    "}\n",
    "\n",
    "// GetTotal is a helper to return number of items seen\n",
    "func (r *Reservoir) GetTotal() uint64 {\n",
    "\treturn r.total\n",
    "}\n",
    "\n",
    "// GetSwitches is a helper to return number of items seen\n",
    "func (r *Reservoir) GetSwitches() uint64 {\n",
    "\treturn r.switches\n",
    "}"
   ]
  },
  {
   "cell_type": "code",
   "execution_count": 111,
   "metadata": {},
   "outputs": [],
   "source": [
    "import (\n",
    "    \"os\"\n",
    "    \"bufio\"\n",
    "    \"fmt\"\n",
    "    \"strings\"\n",
    ")\n",
    "func readLine(path string, k int) []interface{} {\n",
    "    reservoir, _ := InitReservoir(k)\n",
    "    \n",
    "    inFile, _ := os.Open(path)\n",
    "    defer inFile.Close()\n",
    "    scanner := bufio.NewScanner(inFile)\n",
    "    scanner.Split(bufio.ScanLines)\n",
    "    \n",
    "    for scanner.Scan() {\n",
    "        words := strings.Split(scanner.Text(), \" \")\n",
    "        for _, word := range words {\n",
    "            reservoir.Add(word)\n",
    "        }\n",
    "    }\n",
    "    return reservoir.GetSample()\n",
    "}"
   ]
  },
  {
   "cell_type": "code",
   "execution_count": 114,
   "metadata": {},
   "outputs": [],
   "source": [
    "src := \"/home/jovyan/data/SDM/logs/apache-short.log\"\n",
    "// trivial and useless example\n",
    "k := 15\n",
    "finalSample := readLine(src, k)"
   ]
  },
  {
   "cell_type": "code",
   "execution_count": 115,
   "metadata": {},
   "outputs": [
    {
     "name": "stdout",
     "output_type": "stream",
     "text": [
      "44.19.216.236\n",
      "(KHTML,\n",
      "NT\n",
      "\"http://www.patel.org/post.asp\"\n",
      "Safari/5340\"\n",
      "/wp-admin\n",
      "Linux\n",
      "\"Mozilla/5.0\n",
      "(Macintosh;\n",
      "<nil>\n",
      "85.83.140.71\n",
      "(Windows\n",
      "4961\n",
      "200\n",
      "95)\n"
     ]
    }
   ],
   "source": [
    "for _, item := range finalSample {\n",
    "    fmt.Println(item)\n",
    "}"
   ]
  },
  {
   "cell_type": "markdown",
   "metadata": {},
   "source": [
    "Note that example code does not consider the possiblity that new item is already in reservoir."
   ]
  },
  {
   "cell_type": "code",
   "execution_count": null,
   "metadata": {},
   "outputs": [],
   "source": []
  }
 ],
 "metadata": {
  "kernelspec": {
   "display_name": "Go (lgo)",
   "language": "go",
   "name": "lgo"
  },
  "language_info": {
   "file_extension": "",
   "mimetype": "",
   "name": "go",
   "version": ""
  }
 },
 "nbformat": 4,
 "nbformat_minor": 2
}
