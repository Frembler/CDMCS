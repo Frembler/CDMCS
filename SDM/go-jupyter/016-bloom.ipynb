{
 "cells": [
  {
   "cell_type": "markdown",
   "metadata": {},
   "source": [
    "# Bloom filters\n",
    "\n",
    "> Keep items in memory without actually keeping them in memory.\n",
    "\n",
    "Bloom filter is a lightweight unidirectional data structure to estimate weather or not a new item in stream has previously been seen or not. Entire needed memory is allocated during bloom filter initiation and therefore memory usage will remain contant upon encountering new items in stream.\n",
    "\n",
    "Idea is simple - we will initiate a bit vector of length $m$ and items in data stream will be hashed into integer values and respective bit in vector will be flipped to TRUE. Since this approach will induce hash collisions, we will use multiple distinct hash functions to hash $k$ bits, where $k$ is equal to total number of distinct hash functions. We can then query our structure by hashing an element with $k$ chosen functions and only if all resulting bitvector locations are TRUE, can we estimate that item has been seen before in the stream.\n",
    "\n",
    "Since the data structure is designed to handle collisions, then it is ideal to use fast non-cryptographic hash functions. Murmur3 is a popular choice as we can actually derive any number of distinct integer hashes from two distinct base hashes. Since murmur3 outputs 128bit hashes in two 64bit parts, then we can simply use this as base hash and generate any number of distinct hash values by using the transformation method below.\n",
    "\n",
    "* https://www.eecs.harvard.edu/~michaelm/postscripts/rsa2008.pdf"
   ]
  },
  {
   "cell_type": "code",
   "execution_count": 18,
   "metadata": {},
   "outputs": [],
   "source": [
    "import(\n",
    "    \"github.com/spaolacci/murmur3\"\n",
    ")\n",
    "\n",
    "func string2hash(data string) [2]uint64 {\n",
    "    return hasher([]byte(data))\n",
    "}\n",
    "\n",
    "func hasher(data []byte) [2]uint64 {\n",
    "    hash := murmur3.New128()\n",
    "    hash.Write(data)\n",
    "    h1, h2 := hash.Sum128()\n",
    "    return [2]uint64{\n",
    "        h1, h2,\n",
    "    }\n",
    "}\n",
    "\n",
    "// https://www.eecs.harvard.edu/~michaelm/postscripts/rsa2008.pdf\n",
    "func transformHashes(h1, h2, i, size uint64) uint64 {\n",
    "  return  ( h1 + i * h2 ) % size\n",
    "}"
   ]
  },
  {
   "cell_type": "code",
   "execution_count": null,
   "metadata": {},
   "outputs": [],
   "source": []
  },
  {
   "cell_type": "markdown",
   "metadata": {},
   "source": [
    "I will also define a helper we will need later."
   ]
  },
  {
   "cell_type": "code",
   "execution_count": 19,
   "metadata": {},
   "outputs": [],
   "source": [
    "func round(f float64) float64 {\n",
    "  return math.Floor(f + .5)\n",
    "}"
   ]
  },
  {
   "cell_type": "markdown",
   "metadata": {},
   "source": [
    "Bloom filter values $k$ and $m$ can be estimated by using the formula that is implemented below. For this purpose, we will have to define desired false positive rate $p$ and maximum number of distinct items $n$."
   ]
  },
  {
   "cell_type": "code",
   "execution_count": 20,
   "metadata": {},
   "outputs": [],
   "source": [
    "import (\n",
    "\t\"math\"\n",
    ")\n",
    "\n",
    "// BloomFilter is bitvector of length m elements\n",
    "// items will be hashed to integers with k non-cryptographic functions\n",
    "// boolean values in corresponding positions will be flipped\n",
    "type BloomFilter struct {\n",
    "\tm    uint64\n",
    "\tk    uint64\n",
    "\tbits []bool\n",
    "}\n",
    "\n",
    "// InitBloomWithEstimate instantiates a new bloom filter with user defined estimate parameters\n",
    "// n = number of elements in data set\n",
    "// p = acceptable false positive 0 < p < 1 (no checks atm)\n",
    "// hash = hashing method to use ( <= 1 for murmur, 2 for fnv, else mix of both)\n",
    "func InitBloomWithEstimate(n uint, p float64) (b *BloomFilter, err error) {\n",
    "\tm, k := estimateBloomSize(n, p)\n",
    "\tb = &BloomFilter{\n",
    "\t\tm:    m,\n",
    "\t\tk:    k,\n",
    "\t}\n",
    "\tb.bits = make([]bool, m)\n",
    "\treturn b, err\n",
    "}\n",
    "\n",
    "// m = estimated size of bloom filter array\n",
    "// m = -1 * float64(n) * math.Log(p) / math.Pow(math.Log(2), 2)\n",
    "// k = num of needed hash functions\n",
    "func estimateBloomSize(n uint, p float64) (m, k uint64) {\n",
    "\tsize := math.Ceil(-1 * float64(n) * math.Log(p) / math.Pow(math.Log(2.0), 2.0))\n",
    "\tk = uint64(round(math.Log(2.0) * size / float64(n)))\n",
    "\tm = uint64(size)\n",
    "\treturn\n",
    "}\n",
    "\n",
    "// integer values\n",
    "func (b *BloomFilter) genLocs(data []byte) (locations []uint64) {\n",
    "\tlocations = make([]uint64, b.k)\n",
    "\th := hasher(data)\n",
    "\tfor i := uint64(0); i < b.k; i++ {\n",
    "\t\tlocations[i] = transformHashes(h[0], h[1], i, b.m)\n",
    "\t}\n",
    "\treturn\n",
    "}\n",
    "\n",
    "// Add method adds new element to bloom filter\n",
    "func (b *BloomFilter) Add(data []byte) *BloomFilter {\n",
    "\tfor _, elem := range b.genLocs(data) {\n",
    "\t\tb.bits[elem] = true\n",
    "\t}\n",
    "\treturn b\n",
    "}\n",
    "\n",
    "// AddString converts item to []byte and returns Add()\n",
    "func (b *BloomFilter) AddString(data string) *BloomFilter {\n",
    "\treturn b.Add([]byte(data))\n",
    "}\n",
    "\n",
    "// Query returns the presence boolean of item from filter\n",
    "// one missing bit is enough to verify non-existence\n",
    "func (b *BloomFilter) Query(data []byte) bool {\n",
    "\tfor _, elem := range b.genLocs(data) {\n",
    "\t\tif b.bits[elem] == false {\n",
    "\t\t\treturn false\n",
    "\t\t}\n",
    "\t}\n",
    "\treturn true\n",
    "}\n",
    "\n",
    "// QueryString converts item to []byte and returns Query()\n",
    "func (b *BloomFilter) QueryString(data string) bool {\n",
    "\treturn b.Query([]byte(data))\n",
    "}"
   ]
  },
  {
   "cell_type": "code",
   "execution_count": 33,
   "metadata": {},
   "outputs": [
    {
     "name": "stdout",
     "output_type": "stream",
     "text": [
      "Initiated bloom filter with  7 hash functions and  96 bits in vector\n",
      "69\n",
      "<nil>\n"
     ]
    }
   ],
   "source": [
    "import(\n",
    "    \"fmt\"\n",
    ")\n",
    "\n",
    "maxNoItems := 10\n",
    "maxFalsePos := 0.01\n",
    "bloom, err := InitBloomWithEstimate(uint(maxNoItems), maxFalsePos)\n",
    "\n",
    "fmt.Println(\"Initiated bloom filter with \", bloom.k, \"hash functions and \", bloom.m, \"bits in vector\")"
   ]
  },
  {
   "cell_type": "code",
   "execution_count": 34,
   "metadata": {},
   "outputs": [
    {
     "name": "stdout",
     "output_type": "stream",
     "text": [
      "&{96 7 [false true false false false false true false false false false false true false false false false false false false false false false false false false false true false false false true false false false false false true false true false true false false false false true false false false true true false true false false true false false false false true false false false false true false true false false true false false false false false false false false false false false true false false false false false true false false false false true false]}\n"
     ]
    }
   ],
   "source": [
    "bloom.AddString(\"8.8.8.8\")\n",
    "bloom.AddString(\"8.8.4.4\")\n",
    "bloom.AddString(\"fe80::1\")"
   ]
  },
  {
   "cell_type": "code",
   "execution_count": 35,
   "metadata": {},
   "outputs": [
    {
     "name": "stdout",
     "output_type": "stream",
     "text": [
      "true\n"
     ]
    }
   ],
   "source": [
    "bloom.QueryString(\"8.8.8.8\")"
   ]
  },
  {
   "cell_type": "code",
   "execution_count": 36,
   "metadata": {},
   "outputs": [
    {
     "name": "stdout",
     "output_type": "stream",
     "text": [
      "false\n"
     ]
    }
   ],
   "source": [
    "bloom.QueryString(\"192.168.1.1\")"
   ]
  },
  {
   "cell_type": "markdown",
   "metadata": {},
   "source": [
    "> PS! The most important property of bloom filters is that while a query can produce false positives, it can never produce a false negative. I.e., if any $k$ bits is FALSE, then the item has not been observed in the data stream. Thus why it's called a filter - it is often used as low overhead preprocessor for deciding weather or not to execute an expensive database query."
   ]
  },
  {
   "cell_type": "code",
   "execution_count": null,
   "metadata": {},
   "outputs": [],
   "source": []
  }
 ],
 "metadata": {
  "kernelspec": {
   "display_name": "Go (lgo)",
   "language": "go",
   "name": "lgo"
  },
  "language_info": {
   "file_extension": "",
   "mimetype": "",
   "name": "go",
   "version": ""
  }
 },
 "nbformat": 4,
 "nbformat_minor": 2
}
