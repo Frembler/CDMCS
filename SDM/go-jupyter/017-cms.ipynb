{
 "cells": [
  {
   "cell_type": "markdown",
   "metadata": {},
   "source": [
    "# Count-min sketch\n",
    "\n",
    "> Bloom filter for item counting.\n",
    "\n",
    "CMS is an expansion on simple bloom filters to allow for item counting in data streams. Whereas bloom filter only had one vector of binay values, CMS initiates a matrix $d*w$ matrix of counters. Once an element in data stream is observed, it is hashed with $d$ distinct hash functions, exactly as with bloom filters."
   ]
  },
  {
   "cell_type": "code",
   "execution_count": 40,
   "metadata": {},
   "outputs": [],
   "source": [
    "import(\n",
    "    \"github.com/spaolacci/murmur3\"\n",
    ")\n",
    "\n",
    "func string2hash(data string) [2]uint64 {\n",
    "    return hasher([]byte(data))\n",
    "}\n",
    "\n",
    "func hasher(data []byte) [2]uint64 {\n",
    "    hash := murmur3.New128()\n",
    "    hash.Write(data)\n",
    "    h1, h2 := hash.Sum128()\n",
    "    return [2]uint64{\n",
    "        h1, h2,\n",
    "    }\n",
    "}\n",
    "\n",
    "// https://www.eecs.harvard.edu/~michaelm/postscripts/rsa2008.pdf\n",
    "func transformHashes(h1, h2, i, size uint64) uint64 {\n",
    "  return  ( h1 + i * h2 ) % size\n",
    "}"
   ]
  },
  {
   "cell_type": "markdown",
   "metadata": {},
   "source": [
    "Counter at each location $w_{id}$ is then incremented by 1. We can then query the data structure to return all counters for each hash functions, while only the smallest value is reported as estimated count. Logically, the item counter with smallest value has the least hash collisions and gives us the most accurate estimation of how many times that item has been seen.\n",
    "\n",
    "> Like bloom filter, CMS can overestimate the counts. However, it can never underestimate."
   ]
  },
  {
   "cell_type": "code",
   "execution_count": 41,
   "metadata": {},
   "outputs": [],
   "source": [
    "import (\n",
    "\t\"errors\"\n",
    "\t\"math\"\n",
    "\t\"sync/atomic\"\n",
    ")\n",
    "\n",
    "// CountMinSketch is a counting BloomFilter\n",
    "// depth corresponds to number of distinct hashing funcitons used\n",
    "// with corresponds to number of counters in each hash set\n",
    "// https://blog.demofox.org/2015/02/22/count-min-sketch-a-probabilistic-histogram/\n",
    "type CountMinSketch struct {\n",
    "\tdepth uint64\n",
    "\twidth uint64\n",
    "\tcount [][]uint64\n",
    "}\n",
    "\n",
    "// InitMinSketchWithEstimate instantiates a new CMS object with user defined estimate parameters\n",
    "// width = [ e / epsilon ]\n",
    "// depth = [ ln( 1 / delta ) ]\n",
    "// hash = hashing method to use ( <= 1 for murmur, 2 for fnv, else mix of both)\n",
    "func InitMinSketchWithEstimate(epsilon, delta float64) (s *CountMinSketch, err error) {\n",
    "\tdepth, width := estimateCountMinSize(epsilon, delta)\n",
    "\tif epsilon <= 0 || epsilon >= 1 {\n",
    "\t\treturn nil, errors.New(\"CountMinSketch.Init: epsilon must be 0 < eps < 1\")\n",
    "\t}\n",
    "\tif delta <= 0 || delta >= 1 {\n",
    "\t\treturn nil, errors.New(\"CountMinSketch.Init: delta must be 0 < eps < 1\")\n",
    "\t}\n",
    "\ts = &CountMinSketch{\n",
    "\t\tdepth: depth,\n",
    "\t\twidth: width,\n",
    "\t}\n",
    "\ts.count = make([][]uint64, depth)\n",
    "\tfor i := uint64(0); i < depth; i++ {\n",
    "\t\ts.count[i] = make([]uint64, width)\n",
    "\t}\n",
    "\treturn s, err\n",
    "}\n",
    "\n",
    "func estimateCountMinSize(epsilon, delta float64) (depth, width uint64) {\n",
    "\tdepth = uint64(math.Ceil(math.Log(1.0 / delta)))\n",
    "\twidth = uint64(math.Ceil(math.E / epsilon))\n",
    "\treturn\n",
    "}\n",
    "\n",
    "func (s *CountMinSketch) genLocs(data []byte) (locations []uint64) {\n",
    "\tlocations = make([]uint64, s.depth)\n",
    "\th := hasher(data)\n",
    "\tfor i := uint64(0); i < uint64(s.depth); i++ {\n",
    "\t\tlocations[i] = transformHashes(h[0], h[1], i, uint64(s.width))\n",
    "\t}\n",
    "\treturn\n",
    "}\n",
    "\n",
    "// Increment item count in CMS without returning the new estimated value\n",
    "func (s *CountMinSketch) Increment(data []byte) *CountMinSketch {\n",
    "\t// location = hashing function i < depth\n",
    "\tfor i, elem := range s.genLocs(data) {\n",
    "\t\tatomic.AddUint64(&s.count[i][elem], 1)\n",
    "\t}\n",
    "\treturn s\n",
    "}\n",
    "\n",
    "// IncrementGetVal is a combination of Increment() and QueryMin() methods that returns new estimation upon adding each element\n",
    "// deduplicates needed work if estimation has to be compared to threshold\n",
    "func (s *CountMinSketch) IncrementGetVal(data []byte) (min uint64) {\n",
    "\t// location = hashing function i < depth\n",
    "\tfor i, elem := range s.genLocs(data) {\n",
    "\t\tc := &s.count[i][elem]\n",
    "\t\tatomic.AddUint64(c, 1)\n",
    "\t\tif min == 0 || *c < min {\n",
    "\t\t\tmin = *c\n",
    "\t\t}\n",
    "\t}\n",
    "\treturn\n",
    "}\n",
    "\n",
    "// IncrementStringGetVal converts textual input before returning IncrementGetVal()\n",
    "func (s *CountMinSketch) IncrementStringGetVal(data string) (min uint64) {\n",
    "\treturn s.IncrementGetVal([]byte(data))\n",
    "}\n",
    "\n",
    "// IncrementString converts textual input before returning Increment()\n",
    "func (s *CountMinSketch) IncrementString(data string) *CountMinSketch {\n",
    "\treturn s.Increment([]byte(data))\n",
    "}\n",
    "\n",
    "// QueryMin returns estimated value for item\n",
    "// smallest count = least collisions, thus most accurate estimation\n",
    "// if smallest value is zero, the item has not been counted before.\n",
    "// CMS cannot under-estimate by definition, thus any subsequent checks are waste of CPU cycles\n",
    "func (s *CountMinSketch) QueryMin(data []byte) (min uint64) {\n",
    "\tfor i, elem := range s.genLocs(data) {\n",
    "\t\tc := s.count[i][elem]\n",
    "\t\tif c == 1 {\n",
    "\t\t\tmin = 1\n",
    "\t\t\tbreak\n",
    "\t\t} else if min == 0 || c < min {\n",
    "\t\t\tmin = c\n",
    "\t\t}\n",
    "\t}\n",
    "\treturn\n",
    "}\n",
    "\n",
    "// QueryString converts textual input before returning Query()\n",
    "func (s *CountMinSketch) QueryString(data string) uint64 {\n",
    "\treturn s.QueryMin([]byte(data))\n",
    "}"
   ]
  },
  {
   "cell_type": "code",
   "execution_count": 42,
   "metadata": {},
   "outputs": [],
   "source": [
    "import(\n",
    "    \"fmt\"\n",
    ")\n",
    "\n",
    "epsilon := 0.01\n",
    "delta := 0.01\n",
    "\n",
    "cms, err := InitMinSketchWithEstimate(epsilon, delta)"
   ]
  },
  {
   "cell_type": "code",
   "execution_count": 43,
   "metadata": {},
   "outputs": [
    {
     "name": "stdout",
     "output_type": "stream",
     "text": [
      "Initiated CMS with 5 hash functions and 272 counters per function.\n",
      "67\n",
      "<nil>\n"
     ]
    }
   ],
   "source": [
    "fmt.Println(\"Initiated CMS with\", cms.depth, \"hash functions and\", cms.width, \"counters per function.\")"
   ]
  },
  {
   "cell_type": "code",
   "execution_count": 44,
   "metadata": {},
   "outputs": [],
   "source": [
    "var count uint64\n",
    "for i := 0; i < 10; i++ {\n",
    "    count = cms.IncrementStringGetVal(\"aaa\")\n",
    "}\n",
    "for i := 0; i < 2; i++ {\n",
    "    count = cms.IncrementStringGetVal(\"aab\")\n",
    "}"
   ]
  },
  {
   "cell_type": "markdown",
   "metadata": {},
   "source": [
    "Again, like with Bloom filters, query is a one-way operation. I.e., you can only query items that you know about."
   ]
  },
  {
   "cell_type": "code",
   "execution_count": 45,
   "metadata": {},
   "outputs": [
    {
     "name": "stdout",
     "output_type": "stream",
     "text": [
      "10\n",
      "3\n",
      "<nil>\n"
     ]
    }
   ],
   "source": [
    "count := cms.QueryString(\"aaa\")\n",
    "fmt.Println(count)"
   ]
  },
  {
   "cell_type": "code",
   "execution_count": 46,
   "metadata": {},
   "outputs": [
    {
     "name": "stdout",
     "output_type": "stream",
     "text": [
      "2\n",
      "2\n",
      "<nil>\n"
     ]
    }
   ],
   "source": [
    "count := cms.QueryString(\"aab\")\n",
    "fmt.Println(count)"
   ]
  },
  {
   "cell_type": "code",
   "execution_count": 47,
   "metadata": {},
   "outputs": [
    {
     "name": "stdout",
     "output_type": "stream",
     "text": [
      "0\n",
      "2\n",
      "<nil>\n"
     ]
    }
   ],
   "source": [
    "count := cms.QueryString(\"aac\")\n",
    "fmt.Println(count)"
   ]
  },
  {
   "cell_type": "code",
   "execution_count": null,
   "metadata": {},
   "outputs": [],
   "source": []
  }
 ],
 "metadata": {
  "kernelspec": {
   "display_name": "Go (lgo)",
   "language": "go",
   "name": "lgo"
  },
  "language_info": {
   "file_extension": "",
   "mimetype": "",
   "name": "go",
   "version": ""
  }
 },
 "nbformat": 4,
 "nbformat_minor": 2
}
