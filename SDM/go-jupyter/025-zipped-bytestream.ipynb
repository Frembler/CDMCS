{
 "cells": [
  {
   "cell_type": "markdown",
   "metadata": {},
   "source": [
    "# Process compressed log files line-by-line\n",
    "\n",
    "* zipped logfile downloaded from [here](https://www.sec.gov/dera/data/edgar-log-file-data-set.html)\n",
    "* These files are around 3GB when unpacked, so notebook may report a dead kernel while file is being processed. Just be patient."
   ]
  },
  {
   "cell_type": "code",
   "execution_count": 28,
   "metadata": {},
   "outputs": [],
   "source": [
    "import (\n",
    "    \"bufio\"\n",
    "    \"os\"\n",
    "    \"log\"\n",
    "    \"os/signal\"\n",
    "    \"strings\"\n",
    ")"
   ]
  },
  {
   "cell_type": "code",
   "execution_count": 29,
   "metadata": {},
   "outputs": [],
   "source": [
    "import \"archive/zip\"\n",
    "r, err := zip.OpenReader(\"/home/jovyan/data/SDM/logs/log20170630.zip\")"
   ]
  },
  {
   "cell_type": "code",
   "execution_count": 30,
   "metadata": {},
   "outputs": [
    {
     "name": "stderr",
     "output_type": "stream",
     "text": [
      "2018/02/25 12:57:32 log20170630.csv\n",
      "2018/02/25 12:57:59 last line contained: [38.140.198.dgd 2017-06-30 23:46:48 0.0 1071438.0 0001292814-17-001660 -index.htm 200.0 6841.0 1.0 0.0 0.0 10.0 0.0 ]\n",
      "2018/02/25 12:57:59 total 23677601 lines were seen\n"
     ]
    },
    {
     "name": "stdout",
     "output_type": "stream",
     "text": [
      "<nil>\n"
     ]
    }
   ],
   "source": [
    "for _, f := range r.File {\n",
    "    if f.Name != \"README.txt\"{\n",
    "        log.Println(f.Name)\n",
    "        \n",
    "        rc, err := f.Open()\n",
    "        if err != nil {\n",
    "            log.Fatal(err)\n",
    "        }\n",
    "        byline := bufio.NewScanner(rc)\n",
    "        var data []string\n",
    "        lines := 0\n",
    "        for byline.Scan() {\n",
    "            lines ++\n",
    "            data = strings.Split(byline.Text(), \",\")\n",
    "        }\n",
    "        \n",
    "        log.Println(\"last line contained:\", data)\n",
    "        log.Println(\"total\", lines, \"lines were seen\")\n",
    "        rc.Close()\n",
    "    }\n",
    "}\n",
    "r.Close()"
   ]
  },
  {
   "cell_type": "code",
   "execution_count": null,
   "metadata": {},
   "outputs": [],
   "source": []
  },
  {
   "cell_type": "code",
   "execution_count": null,
   "metadata": {},
   "outputs": [],
   "source": []
  }
 ],
 "metadata": {
  "kernelspec": {
   "display_name": "Go (lgo)",
   "language": "go",
   "name": "lgo"
  },
  "language_info": {
   "file_extension": "",
   "mimetype": "",
   "name": "go",
   "version": ""
  }
 },
 "nbformat": 4,
 "nbformat_minor": 2
}
