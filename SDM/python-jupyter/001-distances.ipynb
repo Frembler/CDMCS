{
 "cells": [
  {
   "cell_type": "markdown",
   "metadata": {},
   "source": [
    "# Distance functions\n",
    "\n",
    "## Cosine similarity\n",
    "\n",
    "see\n",
    "* https://masongallo.github.io/machine/learning,/python/2016/07/29/cosine-similarity.html\n",
    "* http://dataaspirant.com/2015/04/11/five-most-popular-similarity-measures-implementation-in-python/\n",
    "\n",
    "remember\n",
    "$$ s(a, b) = \\frac{a \\cdot b}{\\lvert \\lvert a \\lvert \\lvert \\lvert \\lvert b \\lvert \\lvert} = \\frac{ \\sum_{i=1}^{n}a_i b_i }{\\sqrt{\\sum_{i=1}^{n}a_i^2} \\sqrt{\\sum_{i=1}^{n}b_i^2 } } $$"
   ]
  },
  {
   "cell_type": "code",
   "execution_count": 9,
   "metadata": {},
   "outputs": [],
   "source": [
    "import numpy as np"
   ]
  },
  {
   "cell_type": "code",
   "execution_count": 10,
   "metadata": {},
   "outputs": [],
   "source": [
    "a = [2,5,7]\n",
    "b = [4,3,3]\n",
    "\n",
    "A = np.array(a)\n",
    "B = np.array(b)"
   ]
  },
  {
   "cell_type": "code",
   "execution_count": 11,
   "metadata": {},
   "outputs": [],
   "source": [
    "def cosSim(x, y):\n",
    "    return np.dot(x, y) / (np.linalg.norm(x) * np.linalg.norm(y))"
   ]
  },
  {
   "cell_type": "code",
   "execution_count": 12,
   "metadata": {},
   "outputs": [
    {
     "data": {
      "text/plain": [
       "0.85440920111867891"
      ]
     },
     "execution_count": 12,
     "metadata": {},
     "output_type": "execute_result"
    }
   ],
   "source": [
    "sim = cosSim(A, B)\n",
    "sim"
   ]
  },
  {
   "cell_type": "code",
   "execution_count": 13,
   "metadata": {},
   "outputs": [],
   "source": [
    "from math import *\n",
    " \n",
    "def squareRootedSumOfSquares(x):\n",
    "    return round(sqrt(sum([a*a for a in x])),3)\n",
    "\n",
    "def dotProduct(x, y):\n",
    "    return sum(a*b for a,b in zip(x,y))\n",
    "\n",
    "def cosSim2(x, y):\n",
    "    return dotProduct(x,y) / (squareRootedSumOfSquares(x) * squareRootedSumOfSquares(y) )"
   ]
  },
  {
   "cell_type": "code",
   "execution_count": 14,
   "metadata": {},
   "outputs": [
    {
     "data": {
      "text/plain": [
       "0.8543790186882205"
      ]
     },
     "execution_count": 14,
     "metadata": {},
     "output_type": "execute_result"
    }
   ],
   "source": [
    "sim2 = cosSim2(a, b)\n",
    "sim2"
   ]
  },
  {
   "cell_type": "code",
   "execution_count": null,
   "metadata": {},
   "outputs": [],
   "source": []
  },
  {
   "cell_type": "code",
   "execution_count": null,
   "metadata": {},
   "outputs": [],
   "source": []
  }
 ],
 "metadata": {
  "kernelspec": {
   "display_name": "Python 3",
   "language": "python",
   "name": "python3"
  },
  "language_info": {
   "codemirror_mode": {
    "name": "ipython",
    "version": 3
   },
   "file_extension": ".py",
   "mimetype": "text/x-python",
   "name": "python",
   "nbconvert_exporter": "python",
   "pygments_lexer": "ipython3",
   "version": "3.6.3"
  }
 },
 "nbformat": 4,
 "nbformat_minor": 2
}
