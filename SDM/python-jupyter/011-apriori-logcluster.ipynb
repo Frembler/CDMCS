{
 "cells": [
  {
   "cell_type": "markdown",
   "metadata": {},
   "source": [
    "# Apriori and LogCluster\n",
    "\n",
    "See:\n",
    "* http://ristov.github.io/logcluster/\n",
    "* https://github.com/ristov/logcluster\n",
    "* https://github.com/markuskont/kirka/blob/master/algorithms/LogCluster.py\n",
    "\n",
    "## Apriori\n",
    "\n",
    "Apriori is an algorithm for frequent itemset mining on transactional databases. In other words, it is used to find data elements that commonly occur together given a user-defined support value $S$. First, lets define some data."
   ]
  },
  {
   "cell_type": "code",
   "execution_count": 356,
   "metadata": {},
   "outputs": [],
   "source": [
    "transactions = [\n",
    "    [\"apple\", \"beer\", \"rice\", \"meat\"],\n",
    "    [\"apple\", \"beer\", \"rice\"],\n",
    "    [\"apple\", \"beer\"],\n",
    "    [\"apple\", \"pear\"],\n",
    "    [\"milk\", \"beer\", \"rice\", \"meat\"],\n",
    "    [\"milk\", \"beer\", \"rice\"],\n",
    "    [\"milk\", \"beer\"],\n",
    "    [\"milk\", \"pear\"]\n",
    "]"
   ]
  },
  {
   "cell_type": "markdown",
   "metadata": {},
   "source": [
    "We need to know the occurrence count of all items, along with total number of transactions."
   ]
  },
  {
   "cell_type": "code",
   "execution_count": 357,
   "metadata": {},
   "outputs": [
    {
     "data": {
      "text/plain": [
       "{'apple': 4, 'beer': 6, 'meat': 2, 'milk': 4, 'pear': 2, 'rice': 4}"
      ]
     },
     "execution_count": 357,
     "metadata": {},
     "output_type": "execute_result"
    }
   ],
   "source": [
    "counters = {}\n",
    "for t in transactions:\n",
    "    for item in t:\n",
    "        if item not in counters:\n",
    "            counters[item] = 1\n",
    "        else:\n",
    "            counters[item] += 1\n",
    "counters"
   ]
  },
  {
   "cell_type": "markdown",
   "metadata": {},
   "source": [
    "This allows us to calculate support values for each item, relative to total number of transactions."
   ]
  },
  {
   "cell_type": "code",
   "execution_count": 358,
   "metadata": {},
   "outputs": [
    {
     "data": {
      "text/plain": [
       "8"
      ]
     },
     "execution_count": 358,
     "metadata": {},
     "output_type": "execute_result"
    }
   ],
   "source": [
    "total = len(transactions)\n",
    "total"
   ]
  },
  {
   "cell_type": "code",
   "execution_count": 359,
   "metadata": {},
   "outputs": [
    {
     "data": {
      "text/plain": [
       "{'apple': 0.5,\n",
       " 'beer': 0.75,\n",
       " 'meat': 0.25,\n",
       " 'milk': 0.5,\n",
       " 'pear': 0.25,\n",
       " 'rice': 0.5}"
      ]
     },
     "execution_count": 359,
     "metadata": {},
     "output_type": "execute_result"
    }
   ],
   "source": [
    "support = {}\n",
    "for k, v in counters.items():\n",
    "    support[k] = v/total\n",
    "    \n",
    "support"
   ]
  },
  {
   "cell_type": "markdown",
   "metadata": {},
   "source": [
    "Now, we will need to find likelyhoods that two items appear together, or confidence values for items $\\{X -> Y\\}$."
   ]
  },
  {
   "cell_type": "code",
   "execution_count": 360,
   "metadata": {},
   "outputs": [],
   "source": [
    "import pandas as pd\n",
    "import numpy as np\n",
    "\n",
    "df = pd.DataFrame(0, columns = support.keys(), index = support.keys())\n",
    "np.fill_diagonal(df.values, 1)"
   ]
  },
  {
   "cell_type": "code",
   "execution_count": 361,
   "metadata": {},
   "outputs": [],
   "source": [
    "for x in support.keys():\n",
    "    xy = []\n",
    "    for y in support.keys():\n",
    "        count = 0\n",
    "        for t in transactions:\n",
    "            if x != y:\n",
    "                if x in t and y in t:\n",
    "                    count += 1\n",
    "            #else:\n",
    "            #    count = None\n",
    "        xy.append(count)\n",
    "    df[x] = xy"
   ]
  },
  {
   "cell_type": "code",
   "execution_count": 362,
   "metadata": {},
   "outputs": [],
   "source": [
    "totals = list(counters.values())\n",
    "confidence = df.divide(totals, axis = \"index\")\n",
    "s = list(support.values())\n",
    "supports_mult = pd.DataFrame(0, columns = support.keys(), index = support.keys())\n",
    "\n",
    "support_outer = np.outer(np.array(s), np.array(s))\n",
    "support_outer = pd.DataFrame(support_outer, columns = support.keys(), index = support.keys())\n",
    "\n",
    "lift = df / support_outer"
   ]
  },
  {
   "cell_type": "markdown",
   "metadata": {},
   "source": [
    "Subsequently, infrequent itemsets that do not meet support criterium can be dropped."
   ]
  },
  {
   "cell_type": "markdown",
   "metadata": {},
   "source": [
    "## Logfile clustering\n",
    "\n",
    "This core idea can be extended to identify frequently appearing patterns in unstructured event log messages. Firstly, we will read a syslog file and generate word counter not unlike \"bag of words\" that is used for text data mining."
   ]
  },
  {
   "cell_type": "code",
   "execution_count": 446,
   "metadata": {},
   "outputs": [],
   "source": [
    "src = \"/home/jovyan/data/SDM/logs/pacman.log\"\n",
    "splitOn = \"\\s+|\\.|/|\\\"|\\(|\\)|:\""
   ]
  },
  {
   "cell_type": "code",
   "execution_count": 447,
   "metadata": {},
   "outputs": [],
   "source": [
    "import re"
   ]
  },
  {
   "cell_type": "code",
   "execution_count": 448,
   "metadata": {},
   "outputs": [],
   "source": [
    "words = {}\n",
    "lines = 0\n",
    "with open(src) as f:\n",
    "    for line in f:\n",
    "        lines =+ 1\n",
    "        for w in re.split(splitOn, line):\n",
    "            if w != \"\":\n",
    "                if w not in words:\n",
    "                    words[w] = 1\n",
    "                else:\n",
    "                    words[w] += 1"
   ]
  },
  {
   "cell_type": "code",
   "execution_count": 449,
   "metadata": {},
   "outputs": [
    {
     "data": {
      "text/plain": [
       "1979"
      ]
     },
     "execution_count": 449,
     "metadata": {},
     "output_type": "execute_result"
    }
   ],
   "source": [
    "len(words)"
   ]
  },
  {
   "cell_type": "code",
   "execution_count": 450,
   "metadata": {},
   "outputs": [
    {
     "data": {
      "text/plain": [
       "<function matplotlib.pyplot.show>"
      ]
     },
     "execution_count": 450,
     "metadata": {},
     "output_type": "execute_result"
    },
    {
     "data": {
      "image/png": "[encoded data removed]",
      "text/plain": [
       "<matplotlib.figure.Figure at 0x7fb3b4349a20>"
      ]
     },
     "metadata": {},
     "output_type": "display_data"
    }
   ],
   "source": [
    "import matplotlib.pyplot as plt\n",
    "plt.plot(sorted(list(words.values())))\n",
    "plt.ylabel('count')\n",
    "plt.xlabel('words')\n",
    "plt.show"
   ]
  },
  {
   "cell_type": "markdown",
   "metadata": {},
   "source": [
    "After counting distinct words, we see that majority of the words are infrequent. So we will define a threshold and drop those words."
   ]
  },
  {
   "cell_type": "code",
   "execution_count": 451,
   "metadata": {},
   "outputs": [
    {
     "data": {
      "text/plain": [
       "84"
      ]
     },
     "execution_count": 451,
     "metadata": {},
     "output_type": "execute_result"
    }
   ],
   "source": [
    "sup = 50\n",
    "for word in list(words.keys()):\n",
    "    if words[word] < sup:\n",
    "        del words[word]\n",
    "        \n",
    "fwords = list(words.keys())\n",
    "len(fwords)"
   ]
  },
  {
   "cell_type": "markdown",
   "metadata": {},
   "source": [
    "Now we will need to do a second pass over input file to create cluster candidates. Only frequent words will be kept in cluster candidates while infrequent words are replaced by wildcards."
   ]
  },
  {
   "cell_type": "code",
   "execution_count": 452,
   "metadata": {},
   "outputs": [],
   "source": [
    "import json\n",
    "import hashlib\n",
    "\n",
    "candidates = {}\n",
    "lines = 0\n",
    "with open(src) as f:\n",
    "    for line in f:\n",
    "        lines += 1\n",
    "        candidate = []\n",
    "        wildcards = []\n",
    "        noWildcards = 0\n",
    "        for w in re.split(splitOn, line):\n",
    "            if w != \"\" and w in fwords:\n",
    "                candidate.append(w)\n",
    "                wildcards.append(noWildcards)\n",
    "                noWildcards = 0\n",
    "            else:\n",
    "                noWildcards += 1\n",
    "        ident = hashlib.md5(json.dumps(sorted(candidate)).encode()).hexdigest()\n",
    "        \n",
    "        if ident not in candidates:\n",
    "            candidates[ident] = {\n",
    "                \"count\": 1,\n",
    "                \"words\": candidate,\n",
    "                \"wildcards\": wildcards\n",
    "            }\n",
    "        else:\n",
    "            candidates[ident][\"count\"] += 1\n",
    "        \n",
    "        #if lines%1000==0:\n",
    "        #    print(ident)\n",
    "        #    print(wildcards)"
   ]
  },
  {
   "cell_type": "code",
   "execution_count": 453,
   "metadata": {},
   "outputs": [
    {
     "data": {
      "text/plain": [
       "1151"
      ]
     },
     "execution_count": 453,
     "metadata": {},
     "output_type": "execute_result"
    }
   ],
   "source": [
    "len(candidates)"
   ]
  },
  {
   "cell_type": "code",
   "execution_count": 454,
   "metadata": {},
   "outputs": [],
   "source": [
    "counts = []\n",
    "for k, v in candidates.items():\n",
    "    counts.append(v[\"count\"])"
   ]
  },
  {
   "cell_type": "code",
   "execution_count": 455,
   "metadata": {},
   "outputs": [
    {
     "data": {
      "text/plain": [
       "<function matplotlib.pyplot.show>"
      ]
     },
     "execution_count": 455,
     "metadata": {},
     "output_type": "execute_result"
    },
    {
     "data": {
      "image/png": "[encoded data removed]",
      "text/plain": [
       "<matplotlib.figure.Figure at 0x7fb3b4146ac8>"
      ]
     },
     "metadata": {},
     "output_type": "display_data"
    }
   ],
   "source": [
    "plt.plot(sorted(counts))\n",
    "plt.ylabel('count')\n",
    "plt.xlabel('candidate')\n",
    "plt.show"
   ]
  },
  {
   "cell_type": "markdown",
   "metadata": {},
   "source": [
    "We can observe a similar case for candidate counters as we did for words - only a small subset of candidates occur most amount of time. We can now use the same support values as before, or define a new one to repeat dropping infrequent items."
   ]
  },
  {
   "cell_type": "code",
   "execution_count": 456,
   "metadata": {},
   "outputs": [
    {
     "data": {
      "text/plain": [
       "40"
      ]
     },
     "execution_count": 456,
     "metadata": {},
     "output_type": "execute_result"
    }
   ],
   "source": [
    "sup = 10\n",
    "for k in list(candidates.keys()):\n",
    "    v = candidates[k]\n",
    "    if v[\"count\"] < sup:\n",
    "        del candidates[k]\n",
    "clusters = candidates\n",
    "len(clusters)"
   ]
  },
  {
   "cell_type": "code",
   "execution_count": 457,
   "metadata": {},
   "outputs": [
    {
     "name": "stdout",
     "output_type": "stream",
     "text": [
      "[2017-12-21 20 29] [ALPM] installed \n",
      "[2017-12-21 20 29] [ALPM] installed 2 ** \n",
      "[2017-12-21 20 29] [ALPM] installed 1 ** \n",
      "[2017-12-21 20 29] [ALPM-SCRIPTLET] \n",
      "[2017-12-21 20 29] [ALPM-SCRIPTLET] -> Running build hook \n",
      "[2017-12-21 20 39] [ALPM] installed 0 ** \n",
      "[2017-12-21 20 39] [ALPM] installed 1 ** \n",
      "[2017-12-21 20 39] [ALPM] installed 1 ** 0 \n",
      "[2017-12-21 20 39] [ALPM] installed 2 ** 0 \n",
      "[2017-12-21 20 39] [ALPM] installed 2 ** \n",
      "[2017-12-21 20 39] [ALPM-SCRIPTLET] \n",
      "[2017-12-21 20 39] [ALPM] installed 1 ** 1 \n",
      "[2017-12-21 20 39] [ALPM] installed 1 ** 2 \n",
      "[2017-12-21 20 39] [ALPM] installed \n",
      "[2017-12-21 20 39] [ALPM] installed 3 ** 26 \n",
      "[2017-12-21 20 39] [ALPM-SCRIPTLET] -> Running build hook \n",
      "[2017-12-21 20 40] [ALPM] running hook' * \n",
      "[2017-12-21 21 [PACMAN] * Running 'pacman -Sy \n",
      "[2017-12-21 21 [PACMAN] * synchronizing package lists \n",
      "[2017-12-22 21 [ALPM-SCRIPTLET] * -> Running build hook \n",
      "[2017-12-23 16 22] [ALPM-SCRIPTLET] \n",
      "[2017-12-30 00 11] [ALPM-SCRIPTLET] -> Running build hook \n",
      "[2018-01-02 17 [ALPM-SCRIPTLET] * -> Running build hook \n",
      "[2018-01-03 16 09] [ALPM] installed 0 ** \n",
      "[2018-01-03 16 09] [ALPM] installed 1 ** \n",
      "[2018-01-03 16 09] [ALPM] installed 6 ** \n",
      "09 * [ALPM-SCRIPTLET] * -> Running build hook \n",
      "[2018-01-08 09 37] [ALPM-SCRIPTLET] -> Running build hook \n",
      "[2018-01-09 21 50] [ALPM-SCRIPTLET] -> \n",
      "[2018-01-11 09 40] [ALPM-SCRIPTLET] -> Running build hook \n",
      "[2018-01-11 22 [ALPM-SCRIPTLET] * -> Running build hook \n",
      "[2018-01-16 15 14] [ALPM] upgraded 1 ** -> ** 1 \n",
      "[2018-01-16 15 14] [ALPM-SCRIPTLET] -> Running build hook \n",
      "[2018-01-16 15 [ALPM] * running hook' * \n",
      "[2018-01-24 09 45] [ALPM-SCRIPTLET] -> Running build hook \n",
      "[2018-01-26 09 40] [ALPM] running hook' * \n",
      "[2018-01-26 09 40] [ALPM-SCRIPTLET] -> Running build hook \n",
      "[2018-02-03 01 05] [ALPM-SCRIPTLET] -> Running build hook \n",
      "[2018-02-08 09 45] [ALPM] running hook' * \n",
      "[2018-02-08 09 45] [ALPM-SCRIPTLET] -> Running build hook \n"
     ]
    }
   ],
   "source": [
    "for cluster in list(clusters.values()):\n",
    "    i = 0\n",
    "    wildcards = cluster['wildcards']\n",
    "    for word in cluster['words']:\n",
    "        wc = wildcards[i]\n",
    "        print(word, end=' ')\n",
    "        if wc > 0:\n",
    "            print('*'*wc, end=' ')\n",
    "        i += 1\n",
    "    print()"
   ]
  },
  {
   "cell_type": "markdown",
   "metadata": {},
   "source": [
    "We can now run another pass over the data to report all infrequent"
   ]
  },
  {
   "cell_type": "code",
   "execution_count": null,
   "metadata": {},
   "outputs": [],
   "source": []
  }
 ],
 "metadata": {
  "kernelspec": {
   "display_name": "Python 3",
   "language": "python",
   "name": "python3"
  },
  "language_info": {
   "codemirror_mode": {
    "name": "ipython",
    "version": 3
   },
   "file_extension": ".py",
   "mimetype": "text/x-python",
   "name": "python",
   "nbconvert_exporter": "python",
   "pygments_lexer": "ipython3",
   "version": "3.6.3"
  }
 },
 "nbformat": 4,
 "nbformat_minor": 2
}
