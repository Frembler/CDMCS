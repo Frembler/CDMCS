{
 "cells": [
  {
   "cell_type": "markdown",
   "metadata": {},
   "source": [
    "# Kafka with python\n",
    "\n",
    "See:\n",
    "\n",
    "* https://kafka-python.readthedocs.io/en/master/apidoc/KafkaConsumer.html\n",
    "* https://kafka-python.readthedocs.io/en/master/apidoc/KafkaProducer.html\n",
    "\n",
    "> This example assumes SDM singlehost setup with docker-compose. Name resolution to kafka producers in handled by docker.\n",
    "\n",
    "Lets start by producing some simple messages."
   ]
  },
  {
   "cell_type": "code",
   "execution_count": 47,
   "metadata": {},
   "outputs": [],
   "source": [
    "from kafka import KafkaProducer"
   ]
  },
  {
   "cell_type": "code",
   "execution_count": 48,
   "metadata": {},
   "outputs": [],
   "source": [
    "topic = \"testing\"\n",
    "server = \"kafka:9092\"\n",
    "producer = KafkaProducer(bootstrap_servers=server)"
   ]
  },
  {
   "cell_type": "code",
   "execution_count": 49,
   "metadata": {},
   "outputs": [],
   "source": [
    "for i in range(10):\n",
    "    msg = \"message %s\" % (i)\n",
    "    resp = producer.send(topic, bytes(msg, encoding='utf-8'))"
   ]
  },
  {
   "cell_type": "markdown",
   "metadata": {},
   "source": [
    "Now consume those messages. Note that we need to consume messages from beginning for this example to work.\n",
    "\n",
    "> Python kafka consumer may take some time to reconnect and start consuming if commits are enabled."
   ]
  },
  {
   "cell_type": "code",
   "execution_count": 66,
   "metadata": {},
   "outputs": [],
   "source": [
    "from kafka import KafkaConsumer"
   ]
  },
  {
   "cell_type": "code",
   "execution_count": 67,
   "metadata": {},
   "outputs": [
    {
     "name": "stdout",
     "output_type": "stream",
     "text": [
      "ConsumerRecord(topic='testing', partition=2, offset=0, timestamp=1519566433975, timestamp_type=0, key=None, value=b'message 5', checksum=-78256847, serialized_key_size=-1, serialized_value_size=9)\n",
      "ConsumerRecord(topic='testing', partition=2, offset=1, timestamp=1519566433975, timestamp_type=0, key=None, value=b'message 7', checksum=358319133, serialized_key_size=-1, serialized_value_size=9)\n",
      "ConsumerRecord(topic='testing', partition=2, offset=2, timestamp=1519566433975, timestamp_type=0, key=None, value=b'message 9', checksum=-219961062, serialized_key_size=-1, serialized_value_size=9)\n",
      "ConsumerRecord(topic='testing', partition=2, offset=3, timestamp=1519566454805, timestamp_type=0, key=None, value=b'message 3', checksum=-1330070075, serialized_key_size=-1, serialized_value_size=9)\n",
      "ConsumerRecord(topic='testing', partition=2, offset=4, timestamp=1519566454805, timestamp_type=0, key=None, value=b'message 4', checksum=786180198, serialized_key_size=-1, serialized_value_size=9)\n",
      "ConsumerRecord(topic='testing', partition=2, offset=5, timestamp=1519566454805, timestamp_type=0, key=None, value=b'message 5', checksum=1507530992, serialized_key_size=-1, serialized_value_size=9)\n",
      "ConsumerRecord(topic='testing', partition=2, offset=6, timestamp=1519566454805, timestamp_type=0, key=None, value=b'message 6', checksum=-1059960502, serialized_key_size=-1, serialized_value_size=9)\n",
      "ConsumerRecord(topic='testing', partition=2, offset=7, timestamp=1519566454805, timestamp_type=0, key=None, value=b'message 7', checksum=-1210746404, serialized_key_size=-1, serialized_value_size=9)\n",
      "ConsumerRecord(topic='testing', partition=2, offset=8, timestamp=1519566454805, timestamp_type=0, key=None, value=b'message 8', checksum=661283917, serialized_key_size=-1, serialized_value_size=9)\n",
      "ConsumerRecord(topic='testing', partition=2, offset=9, timestamp=1519566631371, timestamp_type=0, key=None, value=b'message 5', checksum=-934763750, serialized_key_size=-1, serialized_value_size=9)\n",
      "ConsumerRecord(topic='testing', partition=2, offset=10, timestamp=1519566631371, timestamp_type=0, key=None, value=b'message 7', checksum=642171446, serialized_key_size=-1, serialized_value_size=9)\n"
     ]
    }
   ],
   "source": [
    "consumer = KafkaConsumer(topic, group_id=None, bootstrap_servers=server, auto_offset_reset='earliest')\n",
    "\n",
    "i = 0\n",
    "for msg in consumer:\n",
    "    print(msg)\n",
    "    if i == 10:\n",
    "        break\n",
    "    i += 1\n",
    "consumer.close(autocommit = False)"
   ]
  },
  {
   "cell_type": "code",
   "execution_count": null,
   "metadata": {},
   "outputs": [],
   "source": []
  },
  {
   "cell_type": "code",
   "execution_count": null,
   "metadata": {},
   "outputs": [],
   "source": []
  }
 ],
 "metadata": {
  "kernelspec": {
   "display_name": "Python 3",
   "language": "python",
   "name": "python3"
  },
  "language_info": {
   "codemirror_mode": {
    "name": "ipython",
    "version": 3
   },
   "file_extension": ".py",
   "mimetype": "text/x-python",
   "name": "python",
   "nbconvert_exporter": "python",
   "pygments_lexer": "ipython3",
   "version": "3.6.3"
  }
 },
 "nbformat": 4,
 "nbformat_minor": 2
}
