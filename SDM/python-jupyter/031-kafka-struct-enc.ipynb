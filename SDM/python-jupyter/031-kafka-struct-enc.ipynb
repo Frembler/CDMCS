{
 "cells": [
  {
   "cell_type": "markdown",
   "metadata": {},
   "source": [
    "# Kafka structured messages and avro encoding\n",
    "\n",
    "A common use-case is to send messages payloads into kafka in JSON format"
   ]
  },
  {
   "cell_type": "code",
   "execution_count": 69,
   "metadata": {},
   "outputs": [],
   "source": [
    "from kafka import KafkaProducer\n",
    "import json"
   ]
  },
  {
   "cell_type": "code",
   "execution_count": 70,
   "metadata": {},
   "outputs": [],
   "source": [
    "topic = \"json\"\n",
    "server = \"kafka:9092\"\n",
    "producer = KafkaProducer(bootstrap_servers=server, value_serializer=lambda v: json.dumps(v).encode('utf-8'))"
   ]
  },
  {
   "cell_type": "markdown",
   "metadata": {},
   "source": [
    "First we need to load some data. Alas, the example apache log file is in unstructured common format."
   ]
  },
  {
   "cell_type": "code",
   "execution_count": 71,
   "metadata": {},
   "outputs": [
    {
     "name": "stdout",
     "output_type": "stream",
     "text": [
      "233.167.247.91 - - [26/Sep/2017:07:54:24 +0000] \"POST /app/main/posts HTTP/1.0\" 404 4948 \"http://www.patel.org/post.asp\" \"Mozilla/5.0 (Macintosh; U; PPC Mac OS X 10_6_4) AppleWebKit/5360 (KHTML, like Gecko) Chrome/14.0.812.0 Safari/5360\"\n",
      "\n"
     ]
    }
   ],
   "source": [
    "src = \"/home/jovyan/data/SDM/logs/apache-short.log\"\n",
    "with open(src, \"r\") as logfile:\n",
    "    print(logfile.readline())"
   ]
  },
  {
   "cell_type": "markdown",
   "metadata": {},
   "source": [
    "So I will need to parse this file into structured JSON. I will write a simple grok-ish parser for this purpose."
   ]
  },
  {
   "cell_type": "code",
   "execution_count": 101,
   "metadata": {},
   "outputs": [],
   "source": [
    "import re\n",
    "\n",
    "\n",
    "grokpattern = \"((?:\\d{1,3}\\.){3}\\d{1,3}) - (\\S+) \\[(.+)\\] \\\"(.+?)\\\" (\\d+) (\\d+) \\\"(.+?)\\\" \\\"(.+?)\\\"\"\n",
    "grokpattern = re.compile(grokpattern)\n",
    "\n",
    "grokData = []\n",
    "\n",
    "with open(src, \"r\") as logfile:\n",
    "    i = 0\n",
    "    for line in logfile:\n",
    "        i += 1\n",
    "        vars = grokpattern.match(line)\n",
    "        ip = vars.group(1)\n",
    "        struct = {\n",
    "            \"ipv4\": vars.group(1),\n",
    "            \"user\": vars.group(2),\n",
    "            \"timestamp\": vars.group(3),\n",
    "            \"request\": vars.group(4),\n",
    "            \"response\": int(vars.group(5)),\n",
    "            \"bytes\": int(vars.group(6)),\n",
    "            \"referer\": vars.group(7),\n",
    "            \"ua\": vars.group(8)\n",
    "        }\n",
    "        grokData.append(struct)\n",
    "        producer.send(topic, struct)"
   ]
  },
  {
   "cell_type": "code",
   "execution_count": 102,
   "metadata": {},
   "outputs": [
    {
     "name": "stdout",
     "output_type": "stream",
     "text": [
      "ConsumerRecord(topic='json', partition=2, offset=5, timestamp=1519574845716, timestamp_type=0, key=None, value=b'{\"ipv4\": \"233.167.247.91\", \"user\": \"-\", \"timestamp\": \"26/Sep/2017:07:54:24 +0000\", \"request\": \"POST /app/main/posts HTTP/1.0\", \"response\": \"404\", \"bytes\": \"4948\", \"referer\": \"http://www.patel.org/post.asp\", \"ua\": \"Mozilla/5.0 (Macintosh; U; PPC Mac OS X 10_6_4) AppleWebKit/5360 (KHTML, like Gecko) Chrome/14.0.812.0 Safari/5360\"}', checksum=-914190552, serialized_key_size=-1, serialized_value_size=330)\n"
     ]
    }
   ],
   "source": [
    "from kafka import KafkaConsumer\n",
    "consumer = KafkaConsumer(topic, group_id=None, bootstrap_servers=server, auto_offset_reset='earliest')\n",
    "\n",
    "i = 0\n",
    "for msg in consumer:\n",
    "    if i == 5:\n",
    "        print(msg)\n",
    "    i += 1\n",
    "    if i == 10:\n",
    "        break\n",
    "consumer.close(autocommit = False)"
   ]
  },
  {
   "cell_type": "markdown",
   "metadata": {},
   "source": [
    "Kafka stores raw bytes, it it's essentially agnostic to message source format. Storing such clearly sturctural data as bytearray from string is quite inefficient. For example, if we wanted to stora netflow, then kafka disk usage can fill quite fast. \n",
    "\n",
    "Avro is a popular bigdata encoding format that can be used to mitigate this issue. \n",
    "\n",
    "* https://avro.apache.org/docs/1.8.2/spec.html\n",
    "\n",
    "Firstly, we will need to specify our message schema."
   ]
  },
  {
   "cell_type": "code",
   "execution_count": 103,
   "metadata": {},
   "outputs": [],
   "source": [
    "apacheSchema = {\n",
    "    \"name\": \"apache\",\n",
    "    \"type\": \"record\",\n",
    "    \"fields\": [\n",
    "        {\n",
    "            \"name\": \"ipv4\",\n",
    "            \"type\": \"string\"\n",
    "        },\n",
    "        {\n",
    "            \"name\": \"user\",\n",
    "            \"type\": \"string\"\n",
    "        },\n",
    "        {\n",
    "            \"name\": \"timestamp\",\n",
    "            \"type\": \"string\"\n",
    "        },\n",
    "        {\n",
    "            \"name\": \"request\",\n",
    "            \"type\": \"string\"\n",
    "        },\n",
    "        {\n",
    "            \"name\": \"response\",\n",
    "            \"type\": \"int\"\n",
    "        },\n",
    "        {\n",
    "            \"name\": \"bytes\",\n",
    "            \"type\": \"int\"\n",
    "        },\n",
    "        {\n",
    "            \"name\": \"referer\",\n",
    "            \"type\": \"string\"\n",
    "        },\n",
    "        {\n",
    "            \"name\": \"ua\",\n",
    "            \"type\": \"string\"\n",
    "        }\n",
    "    ]\n",
    "}"
   ]
  },
  {
   "cell_type": "code",
   "execution_count": 104,
   "metadata": {},
   "outputs": [],
   "source": [
    "import avro.schema, avro.io\n",
    "import json\n",
    "import io"
   ]
  },
  {
   "cell_type": "code",
   "execution_count": 105,
   "metadata": {},
   "outputs": [],
   "source": [
    "schema = avro.schema.Parse(json.dumps(apacheSchema))"
   ]
  },
  {
   "cell_type": "markdown",
   "metadata": {},
   "source": [
    "Initiate a new producer to another topic. Kafka will not stop you from sending mixed encoded and plain data into same topic, but it will make your like very difficult."
   ]
  },
  {
   "cell_type": "code",
   "execution_count": 127,
   "metadata": {},
   "outputs": [],
   "source": [
    "topic = \"binary\"\n",
    "server = \"kafka:9092\"\n",
    "producer = KafkaProducer(bootstrap_servers=server)"
   ]
  },
  {
   "cell_type": "markdown",
   "metadata": {},
   "source": [
    "Encode data and send it to kafka."
   ]
  },
  {
   "cell_type": "code",
   "execution_count": 128,
   "metadata": {},
   "outputs": [],
   "source": [
    "for log in grokData:\n",
    "    writer = avro.io.DatumWriter(schema)\n",
    "    byteWriter = io.BytesIO()\n",
    "    encoder = avro.io.BinaryEncoder(byteWriter)\n",
    "    writer.write(log, encoder)\n",
    "    raw = byteWriter.getvalue()\n",
    "    producer.send(topic, raw)"
   ]
  },
  {
   "cell_type": "code",
   "execution_count": 134,
   "metadata": {},
   "outputs": [
    {
     "name": "stdout",
     "output_type": "stream",
     "text": [
      "ConsumerRecord(topic='binary', partition=1, offset=0, timestamp=1519579033145, timestamp_type=0, key=None, value=b'\\x1a44.19.216.236\\x02-426/Sep/2017:07:54:24 +00008GET /app/main/posts HTTP/1.0\\x90\\x03\\xf6N*http://www.wong.info/\\xde\\x01Mozilla/5.0 (Macintosh; PPC Mac OS X 10_8_0) AppleWebKit/5322 (KHTML, like Gecko) Chrome/13.0.805.0 Safari/5322', checksum=476458193, serialized_key_size=-1, serialized_value_size=211)\n"
     ]
    }
   ],
   "source": [
    "consumer = KafkaConsumer(topic, group_id=None, bootstrap_servers=server, auto_offset_reset='earliest')\n",
    "\n",
    "i = 0\n",
    "for msg in consumer:\n",
    "    if i % 10 == 0:\n",
    "        print(msg)\n",
    "    i += 1\n",
    "    if i == 10:\n",
    "        break\n",
    "consumer.close(autocommit = False)"
   ]
  },
  {
   "cell_type": "markdown",
   "metadata": {},
   "source": [
    "We now byte data when attempting to consume the topic. We are also missing JSON keys as our schema omits the need for those. To get the data out in raw format, we need to reverse the avro process."
   ]
  },
  {
   "cell_type": "code",
   "execution_count": 139,
   "metadata": {},
   "outputs": [],
   "source": [
    "reader = avro.io.DatumReader(schema)"
   ]
  },
  {
   "cell_type": "code",
   "execution_count": 141,
   "metadata": {},
   "outputs": [
    {
     "name": "stdout",
     "output_type": "stream",
     "text": [
      "{'ipv4': '128.8.102.40', 'user': '-', 'timestamp': '26/Sep/2017:07:54:24 +0000', 'request': 'POST /explore HTTP/1.0', 'response': 200, 'bytes': 4961, 'referer': 'http://www.nichols-cook.com/index/', 'ua': 'Mozilla/5.0 (Windows CE; sl-SI; rv:1.9.0.20) Gecko/2011-06-06 21:48:50 Firefox/3.6.13'}\n"
     ]
    }
   ],
   "source": [
    "consumer = KafkaConsumer(topic, group_id=None, bootstrap_servers=server, auto_offset_reset='earliest')\n",
    "\n",
    "i = 0\n",
    "for msg in consumer:\n",
    "    i += 1\n",
    "    bytes_reader = io.BytesIO(msg.value)\n",
    "    decoder = avro.io.BinaryDecoder(bytes_reader)\n",
    "    payload = reader.read(decoder)\n",
    "    if i == 10:\n",
    "        print(payload)\n",
    "        break"
   ]
  },
  {
   "cell_type": "code",
   "execution_count": null,
   "metadata": {},
   "outputs": [],
   "source": []
  }
 ],
 "metadata": {
  "kernelspec": {
   "display_name": "Python 3",
   "language": "python",
   "name": "python3"
  },
  "language_info": {
   "codemirror_mode": {
    "name": "ipython",
    "version": 3
   },
   "file_extension": ".py",
   "mimetype": "text/x-python",
   "name": "python",
   "nbconvert_exporter": "python",
   "pygments_lexer": "ipython3",
   "version": "3.6.3"
  }
 },
 "nbformat": 4,
 "nbformat_minor": 2
}
