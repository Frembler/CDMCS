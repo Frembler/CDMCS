{
 "cells": [
  {
   "cell_type": "markdown",
   "metadata": {},
   "source": [
    "# Combining redis and elasticsearch"
   ]
  },
  {
   "cell_type": "code",
   "execution_count": 63,
   "metadata": {},
   "outputs": [],
   "source": [
    "import redis"
   ]
  },
  {
   "cell_type": "code",
   "execution_count": 64,
   "metadata": {},
   "outputs": [],
   "source": [
    "r = redis.Redis(host=\"192.168.10.15\", port=6379)"
   ]
  },
  {
   "cell_type": "code",
   "execution_count": 65,
   "metadata": {},
   "outputs": [
    {
     "data": {
      "text/plain": [
       "1"
      ]
     },
     "execution_count": 65,
     "metadata": {},
     "output_type": "execute_result"
    }
   ],
   "source": [
    "key = \"test-1\"\n",
    "r.delete(key)"
   ]
  },
  {
   "cell_type": "code",
   "execution_count": 66,
   "metadata": {},
   "outputs": [],
   "source": [
    "msgs = [\"message {}\".format(i) for i in range(10)]\n",
    "for msg in msgs:\n",
    "    r.rpush(key, msg)"
   ]
  },
  {
   "cell_type": "code",
   "execution_count": 67,
   "metadata": {},
   "outputs": [
    {
     "data": {
      "text/plain": [
       "True"
      ]
     },
     "execution_count": 67,
     "metadata": {},
     "output_type": "execute_result"
    }
   ],
   "source": [
    "from elasticsearch import Elasticsearch\n",
    "e = Elasticsearch(host=\"192.168.10.15\")\n",
    "e.ping()"
   ]
  },
  {
   "cell_type": "code",
   "execution_count": 68,
   "metadata": {},
   "outputs": [],
   "source": [
    "import json\n",
    "bulk = []\n",
    "for msg in r.lrange(key, 0, -1):\n",
    "    bulk.append({\n",
    "        \"index\": {\n",
    "            \"_index\": key,\n",
    "            \"_type\": \"doc\"\n",
    "        }\n",
    "    })\n",
    "    msg = msg.decode(\"utf-8\")\n",
    "    bulk.append({\n",
    "        \"message\": msg\n",
    "    })\n",
    "\n",
    "resp = e.bulk(body=bulk)\n",
    "if resp[\"errors\"]:\n",
    "    print(resp)"
   ]
  },
  {
   "cell_type": "code",
   "execution_count": 69,
   "metadata": {},
   "outputs": [],
   "source": [
    "docs = e.search(key)\n",
    "docs = docs[\"hits\"][\"hits\"]"
   ]
  },
  {
   "cell_type": "code",
   "execution_count": 70,
   "metadata": {},
   "outputs": [
    {
     "name": "stdout",
     "output_type": "stream",
     "text": [
      "{'message': 'message 1'}\n",
      "{'message': 'message 5'}\n",
      "{'message': 'message 6'}\n",
      "{'message': 'message 8'}\n",
      "{'message': 'message 7'}\n",
      "{'message': 'message 1'}\n",
      "{'message': 'message 3'}\n",
      "{'message': 'message 5'}\n",
      "{'message': 'message 6'}\n",
      "{'message': 'message 9'}\n"
     ]
    }
   ],
   "source": [
    "for doc in docs:\n",
    "    print(doc[\"_source\"])"
   ]
  },
  {
   "cell_type": "markdown",
   "metadata": {},
   "source": [
    "# Task\n",
    "\n",
    "* Set up an elasticsearch cluster per group;\n",
    " * Each student should run Suricata and at least one Elastic node;\n",
    " * Elastic node roles are up to you, but please distribute - in other words, someone is proxy, someone is master, someone is worker;\n",
    " * Don't install all roles on all nodes!\n",
    "* Enhance the scripts written in *001-redis* notebook to function as elasticsearch shippers;\n",
    " * Each student should write their own script and should send to their personal index in the group elasticsearch;\n",
    " * You should also set up a common index where you will send messages from all students, it's up to you if you want to write a single consumer for that or if each student sends on their own;"
   ]
  },
  {
   "cell_type": "code",
   "execution_count": null,
   "metadata": {},
   "outputs": [],
   "source": []
  }
 ],
 "metadata": {
  "kernelspec": {
   "display_name": "Python 3",
   "language": "python",
   "name": "python3"
  },
  "language_info": {
   "codemirror_mode": {
    "name": "ipython",
    "version": 3
   },
   "file_extension": ".py",
   "mimetype": "text/x-python",
   "name": "python",
   "nbconvert_exporter": "python",
   "pygments_lexer": "ipython3",
   "version": "3.6.7"
  }
 },
 "nbformat": 4,
 "nbformat_minor": 2
}
