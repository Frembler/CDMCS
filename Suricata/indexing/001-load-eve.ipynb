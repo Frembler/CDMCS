{
 "cells": [
  {
   "cell_type": "code",
   "execution_count": 10,
   "metadata": {},
   "outputs": [],
   "source": [
    "import json"
   ]
  },
  {
   "cell_type": "code",
   "execution_count": 14,
   "metadata": {},
   "outputs": [
    {
     "name": "stdout",
     "output_type": "stream",
     "text": [
      "{'timestamp': '2019-01-21T18:43:49.430934+0000', 'flow_id': 1368834311529946, 'in_iface': 'enp0s3', 'event_type': 'alert', 'src_ip': '10.0.2.15', 'src_port': 58248, 'dest_ip': '91.189.88.152', 'dest_port': 80, 'proto': 'TCP', 'tx_id': 0, 'alert': {'action': 'allowed', 'gid': 1, 'signature_id': 2013504, 'rev': 5, 'signature': 'ET POLICY GNU/Linux APT User-Agent Outbound likely related to package management', 'category': 'Not Suspicious Traffic', 'severity': 3, 'metadata': {'updated_at': ['2011_08_31'], 'created_at': ['2011_08_31']}}, 'http': {'hostname': 'archive.ubuntu.com', 'url': '/ubuntu/pool/universe/libo/libonig/libonig4_6.7.0-1_amd64.deb', 'http_user_agent': 'Debian APT-HTTP/1.3 (1.6.6)', 'http_content_type': 'application/x-debian-package', 'http_method': 'GET', 'protocol': 'HTTP/1.1', 'status': 200, 'length': 1137}, 'app_proto': 'http', 'flow': {'pkts_toserver': 4, 'pkts_toclient': 3, 'bytes_toserver': 381, 'bytes_toclient': 1594, 'start': '2019-01-21T18:43:49.337370+0000'}}\n",
      "{'timestamp': '2019-01-21T18:43:49.635491+0000', 'flow_id': 1368834311529946, 'in_iface': 'enp0s3', 'event_type': 'alert', 'src_ip': '10.0.2.15', 'src_port': 58248, 'dest_ip': '91.189.88.152', 'dest_port': 80, 'proto': 'TCP', 'tx_id': 1, 'alert': {'action': 'allowed', 'gid': 1, 'signature_id': 2013504, 'rev': 5, 'signature': 'ET POLICY GNU/Linux APT User-Agent Outbound likely related to package management', 'category': 'Not Suspicious Traffic', 'severity': 3, 'metadata': {'updated_at': ['2011_08_31'], 'created_at': ['2011_08_31']}}, 'http': {'hostname': 'archive.ubuntu.com', 'url': '/ubuntu/pool/universe/j/jq/libjq1_1.5%2bdfsg-2_amd64.deb', 'http_user_agent': 'Debian APT-HTTP/1.3 (1.6.6)', 'http_content_type': 'application/x-debian-package', 'http_method': 'GET', 'protocol': 'HTTP/1.1', 'status': 200, 'length': 1165}, 'app_proto': 'http', 'flow': {'pkts_toserver': 115, 'pkts_toclient': 165, 'bytes_toserver': 6515, 'bytes_toclient': 129947, 'start': '2019-01-21T18:43:49.337370+0000'}}\n",
      "{'timestamp': '2019-01-21T18:43:49.711640+0000', 'flow_id': 1368834311529946, 'in_iface': 'enp0s3', 'event_type': 'alert', 'src_ip': '10.0.2.15', 'src_port': 58248, 'dest_ip': '91.189.88.152', 'dest_port': 80, 'proto': 'TCP', 'tx_id': 2, 'alert': {'action': 'allowed', 'gid': 1, 'signature_id': 2013504, 'rev': 5, 'signature': 'ET POLICY GNU/Linux APT User-Agent Outbound likely related to package management', 'category': 'Not Suspicious Traffic', 'severity': 3, 'metadata': {'updated_at': ['2011_08_31'], 'created_at': ['2011_08_31']}}, 'http': {'hostname': 'archive.ubuntu.com', 'url': '/ubuntu/pool/universe/j/jq/jq_1.5%2bdfsg-2_amd64.deb', 'http_user_agent': 'Debian APT-HTTP/1.3 (1.6.6)', 'http_content_type': 'application/x-debian-package', 'http_method': 'GET', 'protocol': 'HTTP/1.1', 'status': 200, 'length': 2615}, 'app_proto': 'http', 'flow': {'pkts_toserver': 179, 'pkts_toclient': 294, 'bytes_toserver': 10107, 'bytes_toclient': 249580, 'start': '2019-01-21T18:43:49.337370+0000'}}\n",
      "{'timestamp': '2019-01-21T19:05:42.886071+0000', 'flow_id': 100028043902645, 'in_iface': 'enp0s3', 'event_type': 'alert', 'src_ip': '10.0.2.15', 'src_port': 60896, 'dest_ip': '217.160.0.187', 'dest_port': 80, 'proto': 'TCP', 'tx_id': 0, 'alert': {'action': 'allowed', 'gid': 1, 'signature_id': 2013028, 'rev': 4, 'signature': 'ET POLICY curl User-Agent Outbound', 'category': 'Attempted Information Leak', 'severity': 2, 'metadata': {'updated_at': ['2011_06_14'], 'created_at': ['2011_06_14']}}, 'http': {'hostname': 'testmyids.com', 'url': '/', 'http_user_agent': 'curl/7.58.0', 'http_content_type': 'text/html', 'http_method': 'GET', 'protocol': 'HTTP/1.1', 'status': 200, 'length': 39}, 'app_proto': 'http', 'flow': {'pkts_toserver': 4, 'pkts_toclient': 3, 'bytes_toserver': 313, 'bytes_toclient': 472, 'start': '2019-01-21T19:05:42.802485+0000'}}\n",
      "{'timestamp': '2019-01-21T19:05:42.887340+0000', 'flow_id': 100028043902645, 'in_iface': 'enp0s3', 'event_type': 'alert', 'src_ip': '217.160.0.187', 'src_port': 80, 'dest_ip': '10.0.2.15', 'dest_port': 60896, 'proto': 'TCP', 'alert': {'action': 'allowed', 'gid': 1, 'signature_id': 2100498, 'rev': 7, 'signature': 'GPL ATTACK_RESPONSE id check returned root', 'category': 'Potentially Bad Traffic', 'severity': 2, 'metadata': {'updated_at': ['2010_09_23'], 'created_at': ['2010_09_23']}}, 'http': {'hostname': 'testmyids.com', 'url': '/', 'http_user_agent': 'curl/7.58.0', 'http_content_type': 'text/html', 'http_method': 'GET', 'protocol': 'HTTP/1.1', 'status': 200, 'length': 39}, 'app_proto': 'http', 'flow': {'pkts_toserver': 5, 'pkts_toclient': 4, 'bytes_toserver': 367, 'bytes_toclient': 532, 'start': '2019-01-21T19:05:42.802485+0000'}}\n"
     ]
    }
   ],
   "source": [
    "seenAlerts = []\n",
    "with open(\"/buildbox/logs/eve.json\", \"rb\") as eve:\n",
    "    for line in eve:\n",
    "        try:\n",
    "            line = json.loads(line)\n",
    "            if \"event_type\" in line and line[\"event_type\"] == \"alert\":\n",
    "                print(line)\n",
    "                if \"alert\" in line and \"signature\" in line[\"alert\"] and line[\"alert\"][\"signature\"] not in seenAlerts:\n",
    "                    seenAlerts.append(line[\"alert\"][\"signature\"])\n",
    "        except Exception as e:\n",
    "            pass"
   ]
  },
  {
   "cell_type": "code",
   "execution_count": 16,
   "metadata": {},
   "outputs": [
    {
     "name": "stdout",
     "output_type": "stream",
     "text": [
      "['ET POLICY GNU/Linux APT User-Agent Outbound likely related to package management', 'ET POLICY curl User-Agent Outbound', 'GPL ATTACK_RESPONSE id check returned root']\n"
     ]
    }
   ],
   "source": [
    "print(seenAlerts)"
   ]
  },
  {
   "cell_type": "code",
   "execution_count": null,
   "metadata": {},
   "outputs": [],
   "source": []
  }
 ],
 "metadata": {
  "kernelspec": {
   "display_name": "Python 3",
   "language": "python",
   "name": "python3"
  },
  "language_info": {
   "codemirror_mode": {
    "name": "ipython",
    "version": 3
   },
   "file_extension": ".py",
   "mimetype": "text/x-python",
   "name": "python",
   "nbconvert_exporter": "python",
   "pygments_lexer": "ipython3",
   "version": "3.6.7"
  }
 },
 "nbformat": 4,
 "nbformat_minor": 2
}
