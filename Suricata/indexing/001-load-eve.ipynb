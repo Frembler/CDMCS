{
 "cells": [
  {
   "cell_type": "code",
   "execution_count": 46,
   "metadata": {},
   "outputs": [],
   "source": [
    "import json"
   ]
  },
  {
   "cell_type": "code",
   "execution_count": 47,
   "metadata": {},
   "outputs": [],
   "source": [
    "def readEve():\n",
    "    with open(\"/buildbox/logs/eve.json\", \"rb\") as eve:\n",
    "        for line in eve: \n",
    "            try:\n",
    "                yield json.loads(line)\n",
    "            except json.JSONDecodeError as e:\n",
    "                next"
   ]
  },
  {
   "cell_type": "code",
   "execution_count": 48,
   "metadata": {},
   "outputs": [
    {
     "name": "stdout",
     "output_type": "stream",
     "text": [
      "2019-01-22T08:45:46.462667+0000 10.0.2.15 43492 -> 91.189.88.161 80 2013504\n",
      "2019-01-22T08:45:46.462022+0000 10.0.2.15 43490 -> 91.189.88.161 80 2013504\n",
      "2019-01-22T08:45:46.510391+0000 10.0.2.15 43490 -> 91.189.88.161 80 2013504\n",
      "2019-01-22T08:45:46.689711+0000 10.0.2.15 43490 -> 91.189.88.161 80 2013504\n",
      "2019-01-22T08:45:46.853887+0000 10.0.2.15 43490 -> 91.189.88.161 80 2013504\n",
      "2019-01-22T08:46:17.136615+0000 10.0.2.15 41584 -> 217.160.0.187 80 2013028\n",
      "2019-01-22T08:46:17.137566+0000 217.160.0.187 80 -> 10.0.2.15 41584 2100498\n"
     ]
    }
   ],
   "source": [
    "seenAlerts = []\n",
    "\n",
    "for line in readEve():\n",
    "    if \"event_type\" in line and line[\"event_type\"] == \"alert\":\n",
    "        flattened = \"{} {} {} -> {} {} {}\".format(\n",
    "            line[\"timestamp\"], \n",
    "            line[\"src_ip\"], \n",
    "            line[\"src_port\"],\n",
    "            line[\"dest_ip\"], \n",
    "            line[\"dest_port\"], \n",
    "            line[\"alert\"][\"signature_id\"]\n",
    "        )\n",
    "        print(flattened)\n",
    "        if line[\"alert\"][\"signature\"] not in seenAlerts:\n",
    "            seenAlerts.append(line[\"alert\"][\"signature\"])"
   ]
  },
  {
   "cell_type": "code",
   "execution_count": 49,
   "metadata": {},
   "outputs": [
    {
     "name": "stdout",
     "output_type": "stream",
     "text": [
      "['ET POLICY GNU/Linux APT User-Agent Outbound likely related to package management', 'ET POLICY curl User-Agent Outbound', 'GPL ATTACK_RESPONSE id check returned root']\n"
     ]
    }
   ],
   "source": [
    "print(seenAlerts)"
   ]
  },
  {
   "cell_type": "code",
   "execution_count": null,
   "metadata": {},
   "outputs": [],
   "source": []
  }
 ],
 "metadata": {
  "kernelspec": {
   "display_name": "Python 3",
   "language": "python",
   "name": "python3"
  },
  "language_info": {
   "codemirror_mode": {
    "name": "ipython",
    "version": 3
   },
   "file_extension": ".py",
   "mimetype": "text/x-python",
   "name": "python",
   "nbconvert_exporter": "python",
   "pygments_lexer": "ipython3",
   "version": "3.6.7"
  }
 },
 "nbformat": 4,
 "nbformat_minor": 2
}
