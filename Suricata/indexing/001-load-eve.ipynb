{
 "cells": [
  {
   "cell_type": "markdown",
   "metadata": {},
   "source": [
    "# Playing with eve.json"
   ]
  },
  {
   "cell_type": "markdown",
   "metadata": {},
   "source": [
    "Make sure your suricata build box is producing or has produced logs, and that synced mappings for both boxes are correct. You can also use singlehost or rules box, provided `eve.json` and `default-log-dir` are properly configured."
   ]
  },
  {
   "cell_type": "code",
   "execution_count": 2,
   "metadata": {},
   "outputs": [
    {
     "name": "stdout",
     "output_type": "stream",
     "text": [
      "Filesystem             Size  Used Avail Use% Mounted on\n",
      "udev                   2.0G     0  2.0G   0% /dev\n",
      "tmpfs                  395M  632K  394M   1% /run\n",
      "/dev/sda1              9.7G  4.2G  5.5G  44% /\n",
      "tmpfs                  2.0G     0  2.0G   0% /dev/shm\n",
      "tmpfs                  5.0M     0  5.0M   0% /run/lock\n",
      "tmpfs                  2.0G     0  2.0G   0% /sys/fs/cgroup\n",
      "rulebox                452G  249G  203G  56% /rulebox\n",
      "vagrant                452G  249G  203G  56% /vagrant\n",
      "buildbox               452G  249G  203G  56% /buildbox\n",
      "singlehost             452G  249G  203G  56% /singlehost\n",
      "home_vagrant_localbox  452G  249G  203G  56% /home/vagrant/localbox\n",
      "tmpfs                  395M   20K  395M   1% /run/user/1000\n",
      "\n"
     ]
    }
   ],
   "source": [
    "import subprocess\n",
    "synced = subprocess.run(['df', '-h'], stdout=subprocess.PIPE).stdout.decode('utf-8')\n",
    "print(synced)"
   ]
  },
  {
   "cell_type": "code",
   "execution_count": 3,
   "metadata": {},
   "outputs": [],
   "source": [
    "import json"
   ]
  },
  {
   "cell_type": "markdown",
   "metadata": {},
   "source": [
    "Reading log files line by line may be a good idea with larger datasets."
   ]
  },
  {
   "cell_type": "code",
   "execution_count": 4,
   "metadata": {},
   "outputs": [],
   "source": [
    "def readEveLineByLine():\n",
    "    with open(\"/buildbox/logs/eve.json\", \"rb\") as eve:\n",
    "        for line in eve: \n",
    "            try:\n",
    "                yield json.loads(line)\n",
    "            except json.JSONDecodeError as e:\n",
    "                next"
   ]
  },
  {
   "cell_type": "markdown",
   "metadata": {},
   "source": [
    "Alternatively, pull everything into memory. Faster, but not sustainable."
   ]
  },
  {
   "cell_type": "code",
   "execution_count": 5,
   "metadata": {},
   "outputs": [],
   "source": [
    "def readEveAllInMem(prune=[]):\n",
    "    with open(\"/buildbox/logs/eve.json\", \"rb\") as eve:\n",
    "        data = eve.readlines()\n",
    "    data = [d.decode(\"utf-8\").rstrip(\"\\n\") for d in data]\n",
    "    data = [json.loads(d) for d in data]\n",
    "    if len(prune) > 0: data = [d for d in data if d[\"event_type\"] not in prune]\n",
    "    return data"
   ]
  },
  {
   "cell_type": "code",
   "execution_count": 6,
   "metadata": {},
   "outputs": [
    {
     "name": "stdout",
     "output_type": "stream",
     "text": [
      "{'timestamp': '2019-01-22T08:45:46.304144+0000', 'flow_id': 107845961557008, 'in_iface': 'enp0s3', 'event_type': 'dns', 'src_ip': '10.0.2.15', 'src_port': 49719, 'dest_ip': '10.0.2.3', 'dest_port': 53, 'proto': 'UDP', 'dns': {'type': 'query', 'id': 47846, 'rrname': '_http._tcp.security.ubuntu.com', 'rrtype': 'SRV', 'tx_id': 0}}\n"
     ]
    }
   ],
   "source": [
    "data = readEveAllInMem(prune=[\"stats\"])\n",
    "print(data[0])"
   ]
  },
  {
   "cell_type": "markdown",
   "metadata": {},
   "source": [
    "Our own fast.log"
   ]
  },
  {
   "cell_type": "code",
   "execution_count": 7,
   "metadata": {},
   "outputs": [
    {
     "name": "stdout",
     "output_type": "stream",
     "text": [
      "2019-01-22T08:45:46.462667+0000 10.0.2.15 43492 -> 91.189.88.161 80 2013504\n",
      "2019-01-22T08:45:46.462022+0000 10.0.2.15 43490 -> 91.189.88.161 80 2013504\n",
      "2019-01-22T08:45:46.510391+0000 10.0.2.15 43490 -> 91.189.88.161 80 2013504\n",
      "2019-01-22T08:45:46.689711+0000 10.0.2.15 43490 -> 91.189.88.161 80 2013504\n",
      "2019-01-22T08:45:46.853887+0000 10.0.2.15 43490 -> 91.189.88.161 80 2013504\n",
      "2019-01-22T08:46:17.136615+0000 10.0.2.15 41584 -> 217.160.0.187 80 2013028\n",
      "2019-01-22T08:46:17.137566+0000 217.160.0.187 80 -> 10.0.2.15 41584 2100498\n"
     ]
    }
   ],
   "source": [
    "seenAlerts = []\n",
    "\n",
    "for line in readEveLineByLine():\n",
    "    if \"event_type\" in line and line[\"event_type\"] == \"alert\":\n",
    "        flattened = \"{} {} {} -> {} {} {}\".format(\n",
    "            line[\"timestamp\"], \n",
    "            line[\"src_ip\"], \n",
    "            line[\"src_port\"],\n",
    "            line[\"dest_ip\"], \n",
    "            line[\"dest_port\"], \n",
    "            line[\"alert\"][\"signature_id\"]\n",
    "        )\n",
    "        print(flattened)\n",
    "        if line[\"alert\"][\"signature\"] not in seenAlerts:\n",
    "            seenAlerts.append(line[\"alert\"][\"signature\"])"
   ]
  },
  {
   "cell_type": "markdown",
   "metadata": {},
   "source": [
    "Note that last snippet also kept track of unique seen alerts."
   ]
  },
  {
   "cell_type": "code",
   "execution_count": 8,
   "metadata": {},
   "outputs": [
    {
     "name": "stdout",
     "output_type": "stream",
     "text": [
      "ET POLICY GNU/Linux APT User-Agent Outbound likely related to package management\n",
      "ET POLICY curl User-Agent Outbound\n",
      "GPL ATTACK_RESPONSE id check returned root\n"
     ]
    }
   ],
   "source": [
    "for alert in seenAlerts:\n",
    "    print(alert)"
   ]
  },
  {
   "cell_type": "markdown",
   "metadata": {},
   "source": [
    "Now, lets do some timestamp parsing to extract all event counts from today into hourly bins. Except stats."
   ]
  },
  {
   "cell_type": "code",
   "execution_count": 9,
   "metadata": {},
   "outputs": [],
   "source": [
    "import datetime as dt\n",
    "events = {}\n",
    "for line in readEveLineByLine():\n",
    "    if line[\"event_type\"] == \"stats\":\n",
    "        continue\n",
    "        \n",
    "    t = line[\"timestamp\"]\n",
    "    t = dt.datetime.strptime(t, '%Y-%m-%dT%H:%M:%S.%f%z')\n",
    "    \n",
    "    if t.date() < dt.datetime.today().date() or t.date() > dt.datetime.today().date():\n",
    "        continue\n",
    "        \n",
    "    evType = line[\"event_type\"]\n",
    "\n",
    "    eventBin = t.hour\n",
    "    if evType not in events:\n",
    "        events[evType] = [0 for x in range(24)]\n",
    "    else:\n",
    "        events[evType][eventBin] += 1"
   ]
  },
  {
   "cell_type": "code",
   "execution_count": 10,
   "metadata": {},
   "outputs": [],
   "source": [
    "import matplotlib.pyplot as plt"
   ]
  },
  {
   "cell_type": "code",
   "execution_count": 11,
   "metadata": {},
   "outputs": [
    {
     "data": {
      "text/plain": [
       "<matplotlib.legend.Legend at 0x7efd983b4860>"
      ]
     },
     "execution_count": 11,
     "metadata": {},
     "output_type": "execute_result"
    },
    {
     "data": {
      "image/png": "[encoded data removed]",
      "text/plain": [
       "<Figure size 432x288 with 1 Axes>"
      ]
     },
     "metadata": {
      "needs_background": "light"
     },
     "output_type": "display_data"
    }
   ],
   "source": [
    "for k, v in events.items():\n",
    "    plt.plot(v, label=k)\n",
    "\n",
    "plt.xlabel('hour')\n",
    "plt.ylabel('raw count')\n",
    "plt.legend()"
   ]
  },
  {
   "cell_type": "markdown",
   "metadata": {},
   "source": [
    "## Tasks\n",
    "\n",
    " * Construct a timeline graph of alerts per alert severity;\n",
    " * Count unique alerts;\n",
    " * Construct a timeline graph from all network events and count unique source and destination IP addresses;\n",
    "   * Scale down to only this hour if you don't have enough events for meaningful picture;\n",
    " * List all unique DNS domain names from query log;\n",
    " * List all observed TLS organizational units and issuer organizations;\n",
    " * List all unique [ja3](https://suricata.readthedocs.io/en/latest/rules/ja3-keywords.html) fingerprints;\n",
    "   * Make sure your suricata build supports ja3 / md5 logging;"
   ]
  },
  {
   "cell_type": "code",
   "execution_count": null,
   "metadata": {},
   "outputs": [],
   "source": []
  }
 ],
 "metadata": {
  "kernelspec": {
   "display_name": "Python 3",
   "language": "python",
   "name": "python3"
  },
  "language_info": {
   "codemirror_mode": {
    "name": "ipython",
    "version": 3
   },
   "file_extension": ".py",
   "mimetype": "text/x-python",
   "name": "python",
   "nbconvert_exporter": "python",
   "pygments_lexer": "ipython3",
   "version": "3.6.7"
  }
 },
 "nbformat": 4,
 "nbformat_minor": 2
}
