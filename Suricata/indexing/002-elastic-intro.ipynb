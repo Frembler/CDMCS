{
 "cells": [
  {
   "cell_type": "markdown",
   "metadata": {},
   "source": [
    "# Getting started with Elastic\n",
    "\n",
    "Getting suricata alert data to elastic and exposing it where needed is surprisingly simple, but can cause a lot of confusion as many tools exist for doing it. Which to use depends on your particular needs. But keep in mind that Elastic search engine is the only core component you need. Everything else depends on you.\n",
    "\n",
    "### First node\n",
    "\n",
    "* https://www.elastic.co/guide/en/elasticsearch/reference/current/docker.html\n",
    "\n",
    "Strictly speaking, Elasticsearch only needs Java as dependency. However, these days it's easier to use docker when deploying your first testing node. Firstly, make sure your deploy host has this kernel setting in place. Otherwise, elasticsearch will fail on startup\n",
    "\n",
    "```\n",
    "sysctl -w vm.max_map_count=262144\n",
    "```\n",
    "\n",
    "Then start the container in console. Note that `-d` flag can be used to daemonize it, but running it from dedicated console window has the benefit of exposing the logs. Very useful for initial debug.\n",
    "\n",
    "```\n",
    "docker run -ti --name my-first-elastic -p 9200:9200 -e \"discovery.type=single-node\" -e \"ES_JAVA_OPTS=-Xms512m -Xmx512m\" -e \"cluster.name=cdmcs\" docker.elastic.co/elasticsearch/elasticsearch-oss:6.5.4\n",
    "```\n"
   ]
  },
  {
   "cell_type": "code",
   "execution_count": null,
   "metadata": {},
   "outputs": [],
   "source": []
  }
 ],
 "metadata": {
  "kernelspec": {
   "display_name": "Python 3",
   "language": "python",
   "name": "python3"
  },
  "language_info": {
   "codemirror_mode": {
    "name": "ipython",
    "version": 3
   },
   "file_extension": ".py",
   "mimetype": "text/x-python",
   "name": "python",
   "nbconvert_exporter": "python",
   "pygments_lexer": "ipython3",
   "version": "3.6.7"
  }
 },
 "nbformat": 4,
 "nbformat_minor": 2
}
